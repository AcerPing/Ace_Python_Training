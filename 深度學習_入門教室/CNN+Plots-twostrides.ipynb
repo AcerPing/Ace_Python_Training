{
 "cells": [
  {
   "cell_type": "code",
   "execution_count": 1,
   "metadata": {},
   "outputs": [],
   "source": [
    "# coding: utf-8\n",
    "# 使用Conv2D的CNN範例"
   ]
  },
  {
   "cell_type": "code",
   "execution_count": 2,
   "metadata": {},
   "outputs": [],
   "source": [
    "# CNN Model 4－two strides"
   ]
  },
  {
   "cell_type": "code",
   "execution_count": 3,
   "metadata": {},
   "outputs": [],
   "source": [
    "# 匯入Keras與其他的函式庫\n",
    "from keras.models import Sequential, Model\n",
    "from keras.layers import Conv2D\n",
    "from keras.utils import np_utils\n",
    "\n",
    "# 匯入顯示SVG時所需的函式庫\n",
    "from IPython.display import SVG\n",
    "from keras.utils.vis_utils import model_to_dot\n"
   ]
  },
  {
   "cell_type": "code",
   "execution_count": 4,
   "metadata": {},
   "outputs": [],
   "source": [
    "# 製作步幅為2的卷積神經網路的模型\n",
    "model = Sequential()\n",
    "model.add(Conv2D(filters=3, kernel_size=(3,3), input_shape=(6,6,1), strides=2, name='Conv2D_1'))\n"
   ]
  },
  {
   "cell_type": "code",
   "execution_count": 5,
   "metadata": {},
   "outputs": [
    {
     "data": {
      "image/svg+xml": [
       "<svg height=\"184pt\" viewBox=\"0.00 0.00 328.00 138.00\" width=\"437pt\" xmlns=\"http://www.w3.org/2000/svg\" xmlns:xlink=\"http://www.w3.org/1999/xlink\">\n",
       "<g class=\"graph\" id=\"graph0\" transform=\"scale(1.33333 1.33333) rotate(0) translate(4 134)\">\n",
       "<title>G</title>\n",
       "<polygon fill=\"white\" points=\"-4,4 -4,-134 324,-134 324,4 -4,4\" stroke=\"none\"/>\n",
       "<!-- 2635271115528 -->\n",
       "<g class=\"node\" id=\"node1\"><title>2635271115528</title>\n",
       "<polygon fill=\"none\" points=\"0,-83.5 0,-129.5 320,-129.5 320,-83.5 0,-83.5\" stroke=\"black\"/>\n",
       "<text font-family=\"Times New Roman,serif\" font-size=\"14.00\" text-anchor=\"middle\" x=\"90.5\" y=\"-102.8\">Conv2D_1_input: InputLayer</text>\n",
       "<polyline fill=\"none\" points=\"181,-83.5 181,-129.5 \" stroke=\"black\"/>\n",
       "<text font-family=\"Times New Roman,serif\" font-size=\"14.00\" text-anchor=\"middle\" x=\"209\" y=\"-114.3\">input:</text>\n",
       "<polyline fill=\"none\" points=\"181,-106.5 237,-106.5 \" stroke=\"black\"/>\n",
       "<text font-family=\"Times New Roman,serif\" font-size=\"14.00\" text-anchor=\"middle\" x=\"209\" y=\"-91.3\">output:</text>\n",
       "<polyline fill=\"none\" points=\"237,-83.5 237,-129.5 \" stroke=\"black\"/>\n",
       "<text font-family=\"Times New Roman,serif\" font-size=\"14.00\" text-anchor=\"middle\" x=\"278.5\" y=\"-114.3\">[(?, 6, 6, 1)]</text>\n",
       "<polyline fill=\"none\" points=\"237,-106.5 320,-106.5 \" stroke=\"black\"/>\n",
       "<text font-family=\"Times New Roman,serif\" font-size=\"14.00\" text-anchor=\"middle\" x=\"278.5\" y=\"-91.3\">[(?, 6, 6, 1)]</text>\n",
       "</g>\n",
       "<!-- 2635271051720 -->\n",
       "<g class=\"node\" id=\"node2\"><title>2635271051720</title>\n",
       "<polygon fill=\"none\" points=\"29,-0.5 29,-46.5 291,-46.5 291,-0.5 29,-0.5\" stroke=\"black\"/>\n",
       "<text font-family=\"Times New Roman,serif\" font-size=\"14.00\" text-anchor=\"middle\" x=\"95\" y=\"-19.8\">Conv2D_1: Conv2D</text>\n",
       "<polyline fill=\"none\" points=\"161,-0.5 161,-46.5 \" stroke=\"black\"/>\n",
       "<text font-family=\"Times New Roman,serif\" font-size=\"14.00\" text-anchor=\"middle\" x=\"189\" y=\"-31.3\">input:</text>\n",
       "<polyline fill=\"none\" points=\"161,-23.5 217,-23.5 \" stroke=\"black\"/>\n",
       "<text font-family=\"Times New Roman,serif\" font-size=\"14.00\" text-anchor=\"middle\" x=\"189\" y=\"-8.3\">output:</text>\n",
       "<polyline fill=\"none\" points=\"217,-0.5 217,-46.5 \" stroke=\"black\"/>\n",
       "<text font-family=\"Times New Roman,serif\" font-size=\"14.00\" text-anchor=\"middle\" x=\"254\" y=\"-31.3\">(?, 6, 6, 1)</text>\n",
       "<polyline fill=\"none\" points=\"217,-23.5 291,-23.5 \" stroke=\"black\"/>\n",
       "<text font-family=\"Times New Roman,serif\" font-size=\"14.00\" text-anchor=\"middle\" x=\"254\" y=\"-8.3\">(?, 2, 2, 3)</text>\n",
       "</g>\n",
       "<!-- 2635271115528&#45;&gt;2635271051720 -->\n",
       "<g class=\"edge\" id=\"edge1\"><title>2635271115528-&gt;2635271051720</title>\n",
       "<path d=\"M160,-83.3664C160,-75.1516 160,-65.6579 160,-56.7252\" fill=\"none\" stroke=\"black\"/>\n",
       "<polygon fill=\"black\" points=\"163.5,-56.6068 160,-46.6068 156.5,-56.6069 163.5,-56.6068\" stroke=\"black\"/>\n",
       "</g>\n",
       "</g>\n",
       "</svg>"
      ],
      "text/plain": [
       "<IPython.core.display.SVG object>"
      ]
     },
     "execution_count": 5,
     "metadata": {},
     "output_type": "execute_result"
    }
   ],
   "source": [
    "# 以SVG格式顯示模型\n",
    "SVG(model_to_dot(model, show_shapes=True).create(prog='dot', format='svg'))"
   ]
  }
 ],
 "metadata": {
  "kernelspec": {
   "display_name": "Python 3",
   "language": "python",
   "name": "python3"
  },
  "language_info": {
   "codemirror_mode": {
    "name": "ipython",
    "version": 3
   },
   "file_extension": ".py",
   "mimetype": "text/x-python",
   "name": "python",
   "nbconvert_exporter": "python",
   "pygments_lexer": "ipython3",
   "version": "3.7.7"
  }
 },
 "nbformat": 4,
 "nbformat_minor": 4
}
