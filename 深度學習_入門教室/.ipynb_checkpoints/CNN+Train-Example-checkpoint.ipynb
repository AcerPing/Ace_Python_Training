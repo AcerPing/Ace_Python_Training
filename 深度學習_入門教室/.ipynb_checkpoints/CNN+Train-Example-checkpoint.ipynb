{
 "cells": [
  {
   "cell_type": "code",
   "execution_count": 1,
   "metadata": {},
   "outputs": [],
   "source": [
    "# coding: utf-8\n",
    "# 使用Conv2D的CNN範例"
   ]
  },
  {
   "cell_type": "code",
   "execution_count": 2,
   "metadata": {},
   "outputs": [],
   "source": [
    "# CNN Train 1"
   ]
  },
  {
   "cell_type": "code",
   "execution_count": 3,
   "metadata": {},
   "outputs": [],
   "source": [
    "# 匯入Keras與其他的函式庫\n",
    "import keras\n",
    "from keras.models import Sequential, Model\n",
    "from keras.layers import Conv2D, Activation, Dense, Flatten \n",
    "from keras.utils import np_utils\n",
    "from keras.optimizers import SGD\n",
    "\n",
    "# 匯入用於提早結束的Callbacks與資料處理所需的Numpy\n",
    "import keras.callbacks as callbacks\n",
    "import numpy as np\n",
    "\n",
    "# 匯入顯示SVG時所需的函式庫\n",
    "from IPython.display import SVG\n",
    "from keras.utils.vis_utils import model_to_dot\n"
   ]
  },
  {
   "cell_type": "code",
   "execution_count": 4,
   "metadata": {},
   "outputs": [],
   "source": [
    "# 準備亂數做為測試資料\n",
    "x_train = np.random.random((100, 6, 6, 1))\n",
    "y_train = keras.utils.to_categorical(np.random.randint(10, size=(100,1)), num_classes=10)\n",
    "\n",
    "x_test = np.random.random((20, 6, 6, 1))\n",
    "y_test = keras.utils.to_categorical(np.random.randint(10, size=(20,1)), num_classes=10)"
   ]
  },
  {
   "cell_type": "code",
   "execution_count": 5,
   "metadata": {},
   "outputs": [],
   "source": [
    "# 製作卷積神經網路的模型\n",
    "model = Sequential()\n",
    "model.add(Conv2D(filters=3, kernel_size=(3,3), input_shape=(6,6,1), kernel_initializer='lecun_uniform', name='Conv2D_1'))\n",
    "model.add(Flatten(name='Flatten_1'))\n",
    "model.add(Dense(units=10, activation='softmax', name='Dense_1'))\n"
   ]
  },
  {
   "cell_type": "code",
   "execution_count": 7,
   "metadata": {},
   "outputs": [
    {
     "data": {
      "image/svg+xml": [
       "<svg height=\"405pt\" viewBox=\"0.00 0.00 328.00 304.00\" width=\"437pt\" xmlns=\"http://www.w3.org/2000/svg\" xmlns:xlink=\"http://www.w3.org/1999/xlink\">\n",
       "<g class=\"graph\" id=\"graph0\" transform=\"scale(1.33333 1.33333) rotate(0) translate(4 300)\">\n",
       "<title>G</title>\n",
       "<polygon fill=\"white\" points=\"-4,4 -4,-300 324,-300 324,4 -4,4\" stroke=\"none\"/>\n",
       "<!-- 1347647305224 -->\n",
       "<g class=\"node\" id=\"node1\"><title>1347647305224</title>\n",
       "<polygon fill=\"none\" points=\"0,-249.5 0,-295.5 320,-295.5 320,-249.5 0,-249.5\" stroke=\"black\"/>\n",
       "<text font-family=\"Times New Roman,serif\" font-size=\"14.00\" text-anchor=\"middle\" x=\"90.5\" y=\"-268.8\">Conv2D_1_input: InputLayer</text>\n",
       "<polyline fill=\"none\" points=\"181,-249.5 181,-295.5 \" stroke=\"black\"/>\n",
       "<text font-family=\"Times New Roman,serif\" font-size=\"14.00\" text-anchor=\"middle\" x=\"209\" y=\"-280.3\">input:</text>\n",
       "<polyline fill=\"none\" points=\"181,-272.5 237,-272.5 \" stroke=\"black\"/>\n",
       "<text font-family=\"Times New Roman,serif\" font-size=\"14.00\" text-anchor=\"middle\" x=\"209\" y=\"-257.3\">output:</text>\n",
       "<polyline fill=\"none\" points=\"237,-249.5 237,-295.5 \" stroke=\"black\"/>\n",
       "<text font-family=\"Times New Roman,serif\" font-size=\"14.00\" text-anchor=\"middle\" x=\"278.5\" y=\"-280.3\">[(?, 6, 6, 1)]</text>\n",
       "<polyline fill=\"none\" points=\"237,-272.5 320,-272.5 \" stroke=\"black\"/>\n",
       "<text font-family=\"Times New Roman,serif\" font-size=\"14.00\" text-anchor=\"middle\" x=\"278.5\" y=\"-257.3\">[(?, 6, 6, 1)]</text>\n",
       "</g>\n",
       "<!-- 1347647200456 -->\n",
       "<g class=\"node\" id=\"node2\"><title>1347647200456</title>\n",
       "<polygon fill=\"none\" points=\"29,-166.5 29,-212.5 291,-212.5 291,-166.5 29,-166.5\" stroke=\"black\"/>\n",
       "<text font-family=\"Times New Roman,serif\" font-size=\"14.00\" text-anchor=\"middle\" x=\"95\" y=\"-185.8\">Conv2D_1: Conv2D</text>\n",
       "<polyline fill=\"none\" points=\"161,-166.5 161,-212.5 \" stroke=\"black\"/>\n",
       "<text font-family=\"Times New Roman,serif\" font-size=\"14.00\" text-anchor=\"middle\" x=\"189\" y=\"-197.3\">input:</text>\n",
       "<polyline fill=\"none\" points=\"161,-189.5 217,-189.5 \" stroke=\"black\"/>\n",
       "<text font-family=\"Times New Roman,serif\" font-size=\"14.00\" text-anchor=\"middle\" x=\"189\" y=\"-174.3\">output:</text>\n",
       "<polyline fill=\"none\" points=\"217,-166.5 217,-212.5 \" stroke=\"black\"/>\n",
       "<text font-family=\"Times New Roman,serif\" font-size=\"14.00\" text-anchor=\"middle\" x=\"254\" y=\"-197.3\">(?, 6, 6, 1)</text>\n",
       "<polyline fill=\"none\" points=\"217,-189.5 291,-189.5 \" stroke=\"black\"/>\n",
       "<text font-family=\"Times New Roman,serif\" font-size=\"14.00\" text-anchor=\"middle\" x=\"254\" y=\"-174.3\">(?, 4, 4, 3)</text>\n",
       "</g>\n",
       "<!-- 1347647305224&#45;&gt;1347647200456 -->\n",
       "<g class=\"edge\" id=\"edge1\"><title>1347647305224-&gt;1347647200456</title>\n",
       "<path d=\"M160,-249.366C160,-241.152 160,-231.658 160,-222.725\" fill=\"none\" stroke=\"black\"/>\n",
       "<polygon fill=\"black\" points=\"163.5,-222.607 160,-212.607 156.5,-222.607 163.5,-222.607\" stroke=\"black\"/>\n",
       "</g>\n",
       "<!-- 1347647200392 -->\n",
       "<g class=\"node\" id=\"node3\"><title>1347647200392</title>\n",
       "<polygon fill=\"none\" points=\"38.5,-83.5 38.5,-129.5 281.5,-129.5 281.5,-83.5 38.5,-83.5\" stroke=\"black\"/>\n",
       "<text font-family=\"Times New Roman,serif\" font-size=\"14.00\" text-anchor=\"middle\" x=\"95\" y=\"-102.8\">Flatten_1: Flatten</text>\n",
       "<polyline fill=\"none\" points=\"151.5,-83.5 151.5,-129.5 \" stroke=\"black\"/>\n",
       "<text font-family=\"Times New Roman,serif\" font-size=\"14.00\" text-anchor=\"middle\" x=\"179.5\" y=\"-114.3\">input:</text>\n",
       "<polyline fill=\"none\" points=\"151.5,-106.5 207.5,-106.5 \" stroke=\"black\"/>\n",
       "<text font-family=\"Times New Roman,serif\" font-size=\"14.00\" text-anchor=\"middle\" x=\"179.5\" y=\"-91.3\">output:</text>\n",
       "<polyline fill=\"none\" points=\"207.5,-83.5 207.5,-129.5 \" stroke=\"black\"/>\n",
       "<text font-family=\"Times New Roman,serif\" font-size=\"14.00\" text-anchor=\"middle\" x=\"244.5\" y=\"-114.3\">(?, 4, 4, 3)</text>\n",
       "<polyline fill=\"none\" points=\"207.5,-106.5 281.5,-106.5 \" stroke=\"black\"/>\n",
       "<text font-family=\"Times New Roman,serif\" font-size=\"14.00\" text-anchor=\"middle\" x=\"244.5\" y=\"-91.3\">(?, 48)</text>\n",
       "</g>\n",
       "<!-- 1347647200456&#45;&gt;1347647200392 -->\n",
       "<g class=\"edge\" id=\"edge2\"><title>1347647200456-&gt;1347647200392</title>\n",
       "<path d=\"M160,-166.366C160,-158.152 160,-148.658 160,-139.725\" fill=\"none\" stroke=\"black\"/>\n",
       "<polygon fill=\"black\" points=\"163.5,-139.607 160,-129.607 156.5,-139.607 163.5,-139.607\" stroke=\"black\"/>\n",
       "</g>\n",
       "<!-- 1347647720392 -->\n",
       "<g class=\"node\" id=\"node4\"><title>1347647720392</title>\n",
       "<polygon fill=\"none\" points=\"52,-0.5 52,-46.5 268,-46.5 268,-0.5 52,-0.5\" stroke=\"black\"/>\n",
       "<text font-family=\"Times New Roman,serif\" font-size=\"14.00\" text-anchor=\"middle\" x=\"105.5\" y=\"-19.8\">Dense_1: Dense</text>\n",
       "<polyline fill=\"none\" points=\"159,-0.5 159,-46.5 \" stroke=\"black\"/>\n",
       "<text font-family=\"Times New Roman,serif\" font-size=\"14.00\" text-anchor=\"middle\" x=\"187\" y=\"-31.3\">input:</text>\n",
       "<polyline fill=\"none\" points=\"159,-23.5 215,-23.5 \" stroke=\"black\"/>\n",
       "<text font-family=\"Times New Roman,serif\" font-size=\"14.00\" text-anchor=\"middle\" x=\"187\" y=\"-8.3\">output:</text>\n",
       "<polyline fill=\"none\" points=\"215,-0.5 215,-46.5 \" stroke=\"black\"/>\n",
       "<text font-family=\"Times New Roman,serif\" font-size=\"14.00\" text-anchor=\"middle\" x=\"241.5\" y=\"-31.3\">(?, 48)</text>\n",
       "<polyline fill=\"none\" points=\"215,-23.5 268,-23.5 \" stroke=\"black\"/>\n",
       "<text font-family=\"Times New Roman,serif\" font-size=\"14.00\" text-anchor=\"middle\" x=\"241.5\" y=\"-8.3\">(?, 10)</text>\n",
       "</g>\n",
       "<!-- 1347647200392&#45;&gt;1347647720392 -->\n",
       "<g class=\"edge\" id=\"edge3\"><title>1347647200392-&gt;1347647720392</title>\n",
       "<path d=\"M160,-83.3664C160,-75.1516 160,-65.6579 160,-56.7252\" fill=\"none\" stroke=\"black\"/>\n",
       "<polygon fill=\"black\" points=\"163.5,-56.6068 160,-46.6068 156.5,-56.6069 163.5,-56.6068\" stroke=\"black\"/>\n",
       "</g>\n",
       "</g>\n",
       "</svg>"
      ],
      "text/plain": [
       "<IPython.core.display.SVG object>"
      ]
     },
     "execution_count": 7,
     "metadata": {},
     "output_type": "execute_result"
    }
   ],
   "source": [
    "# 輸出序列\n",
    "SVG(model_to_dot(model, show_shapes=True).create(prog='dot', format='svg'))"
   ]
  },
  {
   "cell_type": "code",
   "execution_count": 8,
   "metadata": {},
   "outputs": [],
   "source": [
    "# 設定提早結束\n",
    "earlyStopping = callbacks.EarlyStopping(monitor='val_loss', patience=5)"
   ]
  },
  {
   "cell_type": "code",
   "execution_count": 10,
   "metadata": {},
   "outputs": [
    {
     "name": "stdout",
     "output_type": "stream",
     "text": [
      "Epoch 1/10\n",
      "3/3 [==============================] - 0s 37ms/step - loss: 0.0949 - val_loss: 0.0958\n",
      "Epoch 2/10\n",
      "3/3 [==============================] - 0s 9ms/step - loss: 0.0949 - val_loss: 0.0958\n",
      "Epoch 3/10\n",
      "3/3 [==============================] - 0s 9ms/step - loss: 0.0949 - val_loss: 0.0958\n",
      "Epoch 4/10\n",
      "3/3 [==============================] - 0s 8ms/step - loss: 0.0949 - val_loss: 0.0958\n",
      "Epoch 5/10\n",
      "3/3 [==============================] - 0s 8ms/step - loss: 0.0949 - val_loss: 0.0958\n",
      "Epoch 6/10\n",
      "3/3 [==============================] - 0s 8ms/step - loss: 0.0948 - val_loss: 0.0958\n",
      "Epoch 7/10\n",
      "3/3 [==============================] - 0s 8ms/step - loss: 0.0948 - val_loss: 0.0958\n",
      "Epoch 8/10\n",
      "3/3 [==============================] - 0s 8ms/step - loss: 0.0948 - val_loss: 0.0958\n",
      "Epoch 9/10\n",
      "3/3 [==============================] - 0s 9ms/step - loss: 0.0948 - val_loss: 0.0958\n",
      "Epoch 10/10\n",
      "3/3 [==============================] - 0s 9ms/step - loss: 0.0948 - val_loss: 0.0957\n"
     ]
    },
    {
     "data": {
      "text/plain": [
       "<tensorflow.python.keras.callbacks.History at 0x139c9132088>"
      ]
     },
     "execution_count": 10,
     "metadata": {},
     "output_type": "execute_result"
    }
   ],
   "source": [
    "# 編譯模型\n",
    "model.compile(loss='mean_squared_error', optimizer='sgd')\n",
    "model.fit(x_train, y_train, batch_size=32, epochs=10, callbacks=[earlyStopping], validation_split=0.2)"
   ]
  }
 ],
 "metadata": {
  "kernelspec": {
   "display_name": "Python 3",
   "language": "python",
   "name": "python3"
  },
  "language_info": {
   "codemirror_mode": {
    "name": "ipython",
    "version": 3
   },
   "file_extension": ".py",
   "mimetype": "text/x-python",
   "name": "python",
   "nbconvert_exporter": "python",
   "pygments_lexer": "ipython3",
   "version": "3.7.7"
  }
 },
 "nbformat": 4,
 "nbformat_minor": 4
}
