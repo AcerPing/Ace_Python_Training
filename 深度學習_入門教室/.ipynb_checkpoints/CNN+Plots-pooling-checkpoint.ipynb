{
 "cells": [
  {
   "cell_type": "code",
   "execution_count": 1,
   "metadata": {},
   "outputs": [],
   "source": [
    "# coding: utf-8\n",
    "# 使用Conv2D的CNN範例"
   ]
  },
  {
   "cell_type": "code",
   "execution_count": 2,
   "metadata": {},
   "outputs": [],
   "source": [
    "# CNN Model 6－Pooling"
   ]
  },
  {
   "cell_type": "code",
   "execution_count": 3,
   "metadata": {},
   "outputs": [],
   "source": [
    "# 匯入Keras與其他的函式庫\n",
    "from keras.models import Sequential, Model\n",
    "from keras.layers import Conv2D, MaxPooling2D\n",
    "from keras.utils import np_utils\n",
    "\n",
    "# 匯入顯示SVG時所需的函式庫\n",
    "from IPython.display import SVG\n",
    "from keras.utils.vis_utils import model_to_dot\n"
   ]
  },
  {
   "cell_type": "code",
   "execution_count": 4,
   "metadata": {},
   "outputs": [],
   "source": [
    "# 製作池化層的卷積神經網路模型\n",
    "model = Sequential()\n",
    "model.add(Conv2D(filters=3, kernel_size=(3,3), input_shape=(6,6,1), strides=2, name='Conv2D_1'))\n",
    "model.add(MaxPooling2D(pool_size=(2,2), name='MaxPooling2D_1'))\n"
   ]
  },
  {
   "cell_type": "code",
   "execution_count": 5,
   "metadata": {},
   "outputs": [
    {
     "data": {
      "image/svg+xml": [
       "<svg height=\"295pt\" viewBox=\"0.00 0.00 344.00 221.00\" width=\"459pt\" xmlns=\"http://www.w3.org/2000/svg\" xmlns:xlink=\"http://www.w3.org/1999/xlink\">\n",
       "<g class=\"graph\" id=\"graph0\" transform=\"scale(1.33333 1.33333) rotate(0) translate(4 217)\">\n",
       "<title>G</title>\n",
       "<polygon fill=\"white\" points=\"-4,4 -4,-217 340,-217 340,4 -4,4\" stroke=\"none\"/>\n",
       "<!-- 1971887056392 -->\n",
       "<g class=\"node\" id=\"node1\"><title>1971887056392</title>\n",
       "<polygon fill=\"none\" points=\"8,-166.5 8,-212.5 328,-212.5 328,-166.5 8,-166.5\" stroke=\"black\"/>\n",
       "<text font-family=\"Times New Roman,serif\" font-size=\"14.00\" text-anchor=\"middle\" x=\"98.5\" y=\"-185.8\">Conv2D_1_input: InputLayer</text>\n",
       "<polyline fill=\"none\" points=\"189,-166.5 189,-212.5 \" stroke=\"black\"/>\n",
       "<text font-family=\"Times New Roman,serif\" font-size=\"14.00\" text-anchor=\"middle\" x=\"217\" y=\"-197.3\">input:</text>\n",
       "<polyline fill=\"none\" points=\"189,-189.5 245,-189.5 \" stroke=\"black\"/>\n",
       "<text font-family=\"Times New Roman,serif\" font-size=\"14.00\" text-anchor=\"middle\" x=\"217\" y=\"-174.3\">output:</text>\n",
       "<polyline fill=\"none\" points=\"245,-166.5 245,-212.5 \" stroke=\"black\"/>\n",
       "<text font-family=\"Times New Roman,serif\" font-size=\"14.00\" text-anchor=\"middle\" x=\"286.5\" y=\"-197.3\">[(?, 6, 6, 1)]</text>\n",
       "<polyline fill=\"none\" points=\"245,-189.5 328,-189.5 \" stroke=\"black\"/>\n",
       "<text font-family=\"Times New Roman,serif\" font-size=\"14.00\" text-anchor=\"middle\" x=\"286.5\" y=\"-174.3\">[(?, 6, 6, 1)]</text>\n",
       "</g>\n",
       "<!-- 1971887029576 -->\n",
       "<g class=\"node\" id=\"node2\"><title>1971887029576</title>\n",
       "<polygon fill=\"none\" points=\"37,-83.5 37,-129.5 299,-129.5 299,-83.5 37,-83.5\" stroke=\"black\"/>\n",
       "<text font-family=\"Times New Roman,serif\" font-size=\"14.00\" text-anchor=\"middle\" x=\"103\" y=\"-102.8\">Conv2D_1: Conv2D</text>\n",
       "<polyline fill=\"none\" points=\"169,-83.5 169,-129.5 \" stroke=\"black\"/>\n",
       "<text font-family=\"Times New Roman,serif\" font-size=\"14.00\" text-anchor=\"middle\" x=\"197\" y=\"-114.3\">input:</text>\n",
       "<polyline fill=\"none\" points=\"169,-106.5 225,-106.5 \" stroke=\"black\"/>\n",
       "<text font-family=\"Times New Roman,serif\" font-size=\"14.00\" text-anchor=\"middle\" x=\"197\" y=\"-91.3\">output:</text>\n",
       "<polyline fill=\"none\" points=\"225,-83.5 225,-129.5 \" stroke=\"black\"/>\n",
       "<text font-family=\"Times New Roman,serif\" font-size=\"14.00\" text-anchor=\"middle\" x=\"262\" y=\"-114.3\">(?, 6, 6, 1)</text>\n",
       "<polyline fill=\"none\" points=\"225,-106.5 299,-106.5 \" stroke=\"black\"/>\n",
       "<text font-family=\"Times New Roman,serif\" font-size=\"14.00\" text-anchor=\"middle\" x=\"262\" y=\"-91.3\">(?, 2, 2, 3)</text>\n",
       "</g>\n",
       "<!-- 1971887056392&#45;&gt;1971887029576 -->\n",
       "<g class=\"edge\" id=\"edge1\"><title>1971887056392-&gt;1971887029576</title>\n",
       "<path d=\"M168,-166.366C168,-158.152 168,-148.658 168,-139.725\" fill=\"none\" stroke=\"black\"/>\n",
       "<polygon fill=\"black\" points=\"171.5,-139.607 168,-129.607 164.5,-139.607 171.5,-139.607\" stroke=\"black\"/>\n",
       "</g>\n",
       "<!-- 1971887475720 -->\n",
       "<g class=\"node\" id=\"node3\"><title>1971887475720</title>\n",
       "<polygon fill=\"none\" points=\"0,-0.5 0,-46.5 336,-46.5 336,-0.5 0,-0.5\" stroke=\"black\"/>\n",
       "<text font-family=\"Times New Roman,serif\" font-size=\"14.00\" text-anchor=\"middle\" x=\"103\" y=\"-19.8\">MaxPooling2D_1: MaxPooling2D</text>\n",
       "<polyline fill=\"none\" points=\"206,-0.5 206,-46.5 \" stroke=\"black\"/>\n",
       "<text font-family=\"Times New Roman,serif\" font-size=\"14.00\" text-anchor=\"middle\" x=\"234\" y=\"-31.3\">input:</text>\n",
       "<polyline fill=\"none\" points=\"206,-23.5 262,-23.5 \" stroke=\"black\"/>\n",
       "<text font-family=\"Times New Roman,serif\" font-size=\"14.00\" text-anchor=\"middle\" x=\"234\" y=\"-8.3\">output:</text>\n",
       "<polyline fill=\"none\" points=\"262,-0.5 262,-46.5 \" stroke=\"black\"/>\n",
       "<text font-family=\"Times New Roman,serif\" font-size=\"14.00\" text-anchor=\"middle\" x=\"299\" y=\"-31.3\">(?, 2, 2, 3)</text>\n",
       "<polyline fill=\"none\" points=\"262,-23.5 336,-23.5 \" stroke=\"black\"/>\n",
       "<text font-family=\"Times New Roman,serif\" font-size=\"14.00\" text-anchor=\"middle\" x=\"299\" y=\"-8.3\">(?, 1, 1, 3)</text>\n",
       "</g>\n",
       "<!-- 1971887029576&#45;&gt;1971887475720 -->\n",
       "<g class=\"edge\" id=\"edge2\"><title>1971887029576-&gt;1971887475720</title>\n",
       "<path d=\"M168,-83.3664C168,-75.1516 168,-65.6579 168,-56.7252\" fill=\"none\" stroke=\"black\"/>\n",
       "<polygon fill=\"black\" points=\"171.5,-56.6068 168,-46.6068 164.5,-56.6069 171.5,-56.6068\" stroke=\"black\"/>\n",
       "</g>\n",
       "</g>\n",
       "</svg>"
      ],
      "text/plain": [
       "<IPython.core.display.SVG object>"
      ]
     },
     "execution_count": 5,
     "metadata": {},
     "output_type": "execute_result"
    }
   ],
   "source": [
    "# 以SVG格式顯示模型\n",
    "SVG(model_to_dot(model, show_shapes=True).create(prog='dot', format='svg'))"
   ]
  }
 ],
 "metadata": {
  "kernelspec": {
   "display_name": "Python 3",
   "language": "python",
   "name": "python3"
  },
  "language_info": {
   "codemirror_mode": {
    "name": "ipython",
    "version": 3
   },
   "file_extension": ".py",
   "mimetype": "text/x-python",
   "name": "python",
   "nbconvert_exporter": "python",
   "pygments_lexer": "ipython3",
   "version": "3.7.7"
  }
 },
 "nbformat": 4,
 "nbformat_minor": 4
}
