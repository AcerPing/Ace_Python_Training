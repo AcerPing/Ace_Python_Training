{
 "cells": [
  {
   "cell_type": "code",
   "execution_count": 1,
   "metadata": {},
   "outputs": [],
   "source": [
    "# coding: utf-8\n",
    "# 使用SimpleRNN, LSTM, GRU的RNN範例"
   ]
  },
  {
   "cell_type": "code",
   "execution_count": 2,
   "metadata": {},
   "outputs": [],
   "source": [
    "# RNN Model 3－GRU"
   ]
  },
  {
   "cell_type": "code",
   "execution_count": 1,
   "metadata": {},
   "outputs": [],
   "source": [
    "# 匯入keras與其他的函式庫\n",
    "from keras.models import Model\n",
    "from keras.layers import Input, GRU\n",
    "\n",
    "# 匯入顯示SVG時所需的函式庫\n",
    "from IPython.display import SVG\n",
    "from keras.utils.vis_utils import model_to_dot"
   ]
  },
  {
   "cell_type": "code",
   "execution_count": 5,
   "metadata": {},
   "outputs": [],
   "source": [
    "# 定義unit數、step數、輸入維度、輸入資料的形狀\n",
    "units = 10\n",
    "time_steps = 5\n",
    "input_dim = 15\n",
    "input_shape = (time_steps, input_dim)"
   ]
  },
  {
   "cell_type": "code",
   "execution_count": 7,
   "metadata": {},
   "outputs": [],
   "source": [
    "# 製作遞迴神經網路的模型\n",
    "x = Input(shape=input_shape, name='Input')\n",
    "y = GRU(units=units, activation='sigmoid', name='GRU_1')(x)\n",
    "model = Model(inputs=[x], outputs=[y])"
   ]
  },
  {
   "cell_type": "code",
   "execution_count": 8,
   "metadata": {},
   "outputs": [
    {
     "data": {
      "image/svg+xml": [
       "<svg height=\"184pt\" viewBox=\"0.00 0.00 304.00 138.00\" width=\"405pt\" xmlns=\"http://www.w3.org/2000/svg\" xmlns:xlink=\"http://www.w3.org/1999/xlink\">\n",
       "<g class=\"graph\" id=\"graph0\" transform=\"scale(1.33333 1.33333) rotate(0) translate(4 134)\">\n",
       "<title>G</title>\n",
       "<polygon fill=\"white\" points=\"-4,4 -4,-134 300,-134 300,4 -4,4\" stroke=\"none\"/>\n",
       "<!-- 2097941431688 -->\n",
       "<g class=\"node\" id=\"node1\"><title>2097941431688</title>\n",
       "<polygon fill=\"none\" points=\"25.5,-83.5 25.5,-129.5 270.5,-129.5 270.5,-83.5 25.5,-83.5\" stroke=\"black\"/>\n",
       "<text font-family=\"Times New Roman,serif\" font-size=\"14.00\" text-anchor=\"middle\" x=\"82\" y=\"-102.8\">Input: InputLayer</text>\n",
       "<polyline fill=\"none\" points=\"138.5,-83.5 138.5,-129.5 \" stroke=\"black\"/>\n",
       "<text font-family=\"Times New Roman,serif\" font-size=\"14.00\" text-anchor=\"middle\" x=\"166.5\" y=\"-114.3\">input:</text>\n",
       "<polyline fill=\"none\" points=\"138.5,-106.5 194.5,-106.5 \" stroke=\"black\"/>\n",
       "<text font-family=\"Times New Roman,serif\" font-size=\"14.00\" text-anchor=\"middle\" x=\"166.5\" y=\"-91.3\">output:</text>\n",
       "<polyline fill=\"none\" points=\"194.5,-83.5 194.5,-129.5 \" stroke=\"black\"/>\n",
       "<text font-family=\"Times New Roman,serif\" font-size=\"14.00\" text-anchor=\"middle\" x=\"232.5\" y=\"-114.3\">[(?, 5, 15)]</text>\n",
       "<polyline fill=\"none\" points=\"194.5,-106.5 270.5,-106.5 \" stroke=\"black\"/>\n",
       "<text font-family=\"Times New Roman,serif\" font-size=\"14.00\" text-anchor=\"middle\" x=\"232.5\" y=\"-91.3\">[(?, 5, 15)]</text>\n",
       "</g>\n",
       "<!-- 2097941430792 -->\n",
       "<g class=\"node\" id=\"node2\"><title>2097941430792</title>\n",
       "<polygon fill=\"none\" points=\"0,-0.5 0,-46.5 296,-46.5 296,-0.5 0,-0.5\" stroke=\"black\"/>\n",
       "<text font-family=\"Times New Roman,serif\" font-size=\"14.00\" text-anchor=\"middle\" x=\"86.5\" y=\"-19.8\">SimpleRNN_1: SimpleRNN</text>\n",
       "<polyline fill=\"none\" points=\"173,-0.5 173,-46.5 \" stroke=\"black\"/>\n",
       "<text font-family=\"Times New Roman,serif\" font-size=\"14.00\" text-anchor=\"middle\" x=\"201\" y=\"-31.3\">input:</text>\n",
       "<polyline fill=\"none\" points=\"173,-23.5 229,-23.5 \" stroke=\"black\"/>\n",
       "<text font-family=\"Times New Roman,serif\" font-size=\"14.00\" text-anchor=\"middle\" x=\"201\" y=\"-8.3\">output:</text>\n",
       "<polyline fill=\"none\" points=\"229,-0.5 229,-46.5 \" stroke=\"black\"/>\n",
       "<text font-family=\"Times New Roman,serif\" font-size=\"14.00\" text-anchor=\"middle\" x=\"262.5\" y=\"-31.3\">(?, 5, 15)</text>\n",
       "<polyline fill=\"none\" points=\"229,-23.5 296,-23.5 \" stroke=\"black\"/>\n",
       "<text font-family=\"Times New Roman,serif\" font-size=\"14.00\" text-anchor=\"middle\" x=\"262.5\" y=\"-8.3\">(?, 10)</text>\n",
       "</g>\n",
       "<!-- 2097941431688&#45;&gt;2097941430792 -->\n",
       "<g class=\"edge\" id=\"edge1\"><title>2097941431688-&gt;2097941430792</title>\n",
       "<path d=\"M148,-83.3664C148,-75.1516 148,-65.6579 148,-56.7252\" fill=\"none\" stroke=\"black\"/>\n",
       "<polygon fill=\"black\" points=\"151.5,-56.6068 148,-46.6068 144.5,-56.6069 151.5,-56.6068\" stroke=\"black\"/>\n",
       "</g>\n",
       "</g>\n",
       "</svg>"
      ],
      "text/plain": [
       "<IPython.core.display.SVG object>"
      ]
     },
     "execution_count": 8,
     "metadata": {},
     "output_type": "execute_result"
    }
   ],
   "source": [
    "# 以SVG格式顯示模型\n",
    "SVG(model_to_dot(model, show_shapes=True).create(prog='dot', format='svg'))"
   ]
  },
  {
   "cell_type": "code",
   "execution_count": 12,
   "metadata": {},
   "outputs": [],
   "source": [
    "# 製作遞迴神經網路的模型，輸出序列\n",
    "y = GRU(units=units, activation='sigmoid', return_sequences=True, name='GRU_1')(x)\n",
    "model = Model(inputs=[x], outputs=[y])"
   ]
  },
  {
   "cell_type": "code",
   "execution_count": 13,
   "metadata": {},
   "outputs": [
    {
     "data": {
      "image/svg+xml": [
       "<svg height=\"184pt\" viewBox=\"0.00 0.00 304.00 138.00\" width=\"405pt\" xmlns=\"http://www.w3.org/2000/svg\" xmlns:xlink=\"http://www.w3.org/1999/xlink\">\n",
       "<g class=\"graph\" id=\"graph0\" transform=\"scale(1.33333 1.33333) rotate(0) translate(4 134)\">\n",
       "<title>G</title>\n",
       "<polygon fill=\"white\" points=\"-4,4 -4,-134 300,-134 300,4 -4,4\" stroke=\"none\"/>\n",
       "<!-- 2097941431688 -->\n",
       "<g class=\"node\" id=\"node1\"><title>2097941431688</title>\n",
       "<polygon fill=\"none\" points=\"25.5,-83.5 25.5,-129.5 270.5,-129.5 270.5,-83.5 25.5,-83.5\" stroke=\"black\"/>\n",
       "<text font-family=\"Times New Roman,serif\" font-size=\"14.00\" text-anchor=\"middle\" x=\"82\" y=\"-102.8\">Input: InputLayer</text>\n",
       "<polyline fill=\"none\" points=\"138.5,-83.5 138.5,-129.5 \" stroke=\"black\"/>\n",
       "<text font-family=\"Times New Roman,serif\" font-size=\"14.00\" text-anchor=\"middle\" x=\"166.5\" y=\"-114.3\">input:</text>\n",
       "<polyline fill=\"none\" points=\"138.5,-106.5 194.5,-106.5 \" stroke=\"black\"/>\n",
       "<text font-family=\"Times New Roman,serif\" font-size=\"14.00\" text-anchor=\"middle\" x=\"166.5\" y=\"-91.3\">output:</text>\n",
       "<polyline fill=\"none\" points=\"194.5,-83.5 194.5,-129.5 \" stroke=\"black\"/>\n",
       "<text font-family=\"Times New Roman,serif\" font-size=\"14.00\" text-anchor=\"middle\" x=\"232.5\" y=\"-114.3\">[(?, 5, 15)]</text>\n",
       "<polyline fill=\"none\" points=\"194.5,-106.5 270.5,-106.5 \" stroke=\"black\"/>\n",
       "<text font-family=\"Times New Roman,serif\" font-size=\"14.00\" text-anchor=\"middle\" x=\"232.5\" y=\"-91.3\">[(?, 5, 15)]</text>\n",
       "</g>\n",
       "<!-- 2097959095944 -->\n",
       "<g class=\"node\" id=\"node2\"><title>2097959095944</title>\n",
       "<polygon fill=\"none\" points=\"0,-0.5 0,-46.5 296,-46.5 296,-0.5 0,-0.5\" stroke=\"black\"/>\n",
       "<text font-family=\"Times New Roman,serif\" font-size=\"14.00\" text-anchor=\"middle\" x=\"86.5\" y=\"-19.8\">SimpleRNN_1: SimpleRNN</text>\n",
       "<polyline fill=\"none\" points=\"173,-0.5 173,-46.5 \" stroke=\"black\"/>\n",
       "<text font-family=\"Times New Roman,serif\" font-size=\"14.00\" text-anchor=\"middle\" x=\"201\" y=\"-31.3\">input:</text>\n",
       "<polyline fill=\"none\" points=\"173,-23.5 229,-23.5 \" stroke=\"black\"/>\n",
       "<text font-family=\"Times New Roman,serif\" font-size=\"14.00\" text-anchor=\"middle\" x=\"201\" y=\"-8.3\">output:</text>\n",
       "<polyline fill=\"none\" points=\"229,-0.5 229,-46.5 \" stroke=\"black\"/>\n",
       "<text font-family=\"Times New Roman,serif\" font-size=\"14.00\" text-anchor=\"middle\" x=\"262.5\" y=\"-31.3\">(?, 5, 15)</text>\n",
       "<polyline fill=\"none\" points=\"229,-23.5 296,-23.5 \" stroke=\"black\"/>\n",
       "<text font-family=\"Times New Roman,serif\" font-size=\"14.00\" text-anchor=\"middle\" x=\"262.5\" y=\"-8.3\">(?, 5, 10)</text>\n",
       "</g>\n",
       "<!-- 2097941431688&#45;&gt;2097959095944 -->\n",
       "<g class=\"edge\" id=\"edge1\"><title>2097941431688-&gt;2097959095944</title>\n",
       "<path d=\"M148,-83.3664C148,-75.1516 148,-65.6579 148,-56.7252\" fill=\"none\" stroke=\"black\"/>\n",
       "<polygon fill=\"black\" points=\"151.5,-56.6068 148,-46.6068 144.5,-56.6069 151.5,-56.6068\" stroke=\"black\"/>\n",
       "</g>\n",
       "</g>\n",
       "</svg>"
      ],
      "text/plain": [
       "<IPython.core.display.SVG object>"
      ]
     },
     "execution_count": 13,
     "metadata": {},
     "output_type": "execute_result"
    }
   ],
   "source": [
    "# 以SVG格式顯示模型\n",
    "SVG(model_to_dot(model, show_shapes=True).create(prog='dot', format='svg'))"
   ]
  },
  {
   "cell_type": "code",
   "execution_count": 16,
   "metadata": {},
   "outputs": [],
   "source": [
    "# 製作遞迴神經網路的模型，並輸出內部狀態\n",
    "y, state = GRU(units=units, activation='sigmoid', return_state=True, name='GRU_1')(x)\n",
    "model = Model(inputs=[x], outputs=[y])"
   ]
  },
  {
   "cell_type": "code",
   "execution_count": 17,
   "metadata": {},
   "outputs": [
    {
     "data": {
      "image/svg+xml": [
       "<svg height=\"184pt\" viewBox=\"0.00 0.00 342.00 138.00\" width=\"456pt\" xmlns=\"http://www.w3.org/2000/svg\" xmlns:xlink=\"http://www.w3.org/1999/xlink\">\n",
       "<g class=\"graph\" id=\"graph0\" transform=\"scale(1.33333 1.33333) rotate(0) translate(4 134)\">\n",
       "<title>G</title>\n",
       "<polygon fill=\"white\" points=\"-4,4 -4,-134 338,-134 338,4 -4,4\" stroke=\"none\"/>\n",
       "<!-- 2097941431688 -->\n",
       "<g class=\"node\" id=\"node1\"><title>2097941431688</title>\n",
       "<polygon fill=\"none\" points=\"44.5,-83.5 44.5,-129.5 289.5,-129.5 289.5,-83.5 44.5,-83.5\" stroke=\"black\"/>\n",
       "<text font-family=\"Times New Roman,serif\" font-size=\"14.00\" text-anchor=\"middle\" x=\"101\" y=\"-102.8\">Input: InputLayer</text>\n",
       "<polyline fill=\"none\" points=\"157.5,-83.5 157.5,-129.5 \" stroke=\"black\"/>\n",
       "<text font-family=\"Times New Roman,serif\" font-size=\"14.00\" text-anchor=\"middle\" x=\"185.5\" y=\"-114.3\">input:</text>\n",
       "<polyline fill=\"none\" points=\"157.5,-106.5 213.5,-106.5 \" stroke=\"black\"/>\n",
       "<text font-family=\"Times New Roman,serif\" font-size=\"14.00\" text-anchor=\"middle\" x=\"185.5\" y=\"-91.3\">output:</text>\n",
       "<polyline fill=\"none\" points=\"213.5,-83.5 213.5,-129.5 \" stroke=\"black\"/>\n",
       "<text font-family=\"Times New Roman,serif\" font-size=\"14.00\" text-anchor=\"middle\" x=\"251.5\" y=\"-114.3\">[(?, 5, 15)]</text>\n",
       "<polyline fill=\"none\" points=\"213.5,-106.5 289.5,-106.5 \" stroke=\"black\"/>\n",
       "<text font-family=\"Times New Roman,serif\" font-size=\"14.00\" text-anchor=\"middle\" x=\"251.5\" y=\"-91.3\">[(?, 5, 15)]</text>\n",
       "</g>\n",
       "<!-- 2097957059528 -->\n",
       "<g class=\"node\" id=\"node2\"><title>2097957059528</title>\n",
       "<polygon fill=\"none\" points=\"0,-0.5 0,-46.5 334,-46.5 334,-0.5 0,-0.5\" stroke=\"black\"/>\n",
       "<text font-family=\"Times New Roman,serif\" font-size=\"14.00\" text-anchor=\"middle\" x=\"86.5\" y=\"-19.8\">SimpleRNN_1: SimpleRNN</text>\n",
       "<polyline fill=\"none\" points=\"173,-0.5 173,-46.5 \" stroke=\"black\"/>\n",
       "<text font-family=\"Times New Roman,serif\" font-size=\"14.00\" text-anchor=\"middle\" x=\"201\" y=\"-31.3\">input:</text>\n",
       "<polyline fill=\"none\" points=\"173,-23.5 229,-23.5 \" stroke=\"black\"/>\n",
       "<text font-family=\"Times New Roman,serif\" font-size=\"14.00\" text-anchor=\"middle\" x=\"201\" y=\"-8.3\">output:</text>\n",
       "<polyline fill=\"none\" points=\"229,-0.5 229,-46.5 \" stroke=\"black\"/>\n",
       "<text font-family=\"Times New Roman,serif\" font-size=\"14.00\" text-anchor=\"middle\" x=\"281.5\" y=\"-31.3\">(?, 5, 15)</text>\n",
       "<polyline fill=\"none\" points=\"229,-23.5 334,-23.5 \" stroke=\"black\"/>\n",
       "<text font-family=\"Times New Roman,serif\" font-size=\"14.00\" text-anchor=\"middle\" x=\"281.5\" y=\"-8.3\">[(?, 10), (?, 10)]</text>\n",
       "</g>\n",
       "<!-- 2097941431688&#45;&gt;2097957059528 -->\n",
       "<g class=\"edge\" id=\"edge1\"><title>2097941431688-&gt;2097957059528</title>\n",
       "<path d=\"M167,-83.3664C167,-75.1516 167,-65.6579 167,-56.7252\" fill=\"none\" stroke=\"black\"/>\n",
       "<polygon fill=\"black\" points=\"170.5,-56.6068 167,-46.6068 163.5,-56.6069 170.5,-56.6068\" stroke=\"black\"/>\n",
       "</g>\n",
       "</g>\n",
       "</svg>"
      ],
      "text/plain": [
       "<IPython.core.display.SVG object>"
      ]
     },
     "execution_count": 17,
     "metadata": {},
     "output_type": "execute_result"
    }
   ],
   "source": [
    "# 以SVG格式顯示模型\n",
    "SVG(model_to_dot(model, show_shapes=True).create(prog='dot', format='svg'))"
   ]
  }
 ],
 "metadata": {
  "kernelspec": {
   "display_name": "Python 3",
   "language": "python",
   "name": "python3"
  },
  "language_info": {
   "codemirror_mode": {
    "name": "ipython",
    "version": 3
   },
   "file_extension": ".py",
   "mimetype": "text/x-python",
   "name": "python",
   "nbconvert_exporter": "python",
   "pygments_lexer": "ipython3",
   "version": "3.7.7"
  }
 },
 "nbformat": 4,
 "nbformat_minor": 4
}
