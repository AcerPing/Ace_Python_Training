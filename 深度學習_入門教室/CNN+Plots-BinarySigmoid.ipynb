{
 "cells": [
  {
   "cell_type": "code",
   "execution_count": 1,
   "metadata": {},
   "outputs": [],
   "source": [
    "# coding: utf-8\n",
    "# 使用Conv2D的CNN範例"
   ]
  },
  {
   "cell_type": "code",
   "execution_count": 2,
   "metadata": {},
   "outputs": [],
   "source": [
    "# CNN Model 8－Binary Sigmoid"
   ]
  },
  {
   "cell_type": "code",
   "execution_count": 3,
   "metadata": {},
   "outputs": [],
   "source": [
    "# 匯入Keras與其他的函式庫\n",
    "from keras.models import Sequential, Model\n",
    "from keras.layers import Conv2D, Activation, Dense, Flatten \n",
    "from keras.utils import np_utils\n",
    "\n",
    "# 匯入顯示SVG時所需的函式庫\n",
    "from IPython.display import SVG\n",
    "from keras.utils.vis_utils import model_to_dot\n"
   ]
  },
  {
   "cell_type": "code",
   "execution_count": 4,
   "metadata": {},
   "outputs": [],
   "source": [
    "# 製作卷積神經網路→平展化→全連接層的二元輸出模型\n",
    "model = Sequential()\n",
    "model.add(Conv2D(filters=3, kernel_size=(3,3), input_shape=(6,6,1), padding='same', name='Conv2D_1'))\n",
    "model.add(Flatten(name='Flatten_1'))\n",
    "model.add(Dense(units=1, activation='sigmoid', name='Dense_1'))\n"
   ]
  },
  {
   "cell_type": "code",
   "execution_count": 5,
   "metadata": {},
   "outputs": [
    {
     "data": {
      "image/svg+xml": [
       "<svg height=\"405pt\" viewBox=\"0.00 0.00 328.00 304.00\" width=\"437pt\" xmlns=\"http://www.w3.org/2000/svg\" xmlns:xlink=\"http://www.w3.org/1999/xlink\">\n",
       "<g class=\"graph\" id=\"graph0\" transform=\"scale(1.33333 1.33333) rotate(0) translate(4 300)\">\n",
       "<title>G</title>\n",
       "<polygon fill=\"white\" points=\"-4,4 -4,-300 324,-300 324,4 -4,4\" stroke=\"none\"/>\n",
       "<!-- 2796020795592 -->\n",
       "<g class=\"node\" id=\"node1\"><title>2796020795592</title>\n",
       "<polygon fill=\"none\" points=\"0,-249.5 0,-295.5 320,-295.5 320,-249.5 0,-249.5\" stroke=\"black\"/>\n",
       "<text font-family=\"Times New Roman,serif\" font-size=\"14.00\" text-anchor=\"middle\" x=\"90.5\" y=\"-268.8\">Conv2D_1_input: InputLayer</text>\n",
       "<polyline fill=\"none\" points=\"181,-249.5 181,-295.5 \" stroke=\"black\"/>\n",
       "<text font-family=\"Times New Roman,serif\" font-size=\"14.00\" text-anchor=\"middle\" x=\"209\" y=\"-280.3\">input:</text>\n",
       "<polyline fill=\"none\" points=\"181,-272.5 237,-272.5 \" stroke=\"black\"/>\n",
       "<text font-family=\"Times New Roman,serif\" font-size=\"14.00\" text-anchor=\"middle\" x=\"209\" y=\"-257.3\">output:</text>\n",
       "<polyline fill=\"none\" points=\"237,-249.5 237,-295.5 \" stroke=\"black\"/>\n",
       "<text font-family=\"Times New Roman,serif\" font-size=\"14.00\" text-anchor=\"middle\" x=\"278.5\" y=\"-280.3\">[(?, 6, 6, 1)]</text>\n",
       "<polyline fill=\"none\" points=\"237,-272.5 320,-272.5 \" stroke=\"black\"/>\n",
       "<text font-family=\"Times New Roman,serif\" font-size=\"14.00\" text-anchor=\"middle\" x=\"278.5\" y=\"-257.3\">[(?, 6, 6, 1)]</text>\n",
       "</g>\n",
       "<!-- 2796020793480 -->\n",
       "<g class=\"node\" id=\"node2\"><title>2796020793480</title>\n",
       "<polygon fill=\"none\" points=\"29,-166.5 29,-212.5 291,-212.5 291,-166.5 29,-166.5\" stroke=\"black\"/>\n",
       "<text font-family=\"Times New Roman,serif\" font-size=\"14.00\" text-anchor=\"middle\" x=\"95\" y=\"-185.8\">Conv2D_1: Conv2D</text>\n",
       "<polyline fill=\"none\" points=\"161,-166.5 161,-212.5 \" stroke=\"black\"/>\n",
       "<text font-family=\"Times New Roman,serif\" font-size=\"14.00\" text-anchor=\"middle\" x=\"189\" y=\"-197.3\">input:</text>\n",
       "<polyline fill=\"none\" points=\"161,-189.5 217,-189.5 \" stroke=\"black\"/>\n",
       "<text font-family=\"Times New Roman,serif\" font-size=\"14.00\" text-anchor=\"middle\" x=\"189\" y=\"-174.3\">output:</text>\n",
       "<polyline fill=\"none\" points=\"217,-166.5 217,-212.5 \" stroke=\"black\"/>\n",
       "<text font-family=\"Times New Roman,serif\" font-size=\"14.00\" text-anchor=\"middle\" x=\"254\" y=\"-197.3\">(?, 6, 6, 1)</text>\n",
       "<polyline fill=\"none\" points=\"217,-189.5 291,-189.5 \" stroke=\"black\"/>\n",
       "<text font-family=\"Times New Roman,serif\" font-size=\"14.00\" text-anchor=\"middle\" x=\"254\" y=\"-174.3\">(?, 6, 6, 3)</text>\n",
       "</g>\n",
       "<!-- 2796020795592&#45;&gt;2796020793480 -->\n",
       "<g class=\"edge\" id=\"edge1\"><title>2796020795592-&gt;2796020793480</title>\n",
       "<path d=\"M160,-249.366C160,-241.152 160,-231.658 160,-222.725\" fill=\"none\" stroke=\"black\"/>\n",
       "<polygon fill=\"black\" points=\"163.5,-222.607 160,-212.607 156.5,-222.607 163.5,-222.607\" stroke=\"black\"/>\n",
       "</g>\n",
       "<!-- 2796020793416 -->\n",
       "<g class=\"node\" id=\"node3\"><title>2796020793416</title>\n",
       "<polygon fill=\"none\" points=\"38.5,-83.5 38.5,-129.5 281.5,-129.5 281.5,-83.5 38.5,-83.5\" stroke=\"black\"/>\n",
       "<text font-family=\"Times New Roman,serif\" font-size=\"14.00\" text-anchor=\"middle\" x=\"95\" y=\"-102.8\">Flatten_1: Flatten</text>\n",
       "<polyline fill=\"none\" points=\"151.5,-83.5 151.5,-129.5 \" stroke=\"black\"/>\n",
       "<text font-family=\"Times New Roman,serif\" font-size=\"14.00\" text-anchor=\"middle\" x=\"179.5\" y=\"-114.3\">input:</text>\n",
       "<polyline fill=\"none\" points=\"151.5,-106.5 207.5,-106.5 \" stroke=\"black\"/>\n",
       "<text font-family=\"Times New Roman,serif\" font-size=\"14.00\" text-anchor=\"middle\" x=\"179.5\" y=\"-91.3\">output:</text>\n",
       "<polyline fill=\"none\" points=\"207.5,-83.5 207.5,-129.5 \" stroke=\"black\"/>\n",
       "<text font-family=\"Times New Roman,serif\" font-size=\"14.00\" text-anchor=\"middle\" x=\"244.5\" y=\"-114.3\">(?, 6, 6, 3)</text>\n",
       "<polyline fill=\"none\" points=\"207.5,-106.5 281.5,-106.5 \" stroke=\"black\"/>\n",
       "<text font-family=\"Times New Roman,serif\" font-size=\"14.00\" text-anchor=\"middle\" x=\"244.5\" y=\"-91.3\">(?, 108)</text>\n",
       "</g>\n",
       "<!-- 2796020793480&#45;&gt;2796020793416 -->\n",
       "<g class=\"edge\" id=\"edge2\"><title>2796020793480-&gt;2796020793416</title>\n",
       "<path d=\"M160,-166.366C160,-158.152 160,-148.658 160,-139.725\" fill=\"none\" stroke=\"black\"/>\n",
       "<polygon fill=\"black\" points=\"163.5,-139.607 160,-129.607 156.5,-139.607 163.5,-139.607\" stroke=\"black\"/>\n",
       "</g>\n",
       "<!-- 2796021206728 -->\n",
       "<g class=\"node\" id=\"node4\"><title>2796021206728</title>\n",
       "<polygon fill=\"none\" points=\"49,-0.5 49,-46.5 271,-46.5 271,-0.5 49,-0.5\" stroke=\"black\"/>\n",
       "<text font-family=\"Times New Roman,serif\" font-size=\"14.00\" text-anchor=\"middle\" x=\"102.5\" y=\"-19.8\">Dense_1: Dense</text>\n",
       "<polyline fill=\"none\" points=\"156,-0.5 156,-46.5 \" stroke=\"black\"/>\n",
       "<text font-family=\"Times New Roman,serif\" font-size=\"14.00\" text-anchor=\"middle\" x=\"184\" y=\"-31.3\">input:</text>\n",
       "<polyline fill=\"none\" points=\"156,-23.5 212,-23.5 \" stroke=\"black\"/>\n",
       "<text font-family=\"Times New Roman,serif\" font-size=\"14.00\" text-anchor=\"middle\" x=\"184\" y=\"-8.3\">output:</text>\n",
       "<polyline fill=\"none\" points=\"212,-0.5 212,-46.5 \" stroke=\"black\"/>\n",
       "<text font-family=\"Times New Roman,serif\" font-size=\"14.00\" text-anchor=\"middle\" x=\"241.5\" y=\"-31.3\">(?, 108)</text>\n",
       "<polyline fill=\"none\" points=\"212,-23.5 271,-23.5 \" stroke=\"black\"/>\n",
       "<text font-family=\"Times New Roman,serif\" font-size=\"14.00\" text-anchor=\"middle\" x=\"241.5\" y=\"-8.3\">(?, 1)</text>\n",
       "</g>\n",
       "<!-- 2796020793416&#45;&gt;2796021206728 -->\n",
       "<g class=\"edge\" id=\"edge3\"><title>2796020793416-&gt;2796021206728</title>\n",
       "<path d=\"M160,-83.3664C160,-75.1516 160,-65.6579 160,-56.7252\" fill=\"none\" stroke=\"black\"/>\n",
       "<polygon fill=\"black\" points=\"163.5,-56.6068 160,-46.6068 156.5,-56.6069 163.5,-56.6068\" stroke=\"black\"/>\n",
       "</g>\n",
       "</g>\n",
       "</svg>"
      ],
      "text/plain": [
       "<IPython.core.display.SVG object>"
      ]
     },
     "execution_count": 5,
     "metadata": {},
     "output_type": "execute_result"
    }
   ],
   "source": [
    "# 以SVG格式顯示模型\n",
    "SVG(model_to_dot(model, show_shapes=True).create(prog='dot', format='svg'))"
   ]
  }
 ],
 "metadata": {
  "kernelspec": {
   "display_name": "Python 3",
   "language": "python",
   "name": "python3"
  },
  "language_info": {
   "codemirror_mode": {
    "name": "ipython",
    "version": 3
   },
   "file_extension": ".py",
   "mimetype": "text/x-python",
   "name": "python",
   "nbconvert_exporter": "python",
   "pygments_lexer": "ipython3",
   "version": "3.7.7"
  }
 },
 "nbformat": 4,
 "nbformat_minor": 4
}
