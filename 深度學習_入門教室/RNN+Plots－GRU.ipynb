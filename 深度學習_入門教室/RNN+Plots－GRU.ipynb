{
 "cells": [
  {
   "cell_type": "code",
   "execution_count": 1,
   "metadata": {},
   "outputs": [],
   "source": [
    "# coding: utf-8\n",
    "# 使用SimpleRNN, LSTM, GRU的RNN範例"
   ]
  },
  {
   "cell_type": "code",
   "execution_count": 2,
   "metadata": {},
   "outputs": [],
   "source": [
    "# RNN Model 3－GRU"
   ]
  },
  {
   "cell_type": "code",
   "execution_count": 3,
   "metadata": {},
   "outputs": [],
   "source": [
    "# 匯入keras與其他的函式庫\n",
    "from keras.models import Model\n",
    "from keras.layers import Input, GRU\n",
    "\n",
    "# 匯入顯示SVG時所需的函式庫\n",
    "from IPython.display import SVG\n",
    "from keras.utils.vis_utils import model_to_dot"
   ]
  },
  {
   "cell_type": "code",
   "execution_count": 4,
   "metadata": {},
   "outputs": [],
   "source": [
    "# 定義unit數、step數、輸入維度、輸入資料的形狀\n",
    "units = 10\n",
    "time_steps = 5\n",
    "input_dim = 15\n",
    "input_shape = (time_steps, input_dim)"
   ]
  },
  {
   "cell_type": "code",
   "execution_count": 5,
   "metadata": {},
   "outputs": [],
   "source": [
    "# 製作遞迴神經網路的模型\n",
    "x = Input(shape=input_shape, name='Input')\n",
    "y = GRU(units=units, activation='sigmoid', name='GRU_1')(x)\n",
    "model = Model(inputs=[x], outputs=[y])"
   ]
  },
  {
   "cell_type": "code",
   "execution_count": 6,
   "metadata": {},
   "outputs": [
    {
     "data": {
      "image/svg+xml": [
       "<svg height=\"184pt\" viewBox=\"0.00 0.00 253.00 138.00\" width=\"337pt\" xmlns=\"http://www.w3.org/2000/svg\" xmlns:xlink=\"http://www.w3.org/1999/xlink\">\n",
       "<g class=\"graph\" id=\"graph0\" transform=\"scale(1.33333 1.33333) rotate(0) translate(4 134)\">\n",
       "<title>G</title>\n",
       "<polygon fill=\"white\" points=\"-4,4 -4,-134 249,-134 249,4 -4,4\" stroke=\"none\"/>\n",
       "<!-- 2795480278984 -->\n",
       "<g class=\"node\" id=\"node1\"><title>2795480278984</title>\n",
       "<polygon fill=\"none\" points=\"0,-83.5 0,-129.5 245,-129.5 245,-83.5 0,-83.5\" stroke=\"black\"/>\n",
       "<text font-family=\"Times New Roman,serif\" font-size=\"14.00\" text-anchor=\"middle\" x=\"56.5\" y=\"-102.8\">Input: InputLayer</text>\n",
       "<polyline fill=\"none\" points=\"113,-83.5 113,-129.5 \" stroke=\"black\"/>\n",
       "<text font-family=\"Times New Roman,serif\" font-size=\"14.00\" text-anchor=\"middle\" x=\"141\" y=\"-114.3\">input:</text>\n",
       "<polyline fill=\"none\" points=\"113,-106.5 169,-106.5 \" stroke=\"black\"/>\n",
       "<text font-family=\"Times New Roman,serif\" font-size=\"14.00\" text-anchor=\"middle\" x=\"141\" y=\"-91.3\">output:</text>\n",
       "<polyline fill=\"none\" points=\"169,-83.5 169,-129.5 \" stroke=\"black\"/>\n",
       "<text font-family=\"Times New Roman,serif\" font-size=\"14.00\" text-anchor=\"middle\" x=\"207\" y=\"-114.3\">[(?, 5, 15)]</text>\n",
       "<polyline fill=\"none\" points=\"169,-106.5 245,-106.5 \" stroke=\"black\"/>\n",
       "<text font-family=\"Times New Roman,serif\" font-size=\"14.00\" text-anchor=\"middle\" x=\"207\" y=\"-91.3\">[(?, 5, 15)]</text>\n",
       "</g>\n",
       "<!-- 2795480462408 -->\n",
       "<g class=\"node\" id=\"node2\"><title>2795480462408</title>\n",
       "<polygon fill=\"none\" points=\"12,-0.5 12,-46.5 233,-46.5 233,-0.5 12,-0.5\" stroke=\"black\"/>\n",
       "<text font-family=\"Times New Roman,serif\" font-size=\"14.00\" text-anchor=\"middle\" x=\"61\" y=\"-19.8\">GRU_1: GRU</text>\n",
       "<polyline fill=\"none\" points=\"110,-0.5 110,-46.5 \" stroke=\"black\"/>\n",
       "<text font-family=\"Times New Roman,serif\" font-size=\"14.00\" text-anchor=\"middle\" x=\"138\" y=\"-31.3\">input:</text>\n",
       "<polyline fill=\"none\" points=\"110,-23.5 166,-23.5 \" stroke=\"black\"/>\n",
       "<text font-family=\"Times New Roman,serif\" font-size=\"14.00\" text-anchor=\"middle\" x=\"138\" y=\"-8.3\">output:</text>\n",
       "<polyline fill=\"none\" points=\"166,-0.5 166,-46.5 \" stroke=\"black\"/>\n",
       "<text font-family=\"Times New Roman,serif\" font-size=\"14.00\" text-anchor=\"middle\" x=\"199.5\" y=\"-31.3\">(?, 5, 15)</text>\n",
       "<polyline fill=\"none\" points=\"166,-23.5 233,-23.5 \" stroke=\"black\"/>\n",
       "<text font-family=\"Times New Roman,serif\" font-size=\"14.00\" text-anchor=\"middle\" x=\"199.5\" y=\"-8.3\">(?, 10)</text>\n",
       "</g>\n",
       "<!-- 2795480278984&#45;&gt;2795480462408 -->\n",
       "<g class=\"edge\" id=\"edge1\"><title>2795480278984-&gt;2795480462408</title>\n",
       "<path d=\"M122.5,-83.3664C122.5,-75.1516 122.5,-65.6579 122.5,-56.7252\" fill=\"none\" stroke=\"black\"/>\n",
       "<polygon fill=\"black\" points=\"126,-56.6068 122.5,-46.6068 119,-56.6069 126,-56.6068\" stroke=\"black\"/>\n",
       "</g>\n",
       "</g>\n",
       "</svg>"
      ],
      "text/plain": [
       "<IPython.core.display.SVG object>"
      ]
     },
     "execution_count": 6,
     "metadata": {},
     "output_type": "execute_result"
    }
   ],
   "source": [
    "# 以SVG格式顯示模型\n",
    "SVG(model_to_dot(model, show_shapes=True).create(prog='dot', format='svg'))"
   ]
  },
  {
   "cell_type": "code",
   "execution_count": 7,
   "metadata": {},
   "outputs": [],
   "source": [
    "# 製作遞迴神經網路的模型，輸出序列\n",
    "y = GRU(units=units, activation='sigmoid', return_sequences=True, name='GRU_1')(x)\n",
    "model = Model(inputs=[x], outputs=[y])"
   ]
  },
  {
   "cell_type": "code",
   "execution_count": 8,
   "metadata": {},
   "outputs": [
    {
     "data": {
      "image/svg+xml": [
       "<svg height=\"184pt\" viewBox=\"0.00 0.00 253.00 138.00\" width=\"337pt\" xmlns=\"http://www.w3.org/2000/svg\" xmlns:xlink=\"http://www.w3.org/1999/xlink\">\n",
       "<g class=\"graph\" id=\"graph0\" transform=\"scale(1.33333 1.33333) rotate(0) translate(4 134)\">\n",
       "<title>G</title>\n",
       "<polygon fill=\"white\" points=\"-4,4 -4,-134 249,-134 249,4 -4,4\" stroke=\"none\"/>\n",
       "<!-- 2795480278984 -->\n",
       "<g class=\"node\" id=\"node1\"><title>2795480278984</title>\n",
       "<polygon fill=\"none\" points=\"0,-83.5 0,-129.5 245,-129.5 245,-83.5 0,-83.5\" stroke=\"black\"/>\n",
       "<text font-family=\"Times New Roman,serif\" font-size=\"14.00\" text-anchor=\"middle\" x=\"56.5\" y=\"-102.8\">Input: InputLayer</text>\n",
       "<polyline fill=\"none\" points=\"113,-83.5 113,-129.5 \" stroke=\"black\"/>\n",
       "<text font-family=\"Times New Roman,serif\" font-size=\"14.00\" text-anchor=\"middle\" x=\"141\" y=\"-114.3\">input:</text>\n",
       "<polyline fill=\"none\" points=\"113,-106.5 169,-106.5 \" stroke=\"black\"/>\n",
       "<text font-family=\"Times New Roman,serif\" font-size=\"14.00\" text-anchor=\"middle\" x=\"141\" y=\"-91.3\">output:</text>\n",
       "<polyline fill=\"none\" points=\"169,-83.5 169,-129.5 \" stroke=\"black\"/>\n",
       "<text font-family=\"Times New Roman,serif\" font-size=\"14.00\" text-anchor=\"middle\" x=\"207\" y=\"-114.3\">[(?, 5, 15)]</text>\n",
       "<polyline fill=\"none\" points=\"169,-106.5 245,-106.5 \" stroke=\"black\"/>\n",
       "<text font-family=\"Times New Roman,serif\" font-size=\"14.00\" text-anchor=\"middle\" x=\"207\" y=\"-91.3\">[(?, 5, 15)]</text>\n",
       "</g>\n",
       "<!-- 2795482028232 -->\n",
       "<g class=\"node\" id=\"node2\"><title>2795482028232</title>\n",
       "<polygon fill=\"none\" points=\"12,-0.5 12,-46.5 233,-46.5 233,-0.5 12,-0.5\" stroke=\"black\"/>\n",
       "<text font-family=\"Times New Roman,serif\" font-size=\"14.00\" text-anchor=\"middle\" x=\"61\" y=\"-19.8\">GRU_1: GRU</text>\n",
       "<polyline fill=\"none\" points=\"110,-0.5 110,-46.5 \" stroke=\"black\"/>\n",
       "<text font-family=\"Times New Roman,serif\" font-size=\"14.00\" text-anchor=\"middle\" x=\"138\" y=\"-31.3\">input:</text>\n",
       "<polyline fill=\"none\" points=\"110,-23.5 166,-23.5 \" stroke=\"black\"/>\n",
       "<text font-family=\"Times New Roman,serif\" font-size=\"14.00\" text-anchor=\"middle\" x=\"138\" y=\"-8.3\">output:</text>\n",
       "<polyline fill=\"none\" points=\"166,-0.5 166,-46.5 \" stroke=\"black\"/>\n",
       "<text font-family=\"Times New Roman,serif\" font-size=\"14.00\" text-anchor=\"middle\" x=\"199.5\" y=\"-31.3\">(?, 5, 15)</text>\n",
       "<polyline fill=\"none\" points=\"166,-23.5 233,-23.5 \" stroke=\"black\"/>\n",
       "<text font-family=\"Times New Roman,serif\" font-size=\"14.00\" text-anchor=\"middle\" x=\"199.5\" y=\"-8.3\">(?, 5, 10)</text>\n",
       "</g>\n",
       "<!-- 2795480278984&#45;&gt;2795482028232 -->\n",
       "<g class=\"edge\" id=\"edge1\"><title>2795480278984-&gt;2795482028232</title>\n",
       "<path d=\"M122.5,-83.3664C122.5,-75.1516 122.5,-65.6579 122.5,-56.7252\" fill=\"none\" stroke=\"black\"/>\n",
       "<polygon fill=\"black\" points=\"126,-56.6068 122.5,-46.6068 119,-56.6069 126,-56.6068\" stroke=\"black\"/>\n",
       "</g>\n",
       "</g>\n",
       "</svg>"
      ],
      "text/plain": [
       "<IPython.core.display.SVG object>"
      ]
     },
     "execution_count": 8,
     "metadata": {},
     "output_type": "execute_result"
    }
   ],
   "source": [
    "# 以SVG格式顯示模型\n",
    "SVG(model_to_dot(model, show_shapes=True).create(prog='dot', format='svg'))"
   ]
  },
  {
   "cell_type": "code",
   "execution_count": 9,
   "metadata": {},
   "outputs": [],
   "source": [
    "# 製作遞迴神經網路的模型，並輸出內部狀態\n",
    "y, state = GRU(units=units, activation='sigmoid', return_state=True, name='GRU_1')(x)\n",
    "model = Model(inputs=[x], outputs=[y])"
   ]
  },
  {
   "cell_type": "code",
   "execution_count": 10,
   "metadata": {},
   "outputs": [
    {
     "data": {
      "image/svg+xml": [
       "<svg height=\"184pt\" viewBox=\"0.00 0.00 267.00 138.00\" width=\"356pt\" xmlns=\"http://www.w3.org/2000/svg\" xmlns:xlink=\"http://www.w3.org/1999/xlink\">\n",
       "<g class=\"graph\" id=\"graph0\" transform=\"scale(1.33333 1.33333) rotate(0) translate(4 134)\">\n",
       "<title>G</title>\n",
       "<polygon fill=\"white\" points=\"-4,4 -4,-134 263,-134 263,4 -4,4\" stroke=\"none\"/>\n",
       "<!-- 2795480278984 -->\n",
       "<g class=\"node\" id=\"node1\"><title>2795480278984</title>\n",
       "<polygon fill=\"none\" points=\"7,-83.5 7,-129.5 252,-129.5 252,-83.5 7,-83.5\" stroke=\"black\"/>\n",
       "<text font-family=\"Times New Roman,serif\" font-size=\"14.00\" text-anchor=\"middle\" x=\"63.5\" y=\"-102.8\">Input: InputLayer</text>\n",
       "<polyline fill=\"none\" points=\"120,-83.5 120,-129.5 \" stroke=\"black\"/>\n",
       "<text font-family=\"Times New Roman,serif\" font-size=\"14.00\" text-anchor=\"middle\" x=\"148\" y=\"-114.3\">input:</text>\n",
       "<polyline fill=\"none\" points=\"120,-106.5 176,-106.5 \" stroke=\"black\"/>\n",
       "<text font-family=\"Times New Roman,serif\" font-size=\"14.00\" text-anchor=\"middle\" x=\"148\" y=\"-91.3\">output:</text>\n",
       "<polyline fill=\"none\" points=\"176,-83.5 176,-129.5 \" stroke=\"black\"/>\n",
       "<text font-family=\"Times New Roman,serif\" font-size=\"14.00\" text-anchor=\"middle\" x=\"214\" y=\"-114.3\">[(?, 5, 15)]</text>\n",
       "<polyline fill=\"none\" points=\"176,-106.5 252,-106.5 \" stroke=\"black\"/>\n",
       "<text font-family=\"Times New Roman,serif\" font-size=\"14.00\" text-anchor=\"middle\" x=\"214\" y=\"-91.3\">[(?, 5, 15)]</text>\n",
       "</g>\n",
       "<!-- 2795481850760 -->\n",
       "<g class=\"node\" id=\"node2\"><title>2795481850760</title>\n",
       "<polygon fill=\"none\" points=\"0,-0.5 0,-46.5 259,-46.5 259,-0.5 0,-0.5\" stroke=\"black\"/>\n",
       "<text font-family=\"Times New Roman,serif\" font-size=\"14.00\" text-anchor=\"middle\" x=\"49\" y=\"-19.8\">GRU_1: GRU</text>\n",
       "<polyline fill=\"none\" points=\"98,-0.5 98,-46.5 \" stroke=\"black\"/>\n",
       "<text font-family=\"Times New Roman,serif\" font-size=\"14.00\" text-anchor=\"middle\" x=\"126\" y=\"-31.3\">input:</text>\n",
       "<polyline fill=\"none\" points=\"98,-23.5 154,-23.5 \" stroke=\"black\"/>\n",
       "<text font-family=\"Times New Roman,serif\" font-size=\"14.00\" text-anchor=\"middle\" x=\"126\" y=\"-8.3\">output:</text>\n",
       "<polyline fill=\"none\" points=\"154,-0.5 154,-46.5 \" stroke=\"black\"/>\n",
       "<text font-family=\"Times New Roman,serif\" font-size=\"14.00\" text-anchor=\"middle\" x=\"206.5\" y=\"-31.3\">(?, 5, 15)</text>\n",
       "<polyline fill=\"none\" points=\"154,-23.5 259,-23.5 \" stroke=\"black\"/>\n",
       "<text font-family=\"Times New Roman,serif\" font-size=\"14.00\" text-anchor=\"middle\" x=\"206.5\" y=\"-8.3\">[(?, 10), (?, 10)]</text>\n",
       "</g>\n",
       "<!-- 2795480278984&#45;&gt;2795481850760 -->\n",
       "<g class=\"edge\" id=\"edge1\"><title>2795480278984-&gt;2795481850760</title>\n",
       "<path d=\"M129.5,-83.3664C129.5,-75.1516 129.5,-65.6579 129.5,-56.7252\" fill=\"none\" stroke=\"black\"/>\n",
       "<polygon fill=\"black\" points=\"133,-56.6068 129.5,-46.6068 126,-56.6069 133,-56.6068\" stroke=\"black\"/>\n",
       "</g>\n",
       "</g>\n",
       "</svg>"
      ],
      "text/plain": [
       "<IPython.core.display.SVG object>"
      ]
     },
     "execution_count": 10,
     "metadata": {},
     "output_type": "execute_result"
    }
   ],
   "source": [
    "# 以SVG格式顯示模型\n",
    "SVG(model_to_dot(model, show_shapes=True).create(prog='dot', format='svg'))"
   ]
  }
 ],
 "metadata": {
  "kernelspec": {
   "display_name": "Python 3",
   "language": "python",
   "name": "python3"
  },
  "language_info": {
   "codemirror_mode": {
    "name": "ipython",
    "version": 3
   },
   "file_extension": ".py",
   "mimetype": "text/x-python",
   "name": "python",
   "nbconvert_exporter": "python",
   "pygments_lexer": "ipython3",
   "version": "3.7.7"
  }
 },
 "nbformat": 4,
 "nbformat_minor": 4
}
