{
 "cells": [
  {
   "cell_type": "markdown",
   "metadata": {},
   "source": [
    "|      | 國文 | 英文 | 數學 |\n",
    "|------|----- |-----|------|\n",
    "| 小英 | 80   | 90  | 35   | \n",
    "| 小P  | 70   | 88  | 80   |\n",
    "| 阿強 | 50   | 40  | 59   |\n",
    "\n",
    "- 國文跟數學都及格的人?有多少人?\n",
    "- 三科都及格的人?有多少人?\n",
    "- 三個人的數學的平均分數\n",
    "- 三科平均分數大於70分的人有哪些人?"
   ]
  },
  {
   "cell_type": "code",
   "execution_count": 2,
   "metadata": {},
   "outputs": [],
   "source": [
    "score = {'小英':[80,90,35],'小P':[70,88,80],'阿強':[50,40,59]}"
   ]
  },
  {
   "cell_type": "code",
   "execution_count": 4,
   "metadata": {},
   "outputs": [
    {
     "name": "stdout",
     "output_type": "stream",
     "text": [
      "['小P']\n",
      "1\n"
     ]
    }
   ],
   "source": [
    "# 國文跟數學都及格的人?有多少人?\n",
    "print([name for name,points in score.items() if points[0]>60 and points[2]>60])\n",
    "print(len([name for name,points in score.items() if points[0]>60 and points[2]>60]))  "
   ]
  },
  {
   "cell_type": "code",
   "execution_count": 5,
   "metadata": {},
   "outputs": [
    {
     "name": "stdout",
     "output_type": "stream",
     "text": [
      "['小P']\n",
      "1\n"
     ]
    }
   ],
   "source": [
    "# 三科都及格的人?有多少人?\n",
    "print([name for name,points in score.items() if points[0]>60 and points[1]>60 and points[2]>60])\n",
    "print(len([name for name,points in score.items() if points[0]>60 and points[1]>60 and points[2]>60]))"
   ]
  },
  {
   "cell_type": "code",
   "execution_count": 6,
   "metadata": {},
   "outputs": [
    {
     "data": {
      "text/plain": [
       "58"
      ]
     },
     "execution_count": 6,
     "metadata": {},
     "output_type": "execute_result"
    }
   ],
   "source": [
    "# 三個人的數學的平均分數\n",
    "import statistics\n",
    "statistics.mean([person_score[2] for person_score in score.values()])"
   ]
  },
  {
   "cell_type": "code",
   "execution_count": 7,
   "metadata": {},
   "outputs": [
    {
     "data": {
      "text/plain": [
       "['小P']"
      ]
     },
     "execution_count": 7,
     "metadata": {},
     "output_type": "execute_result"
    }
   ],
   "source": [
    "# 三科平均分數大於70分的人有哪些人?\n",
    "import statistics\n",
    "[name for name,points in score.items() if statistics.mean(points) > 70]"
   ]
  },
  {
   "cell_type": "code",
   "execution_count": 8,
   "metadata": {},
   "outputs": [
    {
     "name": "stdout",
     "output_type": "stream",
     "text": [
      "the avg of 小英  is  68.33\n",
      "the avg of 小P  is  79.33\n",
      "the avg of 阿強  is  49.67\n"
     ]
    }
   ],
   "source": [
    "all_pass = []\n",
    "pass_set = [set() for i in range(3)] #國,英,數\n",
    "pass70 = []\n",
    "math_avg = .0\n",
    "avg = 0\n",
    "math_sum = .0\n",
    "for student in score:\n",
    "    sum = .0\n",
    "    for i in range(3):\n",
    "        s = score[student][i]\n",
    "        sum += s\n",
    "        if s >= 60:\n",
    "            pass_set[i].add(student)\n",
    "        if i == 2: #math\n",
    "            math_sum += s #數學的總成績\n",
    "    avg=round(sum/len(score[student]),2)\n",
    "    print('the avg of',student,' is ',avg)\n",
    "    if avg > 70:\n",
    "        pass70.append(student)"
   ]
  },
  {
   "cell_type": "code",
   "execution_count": 9,
   "metadata": {},
   "outputs": [
    {
     "name": "stdout",
     "output_type": "stream",
     "text": [
      "{'小P', '小英'}\n",
      "{'小P', '小英'}\n",
      "{'小P'}\n"
     ]
    }
   ],
   "source": [
    "print(pass_set[0]) #國文及格\n",
    "print(pass_set[1]) #英文及格\n",
    "print(pass_set[2]) #數學及格"
   ]
  },
  {
   "cell_type": "markdown",
   "metadata": {},
   "source": [
    "### 國文跟數學都及格的人?有多少人?"
   ]
  },
  {
   "cell_type": "code",
   "execution_count": 10,
   "metadata": {},
   "outputs": [
    {
     "name": "stdout",
     "output_type": "stream",
     "text": [
      "{'小P'}\n",
      "1\n"
     ]
    }
   ],
   "source": [
    "ans = pass_set[0] & pass_set[2]\n",
    "print(ans)\n",
    "print(len(ans))"
   ]
  },
  {
   "cell_type": "markdown",
   "metadata": {},
   "source": [
    "### 三科都及格的人?有多少人?"
   ]
  },
  {
   "cell_type": "code",
   "execution_count": 11,
   "metadata": {},
   "outputs": [
    {
     "name": "stdout",
     "output_type": "stream",
     "text": [
      "{'小P'}\n",
      "1\n"
     ]
    }
   ],
   "source": [
    "ans = pass_set[0] & pass_set[1] & pass_set[2]\n",
    "print(ans)\n",
    "print(len(ans))"
   ]
  },
  {
   "cell_type": "markdown",
   "metadata": {},
   "source": [
    "### 三個人的數學的平均分數?"
   ]
  },
  {
   "cell_type": "code",
   "execution_count": 12,
   "metadata": {},
   "outputs": [
    {
     "name": "stdout",
     "output_type": "stream",
     "text": [
      "58.0\n"
     ]
    }
   ],
   "source": [
    "print(round(math_sum / len(score), 2))"
   ]
  },
  {
   "cell_type": "markdown",
   "metadata": {},
   "source": [
    "### 三科平均分數大於70分的人有哪些人?"
   ]
  },
  {
   "cell_type": "code",
   "execution_count": 13,
   "metadata": {},
   "outputs": [
    {
     "name": "stdout",
     "output_type": "stream",
     "text": [
      "['小P']\n"
     ]
    }
   ],
   "source": [
    "print(pass70)"
   ]
  },
  {
   "cell_type": "code",
   "execution_count": null,
   "metadata": {},
   "outputs": [],
   "source": []
  }
 ],
 "metadata": {
  "kernelspec": {
   "display_name": "Python 3",
   "language": "python",
   "name": "python3"
  },
  "language_info": {
   "codemirror_mode": {
    "name": "ipython",
    "version": 3
   },
   "file_extension": ".py",
   "mimetype": "text/x-python",
   "name": "python",
   "nbconvert_exporter": "python",
   "pygments_lexer": "ipython3",
   "version": "3.7.7"
  }
 },
 "nbformat": 4,
 "nbformat_minor": 4
}
