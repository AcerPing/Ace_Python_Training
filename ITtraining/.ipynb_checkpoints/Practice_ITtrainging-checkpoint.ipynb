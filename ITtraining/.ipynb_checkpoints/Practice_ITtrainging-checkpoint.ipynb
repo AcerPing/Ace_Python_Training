{
 "cells": [
  {
   "cell_type": "code",
   "execution_count": 1,
   "metadata": {},
   "outputs": [
    {
     "name": "stdout",
     "output_type": "stream",
     "text": [
      "0\n",
      "1\n",
      "2\n",
      "3\n",
      "i=3, n=5\n",
      "4\n",
      "ok\n"
     ]
    }
   ],
   "source": [
    "n = 5\n",
    "i = 0\n",
    "\n",
    "while i < n:\n",
    "    print(i)\n",
    "    if i == 3:\n",
    "        print(\"i=%d, n=%d\"%(i,n))\n",
    "        #break\n",
    "    i += 1\n",
    "else:\n",
    "    print(\"ok\")"
   ]
  },
  {
   "cell_type": "markdown",
   "metadata": {},
   "source": [
    "# List & Range"
   ]
  },
  {
   "cell_type": "code",
   "execution_count": 2,
   "metadata": {},
   "outputs": [
    {
     "name": "stdout",
     "output_type": "stream",
     "text": [
      "1\n",
      "2\n",
      "4\n",
      "7\n",
      "0\n"
     ]
    }
   ],
   "source": [
    "mylist = [1,2,4,7,0]\n",
    "for i in mylist:\n",
    "    print(i)"
   ]
  },
  {
   "cell_type": "code",
   "execution_count": 3,
   "metadata": {},
   "outputs": [
    {
     "name": "stdout",
     "output_type": "stream",
     "text": [
      "[1, 2, 3, 4, 5, 6, 7, 8, 9]\n"
     ]
    }
   ],
   "source": [
    "a = list(range(1,5))\n",
    "a += list(range(5,10))\n",
    "print(a)"
   ]
  },
  {
   "cell_type": "code",
   "execution_count": 4,
   "metadata": {},
   "outputs": [
    {
     "name": "stdout",
     "output_type": "stream",
     "text": [
      "[0, 0, 0]\n",
      "[(1, 2), (1, 2), (1, 2)]\n",
      "[[], [], []]\n",
      "2430572715208\n",
      "2430572715208\n",
      "[[], [], []]\n",
      "2430572918984\n",
      "2430572919304\n"
     ]
    }
   ],
   "source": [
    "print([0]*3)\n",
    "\n",
    "b = [(1,2)] *3\n",
    "print(b)\n",
    "\n",
    "c = [[]]*3\n",
    "print(c)\n",
    "\n",
    "print(id(c[0]))\n",
    "print(id(c[1]))\n",
    "\n",
    "d = [list() for i in range(3)]\n",
    "print(d) #在不同ID\n",
    "print(id(d[0]))\n",
    "print(id(d[1]))\n"
   ]
  },
  {
   "cell_type": "code",
   "execution_count": 5,
   "metadata": {},
   "outputs": [
    {
     "name": "stdout",
     "output_type": "stream",
     "text": [
      "[[0, 1, 2], [0, 1, 2], [0, 1, 2], [0, 1, 2], [0, 1, 2], [0, 1, 2], [0, 1, 2], [0, 1, 2], [0, 1, 2], [0, 1, 2], [0, 1, 2], [0, 1, 2]]\n",
      "------------------\n",
      "[[100, 200, 300, 400], [3, 3, 3, 3], [0, 1, 2], [0, 1, 2], [0, 1, 2], [0, 1, 2], [0, 1, 2], [0, 1, 2], [0, 1, 2], [0, 1, 2], [0, 1, 2], [0, 1, 2]]\n",
      "[3, 3, 3, 3]\n",
      "300\n"
     ]
    }
   ],
   "source": [
    "x = []\n",
    "for i in range(12):\n",
    "    x.append([])\n",
    "    for j in range(3):\n",
    "        x[i].append(j)\n",
    "\n",
    "print(x)\n",
    "print('------------------')\n",
    "x[0] = [100,200,300,400]\n",
    "x[1] = [3,3,3,3]\n",
    "print(x)\n",
    "print(x[1])\n",
    "print(x[0][2])"
   ]
  },
  {
   "cell_type": "code",
   "execution_count": 6,
   "metadata": {},
   "outputs": [
    {
     "name": "stdout",
     "output_type": "stream",
     "text": [
      "2430572974408\n",
      "2430572974728\n",
      "mylist1-----> [[1, 2, 3], [4, 5, 6]]\n",
      "mylist2-----> [[5, 5, 6]]\n",
      "mylist2-----> [[5, 6, 6], [5, 6, 6]]\n",
      "mylist3-----> [[5, 5, 6]]\n",
      "mylist3-----> [[5, 5, 6], [4, 6, 6]]\n"
     ]
    }
   ],
   "source": [
    "# list, dict 內部只是reference某一個元素，而不是copy\n",
    "\n",
    "a = [1,2,3]\n",
    "mylist = []\n",
    "print(id(a))\n",
    "mylist.append(a)\n",
    "a = [4,5,6]\n",
    "print(id(a))\n",
    "mylist.append(a)\n",
    "print('mylist1----->', mylist)\n",
    "\n",
    "mylist2 = []\n",
    "for i in range(2):\n",
    "    a[i] += 1\n",
    "    mylist2.append(a)\n",
    "    #print(id(a))\n",
    "    print('mylist2----->', mylist2)\n",
    "    \n",
    "mylist3 = []\n",
    "for i in range(2):\n",
    "    b = [4,5,6] #reset b\n",
    "    b[i] += 1\n",
    "    #print(id(b))\n",
    "    mylist3.append(b)\n",
    "    print('mylist3----->', mylist3)"
   ]
  },
  {
   "cell_type": "code",
   "execution_count": 7,
   "metadata": {},
   "outputs": [
    {
     "name": "stdout",
     "output_type": "stream",
     "text": [
      "[[0, 0, 0, 0], [0, 0, 0, 0], [0, 0, 0, 0], [0, 0, 0, 0], [0, 0, 0, 0]]\n",
      "[[[0, 4, 0, 0], [0, 0, 0, 0], [0, 0, 0, 0], [0, 0, 0, 0], [0, 0, 0, 0]]]\n",
      "[[0, 4, 0, 0], [0, 0, 0, 0], [0, 0, 0, 0], [0, 0, 0, 0], [0, 0, 0, 0]]\n",
      "[0, 4, 0, 0]\n",
      "4\n",
      "0\n",
      "4\n",
      "0\n",
      "0\n",
      "0\n",
      "0\n",
      "0\n",
      "0\n",
      "0\n",
      "0\n",
      "0\n",
      "0\n",
      "0\n",
      "0\n",
      "0\n",
      "0\n",
      "0\n",
      "0\n",
      "0\n",
      "0\n"
     ]
    }
   ],
   "source": [
    "#多維陣列\n",
    "mylist = []\n",
    "w,h = 5,4\n",
    "\n",
    "Matrix = [[0 for x in range(h)] for y in range(w)]\n",
    "print(Matrix)\n",
    "\n",
    "Matrix[0][1] = 4\n",
    "mylist.append(Matrix)\n",
    "print(mylist)\n",
    "print(mylist[0])\n",
    "print(mylist[0][0])\n",
    "print(mylist[0][0][1])\n",
    "\n",
    "for i in mylist:\n",
    "    for j in i:\n",
    "        for k in j:\n",
    "            print(k)"
   ]
  },
  {
   "cell_type": "markdown",
   "metadata": {},
   "source": [
    "# Tuple Example"
   ]
  },
  {
   "cell_type": "code",
   "execution_count": 8,
   "metadata": {},
   "outputs": [
    {
     "name": "stdout",
     "output_type": "stream",
     "text": [
      "[1, 2, 3, 4]\n",
      "Incremental PCA\n",
      "100\n",
      "[5, 6, 7, 8]\n",
      "PCA\n",
      "200\n",
      "([1, 2, 3, 4], 'Incremental PCA', 100)\n",
      "([5, 6, 7, 8], 'PCA', 200)\n"
     ]
    }
   ],
   "source": [
    "# for a,b var in \n",
    "x = [1,2,3,4]\n",
    "y = [5,6,7,8]\n",
    "\n",
    "for a,b,c in [(x,\"Incremental PCA\",100),(y,\"PCA\",200)]:\n",
    "    print(a)\n",
    "    print(b)\n",
    "    print(c)\n",
    "    \n",
    "for a in [(x,\"Incremental PCA\",100),(y,\"PCA\",200)]:\n",
    "    print(a)"
   ]
  },
  {
   "cell_type": "markdown",
   "metadata": {},
   "source": [
    "# More on Data Structure: List Comprehension"
   ]
  },
  {
   "cell_type": "code",
   "execution_count": 9,
   "metadata": {},
   "outputs": [
    {
     "name": "stdout",
     "output_type": "stream",
     "text": [
      "[1, 2, 3, 4, 5, 6, 7, 8, 9]\n",
      "[1, 2, 3, 4, 5, 6, 7, 8, 9]\n"
     ]
    }
   ],
   "source": [
    "vec = [[1,2,3],[4,5,6],[7,8,9]]\n",
    "y = [num for elem in vec for num in elem ]\n",
    "print(y)\n",
    "\n",
    "combs = []\n",
    "for elem in vec:\n",
    "    for num in elem:\n",
    "        combs.append(num)\n",
    "print(combs)"
   ]
  },
  {
   "cell_type": "code",
   "execution_count": 10,
   "metadata": {},
   "outputs": [
    {
     "name": "stdout",
     "output_type": "stream",
     "text": [
      "[[1, 2, 3, 4], [5, 6, 7, 8], [9, 10, 11, 12]]\n",
      "[[1, 5, 9], [2, 6, 10], [3, 7, 11], [4, 8, 12]]\n",
      "[1, 2, 3, 4] [5, 6, 7, 8] [9, 10, 11, 12]\n",
      "[(1, 5, 9), (2, 6, 10), (3, 7, 11), (4, 8, 12)]\n"
     ]
    }
   ],
   "source": [
    "matrix = [\n",
    "    [1,2,3,4],\n",
    "    [5,6,7,8],\n",
    "    [9,10,11,12]\n",
    "]\n",
    "\n",
    "print(matrix)\n",
    "\n",
    "y = [[row[i] for row in matrix] for i in range(4)]\n",
    "print(y)\n",
    "\n",
    "print(*matrix) #脫離list\n",
    "a = list(zip(*matrix)) #上下併並存在tuple\n",
    "print(a)"
   ]
  },
  {
   "cell_type": "markdown",
   "metadata": {},
   "source": [
    "# Dict Example"
   ]
  },
  {
   "cell_type": "code",
   "execution_count": 11,
   "metadata": {},
   "outputs": [
    {
     "name": "stdout",
     "output_type": "stream",
     "text": [
      "{1: 1, 2: 4, 3: 9}\n"
     ]
    }
   ],
   "source": [
    "# dict comprehension\n",
    "\n",
    "k = {x: x**2 for x in [1,2,3]}\n",
    "print(k)"
   ]
  },
  {
   "cell_type": "code",
   "execution_count": 12,
   "metadata": {},
   "outputs": [
    {
     "name": "stdout",
     "output_type": "stream",
     "text": [
      "{'A': 100, 'B': 1, 'C': 1}\n",
      "['A', 'B', 'C']\n",
      "[100, 1, 1]\n",
      "False\n",
      "Yes 100\n",
      "0 A\n",
      "1 B\n",
      "2 C\n",
      "A 100\n",
      "B 1\n",
      "C 1\n"
     ]
    }
   ],
   "source": [
    "mydict = {'A':100, 'B':1, 'C':1}\n",
    "print(mydict)\n",
    "\n",
    "# keys() values()\n",
    "print(list(mydict.keys()))\n",
    "print(list(mydict.values()))\n",
    "\n",
    "# 'in' operator\n",
    "print('D' in mydict)\n",
    "\n",
    "if 'A' in mydict:\n",
    "    print(\"Yes\", mydict['A'])\n",
    "else:\n",
    "    print(\"No\")\n",
    "    \n",
    "for i,k in enumerate(mydict): #denotes(index,key)\n",
    "    print(i,k)\n",
    "    \n",
    "for k,v in mydict.items(): #denotes(key, value)\n",
    "    print(k,v)"
   ]
  },
  {
   "cell_type": "markdown",
   "metadata": {},
   "source": [
    "# Quiz_1"
   ]
  },
  {
   "cell_type": "markdown",
   "metadata": {},
   "source": [
    "|      | 國文 | 英文 | 數學 |\n",
    "|------|----- |-----|------|\n",
    "| 小英 | 80   | 90  | 35   | \n",
    "| 小P  | 70   | 88  | 80   |\n",
    "| 阿強 | 50   | 40  | 59   |\n",
    "\n",
    "- 國文跟數學都及格的人?有多少人?\n",
    "- 三科都及格的人?有多少人?\n",
    "- 三個人的數學的平均分數?\n",
    "- 三科平均分數大於70分的人有哪些人?"
   ]
  },
  {
   "cell_type": "code",
   "execution_count": 13,
   "metadata": {},
   "outputs": [],
   "source": [
    "score = {'小英':[80,90,35],'小P':[70,88,80],'阿強':[50,40,59]}"
   ]
  },
  {
   "cell_type": "code",
   "execution_count": 14,
   "metadata": {},
   "outputs": [
    {
     "name": "stdout",
     "output_type": "stream",
     "text": [
      "['小P']\n",
      "1\n"
     ]
    }
   ],
   "source": [
    "# 國文跟數學都及格的人?有多少人?\n",
    "print([name for name,points in score.items() if points[0]>60 and points[2]>60])\n",
    "print(len([name for name,points in score.items() if points[0]>60 and points[2]>60]))        "
   ]
  },
  {
   "cell_type": "code",
   "execution_count": 15,
   "metadata": {},
   "outputs": [
    {
     "name": "stdout",
     "output_type": "stream",
     "text": [
      "['小P']\n",
      "1\n"
     ]
    }
   ],
   "source": [
    "# 三科都及格的人?有多少人?\n",
    "print([name for name,points in score.items() if points[0]>60 and points[1]>60 and points[2]>60])\n",
    "print(len([name for name,points in score.items() if points[0]>60 and points[1]>60 and points[2]>60]))"
   ]
  },
  {
   "cell_type": "code",
   "execution_count": 16,
   "metadata": {},
   "outputs": [
    {
     "data": {
      "text/plain": [
       "58"
      ]
     },
     "execution_count": 16,
     "metadata": {},
     "output_type": "execute_result"
    }
   ],
   "source": [
    "# 三個人的數學的平均分數\n",
    "import statistics\n",
    "statistics.mean([person_score[2] for person_score in score.values()])"
   ]
  },
  {
   "cell_type": "code",
   "execution_count": 17,
   "metadata": {},
   "outputs": [
    {
     "data": {
      "text/plain": [
       "['小P']"
      ]
     },
     "execution_count": 17,
     "metadata": {},
     "output_type": "execute_result"
    }
   ],
   "source": [
    "# 三科平均分數大於70分的人有哪些人?\n",
    "import statistics\n",
    "[name for name,points in score.items() if statistics.mean(points) > 70]"
   ]
  },
  {
   "cell_type": "code",
   "execution_count": 18,
   "metadata": {},
   "outputs": [
    {
     "name": "stdout",
     "output_type": "stream",
     "text": [
      "the avg of 小英  is  68.33\n",
      "the avg of 小P  is  79.33\n",
      "the avg of 阿強  is  49.67\n"
     ]
    }
   ],
   "source": [
    "all_pass = []\n",
    "pass_set = [set() for i in range(3)] #國,英,數\n",
    "pass70 = []\n",
    "math_avg = .0\n",
    "avg = 0\n",
    "math_sum = .0\n",
    "for student in score:\n",
    "    sum = .0\n",
    "    for i in range(3):\n",
    "        s = score[student][i]\n",
    "        sum += s\n",
    "        if s >= 60:\n",
    "            pass_set[i].add(student)\n",
    "        if i == 2: #math\n",
    "            math_sum += s #數學的總成績\n",
    "    avg=round(sum/len(score[student]),2)\n",
    "    print('the avg of',student,' is ',avg)\n",
    "    if avg > 70:\n",
    "        pass70.append(student)"
   ]
  },
  {
   "cell_type": "code",
   "execution_count": 19,
   "metadata": {},
   "outputs": [
    {
     "name": "stdout",
     "output_type": "stream",
     "text": [
      "{'小P', '小英'}\n",
      "{'小P', '小英'}\n",
      "{'小P'}\n"
     ]
    }
   ],
   "source": [
    "print(pass_set[0]) #國文及格\n",
    "print(pass_set[1]) #英文及格\n",
    "print(pass_set[2]) #數學及格"
   ]
  },
  {
   "cell_type": "markdown",
   "metadata": {},
   "source": [
    "## 國文跟數學都及格的人?有多少人?"
   ]
  },
  {
   "cell_type": "code",
   "execution_count": 20,
   "metadata": {},
   "outputs": [
    {
     "name": "stdout",
     "output_type": "stream",
     "text": [
      "{'小P'}\n",
      "1\n"
     ]
    }
   ],
   "source": [
    "ans = pass_set[0] & pass_set[2]\n",
    "print(ans)\n",
    "print(len(ans))"
   ]
  },
  {
   "cell_type": "markdown",
   "metadata": {},
   "source": [
    "## 三科都及格的人?有多少人?"
   ]
  },
  {
   "cell_type": "code",
   "execution_count": 21,
   "metadata": {},
   "outputs": [
    {
     "name": "stdout",
     "output_type": "stream",
     "text": [
      "{'小P'}\n",
      "1\n"
     ]
    }
   ],
   "source": [
    "ans = pass_set[0] & pass_set[1] & pass_set[2]\n",
    "print(ans)\n",
    "print(len(ans))"
   ]
  },
  {
   "cell_type": "markdown",
   "metadata": {},
   "source": [
    "## 三個人的數學的平均分數?"
   ]
  },
  {
   "cell_type": "code",
   "execution_count": 22,
   "metadata": {},
   "outputs": [
    {
     "name": "stdout",
     "output_type": "stream",
     "text": [
      "58.0\n"
     ]
    }
   ],
   "source": [
    "print(round(math_sum / len(score), 2))"
   ]
  },
  {
   "cell_type": "markdown",
   "metadata": {},
   "source": [
    "## 三科平均分數大於70分的人有哪些人?"
   ]
  },
  {
   "cell_type": "code",
   "execution_count": 23,
   "metadata": {},
   "outputs": [
    {
     "name": "stdout",
     "output_type": "stream",
     "text": [
      "['小P']\n"
     ]
    }
   ],
   "source": [
    "print(pass70)"
   ]
  },
  {
   "cell_type": "markdown",
   "metadata": {},
   "source": [
    "# Function Call"
   ]
  },
  {
   "cell_type": "code",
   "execution_count": 24,
   "metadata": {},
   "outputs": [
    {
     "name": "stdout",
     "output_type": "stream",
     "text": [
      "0 1 1 2 3 5 8 13 21 34 55 89 144 233 377 610 987 1597 \n"
     ]
    }
   ],
   "source": [
    "# write Fibonacci series up to n\n",
    "def fib(n):\n",
    "    ''' Print a Fibonacci series up to n. '''\n",
    "    a,b = 0,1\n",
    "    while a < n:\n",
    "        print(a, end=' ')\n",
    "        a,b = b,a+b\n",
    "    print()\n",
    "\n",
    "fib(2000)"
   ]
  },
  {
   "cell_type": "code",
   "execution_count": 25,
   "metadata": {},
   "outputs": [
    {
     "name": "stdout",
     "output_type": "stream",
     "text": [
      "[0, 1, 1, 2, 3, 5, 8, 13, 21, 34, 55, 89]\n"
     ]
    }
   ],
   "source": [
    "# return Fibonacci series up to n\n",
    "def fib2(n):\n",
    "    result = []\n",
    "    a,b = 0,1\n",
    "    while a < n:\n",
    "        result.append(a)\n",
    "        a, b = b, a+b\n",
    "    return result\n",
    "\n",
    "x = fib2(100)\n",
    "print(x)"
   ]
  },
  {
   "cell_type": "markdown",
   "metadata": {},
   "source": [
    "# Argument Passing"
   ]
  },
  {
   "cell_type": "code",
   "execution_count": 26,
   "metadata": {},
   "outputs": [
    {
     "data": {
      "text/plain": [
       "'\\nPython的function是屬於call by assignment，由變數型態是mutable或immutable決定是call by value or call by reference\\nmutable belongs to call by reference ; immutable belongs to call by value. \\n'"
      ]
     },
     "execution_count": 26,
     "metadata": {},
     "output_type": "execute_result"
    }
   ],
   "source": [
    "'''\n",
    "Python的function是屬於call by assignment，由變數型態是mutable或immutable決定是call by value or call by reference\n",
    "mutable belongs to call by reference ; immutable belongs to call by value. \n",
    "'''"
   ]
  },
  {
   "cell_type": "code",
   "execution_count": 27,
   "metadata": {},
   "outputs": [
    {
     "name": "stdout",
     "output_type": "stream",
     "text": [
      "200\n",
      "100\n"
     ]
    }
   ],
   "source": [
    "a = 100\n",
    "\n",
    "def fun(a):\n",
    "    a *= 2\n",
    "    print(a)\n",
    "\n",
    "fun(a)\n",
    "print(a)"
   ]
  },
  {
   "cell_type": "code",
   "execution_count": 28,
   "metadata": {},
   "outputs": [
    {
     "name": "stdout",
     "output_type": "stream",
     "text": [
      "hello!it\n",
      "it\n"
     ]
    }
   ],
   "source": [
    "b = 'it'\n",
    "def fun_str(s):\n",
    "    s = \"hello!\"+s\n",
    "    print(s)\n",
    "\n",
    "fun_str(b)\n",
    "print(b)"
   ]
  },
  {
   "cell_type": "code",
   "execution_count": 29,
   "metadata": {},
   "outputs": [
    {
     "name": "stdout",
     "output_type": "stream",
     "text": [
      "[100, 20, 30]\n"
     ]
    }
   ],
   "source": [
    "# function example: List is called by reference\n",
    "#parameter: list\n",
    "\n",
    "def fun(a):\n",
    "    a[0] = 100\n",
    "\n",
    "mylist = [10,20,30]\n",
    "fun(mylist)\n",
    "print(mylist)"
   ]
  },
  {
   "cell_type": "code",
   "execution_count": 30,
   "metadata": {},
   "outputs": [
    {
     "name": "stdout",
     "output_type": "stream",
     "text": [
      "{'a': 10, 'b': 10}\n"
     ]
    }
   ],
   "source": [
    "# function example: dict is called by reference\n",
    "# parameter: dict\n",
    "\n",
    "def fun1(a):\n",
    "    a['a'] = a['a']*2\n",
    "    \n",
    "mydict = {'a':5, 'b':10}\n",
    "fun1(mydict)\n",
    "print(mydict)"
   ]
  },
  {
   "cell_type": "code",
   "execution_count": 31,
   "metadata": {},
   "outputs": [
    {
     "name": "stdout",
     "output_type": "stream",
     "text": [
      "10\n",
      "100\n"
     ]
    }
   ],
   "source": [
    "def square(a):\n",
    "    return a**2\n",
    "\n",
    "a = 10\n",
    "print(a)\n",
    "a = square(a)\n",
    "print(a)"
   ]
  },
  {
   "cell_type": "code",
   "execution_count": 32,
   "metadata": {},
   "outputs": [
    {
     "name": "stdout",
     "output_type": "stream",
     "text": [
      "2430573314632\n",
      "[20, 30]\n",
      "20\n",
      "2430573314632\n",
      "---------\n",
      "2430573314888\n",
      "[100, 110]\n",
      "100\n",
      "2430573314888\n"
     ]
    }
   ],
   "source": [
    "# function內宣布的object，也可以用return方式給函式外來使用\n",
    "# 但呼叫function，其內部function宣告的object，每次都會產生新的。\n",
    "\n",
    "def fun(a):\n",
    "    data = [] #create a new list\n",
    "    print(id(data))\n",
    "    data.append(a)\n",
    "    data.append(a+10)\n",
    "    return data,a\n",
    "\n",
    "c = 20\n",
    "x,y = fun(c)\n",
    "print(x)\n",
    "print(y)\n",
    "print(id(x))\n",
    "\n",
    "print(\"---------\")\n",
    "\n",
    "c = 100\n",
    "s,t = fun(c)\n",
    "print(s)\n",
    "print(t)\n",
    "print(id(s))"
   ]
  },
  {
   "cell_type": "markdown",
   "metadata": {},
   "source": [
    "# Default Argument Values"
   ]
  },
  {
   "cell_type": "code",
   "execution_count": 33,
   "metadata": {},
   "outputs": [
    {
     "name": "stdout",
     "output_type": "stream",
     "text": [
      "Do you really want to quit?Yes\n",
      "Please try again!\n",
      "Do you really want to quit?yes\n"
     ]
    },
    {
     "data": {
      "text/plain": [
       "True"
      ]
     },
     "execution_count": 33,
     "metadata": {},
     "output_type": "execute_result"
    }
   ],
   "source": [
    "def ask_ok(prompt, retries=2, remminder=\"Please try again!\"):\n",
    "    while True:\n",
    "        ok = input(prompt)\n",
    "        if ok in ('y','ye','yes'):\n",
    "            return True\n",
    "        if ok in ('n','no','nop','nope'):\n",
    "            return False\n",
    "        retries = retries - 1\n",
    "        if retries < 0 :\n",
    "            raise ValueError('invalid user response')\n",
    "        print(remminder)\n",
    "\n",
    "ask_ok('Do you really want to quit?')"
   ]
  },
  {
   "cell_type": "code",
   "execution_count": 34,
   "metadata": {},
   "outputs": [
    {
     "name": "stdout",
     "output_type": "stream",
     "text": [
      "5\n"
     ]
    }
   ],
   "source": [
    "# The default values are evaluated at the point of function definition in the defining scope\n",
    "\n",
    "i = 5\n",
    "def f(arg=i):\n",
    "    print(arg)\n",
    "\n",
    "i = 6\n",
    "f()"
   ]
  },
  {
   "cell_type": "code",
   "execution_count": 35,
   "metadata": {},
   "outputs": [
    {
     "name": "stdout",
     "output_type": "stream",
     "text": [
      "[1] 2430573315080\n",
      "[1, 2] 2430573315080\n",
      "[1, 2, 3] 2430573315080\n"
     ]
    }
   ],
   "source": [
    "# The default value is evaluated only once\n",
    "# This makes difference when the default is a mutable object such as list, dictionary, or instances of most classes.\n",
    "\n",
    "def f1(a, L=[]):\n",
    "    '''print(type(L),id(L))'''\n",
    "    L.append(a)\n",
    "    return L\n",
    "\n",
    "list1 = f1(1)\n",
    "print(list1, id(list1))\n",
    "list2 = f1(2)\n",
    "print(list2, id(list2))\n",
    "list3 = f1(3)\n",
    "print(list3, id(list3))"
   ]
  },
  {
   "cell_type": "code",
   "execution_count": 36,
   "metadata": {},
   "outputs": [
    {
     "name": "stdout",
     "output_type": "stream",
     "text": [
      "[1] 2430573005576\n",
      "[2] 2430573005384\n",
      "[3] 2430573245640\n"
     ]
    }
   ],
   "source": [
    "def f2(a, L=None):\n",
    "    '''print(type(L),id(L))'''\n",
    "    if L == None:\n",
    "        L = []\n",
    "    L.append(a)\n",
    "    return L\n",
    "\n",
    "list1 = f2(1)\n",
    "print(list1, id(list1))\n",
    "list2 = f2(2)\n",
    "print(list2, id(list2))\n",
    "list3 = f2(3)\n",
    "print(list3, id(list3))"
   ]
  },
  {
   "cell_type": "code",
   "execution_count": 37,
   "metadata": {},
   "outputs": [
    {
     "name": "stdout",
     "output_type": "stream",
     "text": [
      "10\n",
      "20\n",
      "30\n",
      "----------------------------------------\n",
      "a : 100\n",
      "b : 200\n",
      "c : 300\n"
     ]
    }
   ],
   "source": [
    "#不定量參數寫法\n",
    "\n",
    "def test(value, *arguments, **keywords):\n",
    "    print(value)\n",
    "    for arg in arguments:\n",
    "        print(arg)\n",
    "    print(\"-\"*40)\n",
    "    for kw in keywords:\n",
    "        print(kw,\":\",keywords[kw])\n",
    "\n",
    "test(10,20,30,a=100,b=200,c=300)"
   ]
  },
  {
   "cell_type": "code",
   "execution_count": 38,
   "metadata": {},
   "outputs": [
    {
     "name": "stdout",
     "output_type": "stream",
     "text": [
      "earth/mars/venus/earth/mars/venus\n",
      "earth,mars,venus,earth/mars/venus\n"
     ]
    }
   ],
   "source": [
    "def concat(*args, sep='/'):\n",
    "    #print(args)\n",
    "    return sep.join(args)\n",
    "\n",
    "str1 = concat('earth','mars','venus','earth/mars/venus')\n",
    "print(str1)\n",
    "str2 = concat('earth','mars','venus','earth/mars/venus', sep=',')\n",
    "print(str2)"
   ]
  },
  {
   "cell_type": "code",
   "execution_count": 39,
   "metadata": {},
   "outputs": [
    {
     "name": "stdout",
     "output_type": "stream",
     "text": [
      "3 6\n",
      "[3, 4, 5]\n",
      "a : 100\n",
      "b : 200\n",
      "c : 300\n",
      "a : 100\n",
      "b : 200\n",
      "c : 300\n"
     ]
    }
   ],
   "source": [
    "args = [3,6]\n",
    "print(*args)\n",
    "print(list(range(*args)))\n",
    "\n",
    "def test(**keywords):\n",
    "    for kw in keywords:\n",
    "        print(kw,\":\",keywords[kw])\n",
    "        \n",
    "test(a=100, b=200, c=300)\n",
    "\n",
    "dict1 = {'a':100, 'b':200, 'c':300}\n",
    "test(**dict1)"
   ]
  },
  {
   "cell_type": "code",
   "execution_count": 40,
   "metadata": {},
   "outputs": [
    {
     "name": "stdout",
     "output_type": "stream",
     "text": [
      "10\n",
      "20\n",
      "20\n"
     ]
    }
   ],
   "source": [
    "# global\n",
    "x = 10\n",
    "\n",
    "def myfun():\n",
    "    global x\n",
    "    x = 20\n",
    "    print(x)\n",
    "\n",
    "print(x)\n",
    "myfun()\n",
    "print(x)"
   ]
  },
  {
   "cell_type": "code",
   "execution_count": 41,
   "metadata": {},
   "outputs": [
    {
     "name": "stdout",
     "output_type": "stream",
     "text": [
      "10\n",
      "25\n"
     ]
    }
   ],
   "source": [
    "def square():\n",
    "    global a\n",
    "    a = 5\n",
    "    a = a**2\n",
    "    return a\n",
    "\n",
    "a = 10\n",
    "print(a)\n",
    "square()\n",
    "print(a)"
   ]
  },
  {
   "cell_type": "code",
   "execution_count": 42,
   "metadata": {},
   "outputs": [
    {
     "name": "stdout",
     "output_type": "stream",
     "text": [
      "I love Paris!\n",
      "I love Paris!I love London!\n"
     ]
    }
   ],
   "source": [
    "# global, 針對immutable，參數要加global，才能存取到外部variable，否則一律視為local\n",
    "\n",
    "s = 'I love Paris!'\n",
    "\n",
    "def f():\n",
    "    global s\n",
    "    s += \"I love London!\"\n",
    "    \n",
    "print(s)\n",
    "f()\n",
    "print(s)"
   ]
  },
  {
   "cell_type": "code",
   "execution_count": 43,
   "metadata": {},
   "outputs": [
    {
     "name": "stdout",
     "output_type": "stream",
     "text": [
      "5\n",
      "300\n",
      "----------\n",
      "5\n",
      "10\n",
      "----------\n",
      "500\n",
      "10\n",
      "----------\n",
      "500\n",
      "300\n"
     ]
    }
   ],
   "source": [
    "# You can \"access\" non-local variable without sepcifically declare it,\n",
    "# but you have to declare it to change it.\n",
    "\n",
    "a = 5\n",
    "b = 300\n",
    "\n",
    "def myfun():\n",
    "    b = 10\n",
    "    print(a)\n",
    "    print(b)\n",
    "\n",
    "print(a)\n",
    "print(b)\n",
    "print('-'*10)\n",
    "myfun()\n",
    "print('-'*10)\n",
    "a = 500\n",
    "myfun()\n",
    "print('-'*10)\n",
    "print(a)\n",
    "print(b)"
   ]
  },
  {
   "cell_type": "code",
   "execution_count": 44,
   "metadata": {},
   "outputs": [
    {
     "name": "stdout",
     "output_type": "stream",
     "text": [
      "1 2 3 4\n",
      "--- 100 200 4 3\n",
      "100 2 3 4\n"
     ]
    }
   ],
   "source": [
    "# Local Variable V.S. Global Variable\n",
    "# Local 產生新的變數(label)\n",
    "\n",
    "def foo(x,y):\n",
    "    global a #代表外面的label\n",
    "    a = 100\n",
    "    x,y = y,x\n",
    "    b = 200\n",
    "    print(\"---\",a,b,x,y)\n",
    "    \n",
    "a, b, x, y = 1, 2, 3, 4\n",
    "print(a, b, x, y)\n",
    "foo(x,y)\n",
    "print(a, b, x, y)"
   ]
  },
  {
   "cell_type": "code",
   "execution_count": 45,
   "metadata": {},
   "outputs": [
    {
     "name": "stdout",
     "output_type": "stream",
     "text": [
      "[10]\n",
      "[10, 10]\n"
     ]
    }
   ],
   "source": [
    "h = []\n",
    "a = 10\n",
    "\n",
    "def fun():\n",
    "    h.append(a)\n",
    "    \n",
    "fun()\n",
    "print(h)\n",
    "fun()\n",
    "print(h)"
   ]
  },
  {
   "cell_type": "code",
   "execution_count": 46,
   "metadata": {},
   "outputs": [
    {
     "name": "stdout",
     "output_type": "stream",
     "text": [
      "[2, 4, 6]\n",
      "----------\n",
      "[2, 100, 6]\n",
      "----------\n",
      "[1, 2, 3]\n",
      "----------\n",
      "10\n",
      "----------\n",
      "1000\n",
      "----------\n",
      "[1, 2, 3, 8]\n"
     ]
    }
   ],
   "source": [
    "# 全域變數 V.S. 區域變數\n",
    "\n",
    "x1 = [2,4,6]\n",
    "a = 5\n",
    "\n",
    "def fun1():\n",
    "    x1[1] = 100 #會更改\n",
    "    print('-'*10)\n",
    "    \n",
    "def fun2():\n",
    "    x1 = [1,2,3] #初值設定: x1是local\n",
    "    print('-'*10)\n",
    "    print(x1)\n",
    "    \n",
    "def fun3():\n",
    "    a = 10 #初值設定: a是local\n",
    "    print('-'*10)\n",
    "    print(a)\n",
    "    \n",
    "def fun4():\n",
    "    global a\n",
    "    a = 1000 #初值設定為local，但global明確定義a是global\n",
    "    print('-'*10)\n",
    "    print(a)\n",
    "    \n",
    "def fun5():\n",
    "    global x1 #改變外面的label，必須加入global，否則新的x1代表是該function內所定義\n",
    "    x1 = [1, 2, 3] #初值設定: x1是local\n",
    "    \n",
    "def fun6():\n",
    "    x1.append(8)\n",
    "    print('-'*10)\n",
    "    print(x1)\n",
    "    \n",
    "\n",
    "    \n",
    "    \n",
    "print(x1)\n",
    "fun1()\n",
    "print(x1)\n",
    "fun2()\n",
    "fun3()\n",
    "fun4()\n",
    "fun5()\n",
    "fun6()"
   ]
  },
  {
   "cell_type": "markdown",
   "metadata": {},
   "source": [
    "# Nonlocal: 在函數或其它作用域中使用外層(非全域)變數\n",
    "## nonlocal關鍵字用在函數或其它作用域中使用外層(非全域)變數"
   ]
  },
  {
   "cell_type": "markdown",
   "metadata": {},
   "source": [
    "# Enclosing Functions\n",
    "## Functions inside Functions"
   ]
  },
  {
   "cell_type": "code",
   "execution_count": 47,
   "metadata": {},
   "outputs": [
    {
     "name": "stdout",
     "output_type": "stream",
     "text": [
      "2\n"
     ]
    }
   ],
   "source": [
    "i = 1\n",
    "def l1():\n",
    "    i = 2\n",
    "    def l2():\n",
    "        print(i)\n",
    "    l2()\n",
    "\n",
    "l1()"
   ]
  },
  {
   "cell_type": "code",
   "execution_count": 48,
   "metadata": {},
   "outputs": [
    {
     "name": "stdout",
     "output_type": "stream",
     "text": [
      "global a = 10\n",
      "inner a =  12\n",
      "outer a =  12\n",
      "global a = 10\n"
     ]
    }
   ],
   "source": [
    "def outer(a):\n",
    "    \n",
    "    def inner():\n",
    "        nonlocal a\n",
    "        a += 1\n",
    "        print(\"inner a = \",a)\n",
    "    \n",
    "    a += 1\n",
    "    inner()\n",
    "    print(\"outer a = \",a)\n",
    "    \n",
    "a = 10\n",
    "print('global a =',a)\n",
    "outer(a)\n",
    "print('global a =',a)"
   ]
  },
  {
   "cell_type": "code",
   "execution_count": 49,
   "metadata": {},
   "outputs": [
    {
     "name": "stdout",
     "output_type": "stream",
     "text": [
      "6\n",
      "6\n"
     ]
    }
   ],
   "source": [
    "# lambda function\n",
    "# Python提供了一個簡易的function define: lambda，用完即丟，不著痕跡。\n",
    "\n",
    "def func(x,y,z):\n",
    "    return x+y+z\n",
    "\n",
    "print(func(1,2,3))\n",
    "\n",
    "func2 = lambda x,y,z: x+y+z\n",
    "print(func2(1,2,3))"
   ]
  },
  {
   "cell_type": "markdown",
   "metadata": {},
   "source": [
    "# Lambda & Map Function"
   ]
  },
  {
   "cell_type": "code",
   "execution_count": 50,
   "metadata": {},
   "outputs": [
    {
     "name": "stdout",
     "output_type": "stream",
     "text": [
      "[1, 4, 9]\n",
      "[18, 14, 14, 14]\n",
      "[17, 10, 19, 23]\n"
     ]
    }
   ],
   "source": [
    "# map function \n",
    "# lambda 也可以應用在map上\n",
    "\n",
    "my_list = [1,2,3]\n",
    "ans = list(map(lambda i : i**2, my_list)) #需要轉成list，才能印出\n",
    "print(ans) #[1, 4, 9]\n",
    "\n",
    "a = [1,2,3,4]\n",
    "b = [17,12,11,10]\n",
    "c = [-1,-4,5,9]\n",
    "\n",
    "# lambda 需要2個數兩個參數\n",
    "print(list(map(lambda x,y: x+y, a,b))) #[18, 14, 14, 14]\n",
    "# lambda 需要3個數兩個參數\n",
    "print(list(map(lambda x,y,z: x+y+z, a,b,c))) #[18, 14, 14, 14]"
   ]
  },
  {
   "cell_type": "markdown",
   "metadata": {},
   "source": [
    "# Zip & Enumerate Example"
   ]
  },
  {
   "cell_type": "code",
   "execution_count": 51,
   "metadata": {},
   "outputs": [
    {
     "name": "stdout",
     "output_type": "stream",
     "text": [
      "[(0, 5), (1, 6), (2, 7), (3, 8), (4, 9)]\n",
      "0 5\n",
      "1 6\n",
      "2 7\n",
      "3 8\n",
      "4 9\n"
     ]
    }
   ],
   "source": [
    "# Zip Example 1\n",
    "\n",
    "A = list(range(5))\n",
    "B = list(range(5,10))\n",
    "Z = list(zip(A,B))\n",
    "print(Z)\n",
    "\n",
    "for i,j in Z:\n",
    "    print(i,j)"
   ]
  },
  {
   "cell_type": "code",
   "execution_count": 52,
   "metadata": {},
   "outputs": [
    {
     "name": "stdout",
     "output_type": "stream",
     "text": [
      "0 1 5\n",
      "1 2 6\n",
      "2 3 7\n",
      "3 4 8\n",
      "0 Angry\n",
      "1 Disgust\n",
      "2 Fear\n",
      "3 Happy\n",
      "4 Sad\n",
      "5 Surprise\n",
      "6 Neutral\n"
     ]
    }
   ],
   "source": [
    "# enumerate\n",
    "A = [1,2,3,4]\n",
    "B = [5,6,7,8]\n",
    "\n",
    "for i, v in enumerate(zip(A,B)):\n",
    "    print(i,v[0],v[1])\n",
    "    \n",
    "emotions = ['Angry','Disgust','Fear','Happy','Sad','Surprise','Neutral']\n",
    "for emotion_id, emotion_name in enumerate(emotions):\n",
    "    print(emotion_id, emotion_name)"
   ]
  },
  {
   "cell_type": "code",
   "execution_count": 53,
   "metadata": {},
   "outputs": [
    {
     "name": "stdout",
     "output_type": "stream",
     "text": [
      "                   0                   0                   0\n",
      "                   1                   1                   1\n",
      "                   2                   4                   8\n",
      "                   3                   9                  27\n",
      "                   4                  16                  64\n",
      "                   5                  25                 125\n",
      "                   6                  36                 216\n",
      "                   7                  49                 343\n",
      "                   8                  64                 512\n",
      "                   9                  81                 729\n",
      "                  10                 100                1000\n"
     ]
    }
   ],
   "source": [
    "for x in range(0,11):\n",
    "    print('{0:-20d}{1:-20d}{2:-20d}'.format(x,x**2,x*x*x))"
   ]
  },
  {
   "cell_type": "markdown",
   "metadata": {},
   "source": [
    "# File Processing: CSV, JSON, Pickle"
   ]
  },
  {
   "cell_type": "code",
   "execution_count": 54,
   "metadata": {},
   "outputs": [
    {
     "name": "stdout",
     "output_type": "stream",
     "text": [
      "a=5\n",
      "b=4\n",
      "c=3\n",
      "d=2\n",
      "f=1\n",
      "e=0\n"
     ]
    }
   ],
   "source": [
    "# read text file ==> read()\n",
    "#1. 讀取整個文檔，將文檔內容放到一個字符串變量中\n",
    "#2. 如果文檔大於可用內存，不可能使用這種處理\n",
    "\n",
    "f = open('Config.txt', 'r', encoding='utf-8')\n",
    "print(f.read())\n",
    "f.close()"
   ]
  },
  {
   "cell_type": "code",
   "execution_count": 55,
   "metadata": {},
   "outputs": [
    {
     "name": "stdout",
     "output_type": "stream",
     "text": [
      "D:\\Python_Summarize\\Python_Training\\ITtraining\\a.txt\n",
      "D:\\Python_Summarize\\Python_Training\\ITtraining\\b.csv\n",
      "D:\\Python_Summarize\\Python_Training\\ITtraining\\c.docx\n"
     ]
    }
   ],
   "source": [
    "# 路徑處理\n",
    "import os.path\n",
    "myfile = ['a.txt','b.csv','c.docx']\n",
    "for filename in myfile:\n",
    "    print(os.path.join(r'D:\\Python_Summarize\\Python_Training\\ITtraining', filename))"
   ]
  },
  {
   "cell_type": "code",
   "execution_count": 56,
   "metadata": {},
   "outputs": [
    {
     "name": "stdout",
     "output_type": "stream",
     "text": [
      "a=5\n",
      "\n",
      "b=4\n",
      "\n",
      "c=3\n",
      "\n",
      "d=2\n",
      "\n",
      "f=1\n",
      "\n",
      "e=0\n"
     ]
    }
   ],
   "source": [
    "# read txt file ==> readline()\n",
    "\n",
    "f = open('Config.txt', 'r', encoding='utf-8')\n",
    "\n",
    "for line in f:\n",
    "    print(line)\n",
    "    \n",
    "f.close()"
   ]
  },
  {
   "cell_type": "code",
   "execution_count": 57,
   "metadata": {},
   "outputs": [
    {
     "name": "stdout",
     "output_type": "stream",
     "text": [
      "a=5\n",
      "\n",
      "b=4\n",
      "\n",
      "c=3\n",
      "\n",
      "d=2\n",
      "\n",
      "f=1\n",
      "\n",
      "e=0\n"
     ]
    }
   ],
   "source": [
    "# read txt file ==> readline()\n",
    "# 每次讀取一行，比readlines()慢得多\n",
    "\n",
    "f = open('Config.txt', 'r', encoding='utf-8')\n",
    "while True:\n",
    "    line = f.readline()\n",
    "    if line:\n",
    "        print(line)\n",
    "    else:\n",
    "        break\n",
    "\n",
    "f.close()"
   ]
  },
  {
   "cell_type": "code",
   "execution_count": 58,
   "metadata": {},
   "outputs": [
    {
     "name": "stdout",
     "output_type": "stream",
     "text": [
      "a=5\n",
      "\n",
      "b=4\n",
      "\n",
      "c=3\n",
      "\n",
      "d=2\n",
      "\n",
      "f=1\n",
      "\n",
      "e=0\n",
      "----------------------------------------\n",
      "['a=5', 'b=4', 'c=3', 'd=2', 'f=1', 'e=0']\n"
     ]
    }
   ],
   "source": [
    "# read txt file ==> readlines()\n",
    "#1. 一次性讀取整個文檔\n",
    "#2. 自動將文檔內容分析成list\n",
    "\n",
    "f = open('Config.txt', 'r', encoding='utf-8')\n",
    "lines = f.readlines()\n",
    "result = list()\n",
    "\n",
    "for line in lines:\n",
    "    print(line,end='\\n')\n",
    "    result.append(line.strip())\n",
    "    \n",
    "f.close()\n",
    "\n",
    "print('-'*40)\n",
    "print(result)"
   ]
  },
  {
   "cell_type": "code",
   "execution_count": 59,
   "metadata": {},
   "outputs": [
    {
     "name": "stdout",
     "output_type": "stream",
     "text": [
      "a=5\n",
      "\n",
      "b=4\n",
      "\n",
      "c=3\n",
      "\n",
      "d=2\n",
      "\n",
      "f=1\n",
      "\n",
      "e=0\n"
     ]
    }
   ],
   "source": [
    "# Write txt File\n",
    "#'r+' -> read + write text\n",
    "#'w+' -> read + write text\n",
    "#'a+' -> append + read text\n",
    "\n",
    "\n",
    "result = ['a=5\\n', 'b=4\\n', 'c=3\\n', 'd=2\\n', 'f=1\\n', 'e=0']\n",
    "\n",
    "f = open('result_readlines.txt', 'w', encoding='utf-8')\n",
    "\n",
    "for line in result:\n",
    "    print(line,end='\\n')\n",
    "    f.write(line)\n",
    "f.close()\n"
   ]
  },
  {
   "cell_type": "code",
   "execution_count": 60,
   "metadata": {},
   "outputs": [
    {
     "name": "stdout",
     "output_type": "stream",
     "text": [
      "Error\n"
     ]
    }
   ],
   "source": [
    "# file I/O: try...except...\n",
    "# 由於檔讀寫時都有可能產生IOError，一旦出錯，後面的f.close()就不會調用。所以為了保證無論是否出錯都能正確地關檔。\n",
    "# 但 try...finally...每次都這麼寫實在太繁瑣，所以Python引入了with語句來自動幫我們調用close()方法\n",
    "\n",
    "'''\n",
    "try:\n",
    "    f = open('Non-Exist-File.txt', 'r', encoding='utf-8')\n",
    "    print(f.read())\n",
    "finally:\n",
    "    if f:\n",
    "        f.close()\n",
    "'''\n",
    "\n",
    "try:\n",
    "    with open('Non-Exist-File.txt', 'r', encoding='utf-8') as f:\n",
    "        print(f.read())\n",
    "except IOError:\n",
    "    print('Error')\n",
    "    \n",
    "# f.close()\n",
    "# print(f.read())\n"
   ]
  },
  {
   "cell_type": "code",
   "execution_count": 61,
   "metadata": {},
   "outputs": [
    {
     "name": "stdout",
     "output_type": "stream",
     "text": [
      "Ready to Read File\n",
      "OK\n"
     ]
    }
   ],
   "source": [
    "try:\n",
    "    f = open('result_readlines.txt', 'a+', encoding='utf-8')\n",
    "    print('Ready to Read File')\n",
    "    f.write('Hello')\n",
    "except:\n",
    "    print(\"Error\")\n",
    "finally:\n",
    "    print('OK')"
   ]
  },
  {
   "cell_type": "markdown",
   "metadata": {},
   "source": [
    "# Getting File Using HTTPs (URLlib)"
   ]
  },
  {
   "cell_type": "code",
   "execution_count": 62,
   "metadata": {},
   "outputs": [
    {
     "name": "stdout",
     "output_type": "stream",
     "text": [
      "['105年彰化縣政府各就業服台（第1季）績效表', '', '', '', '', '', '', '', '', '', '', '', '', '', '', '', '', '']\n",
      "['項目', '時間', '\"求職人數']\n",
      "['（新登記）\"', '\"求才人數']\n",
      "['(新登記)\"', '\"求職推介']\n",
      "['就業人數']\n",
      "['（有效）\"', '\"求才僱用人']\n",
      "['數（有效）\"', '\"推介人次']\n",
      "['（有效）\"', '諮詢人次', '', '', '\"電訪']\n",
      "['廠商數\"', '實際拜訪廠商', '\"開發']\n",
      "['職缺數\"', '\"轉介']\n",
      "['數\"', '\"申訴']\n",
      "['數\"', '追蹤輔導', '', '其它']\n",
      "['站別', '', '', '', '', '', '', '法令', '職訓', '就服', '', '', '', '', '', '\"追蹤']\n",
      "['人次\"', '\"結案']\n",
      "['人數\"', '備註']\n",
      "['勞工處就業服務台', '1月', '43', '307', '36', '42', '88', '2', '0', '292', '59', '0', '284', '0', '0', '84', '39', '0']\n",
      "['', '2月', '33', '277', '19', '19', '56', '1', '2', '187', '45', '0', '277', '0', '0', '57', '19', '0']\n",
      "['', '3月', '', '', '', '', '', '', '', '', '', '', '', '', '', '', '', '']\n",
      "['小計', '', '76', '584', '55', '61', '144', '3', '2', '479', '104', '0', '561', '0', '0', '141', '58', '0']\n",
      "['全興就業服務台', '1月', '44', '385', '22', '21', '56', '2', '2', '206', '184', '0', '358', '0', '0', '60', '31', '0']\n",
      "['', '2月', '33', '373', '15', '13', '53', '3', '1', '188', '54', '0', '373', '0', '0', '66', '27', '0']\n",
      "['', '3月', '', '', '', '', '', '', '', '', '', '', '', '', '', '', '', '']\n",
      "['小計', '', '77', '758', '37', '34', '109', '5', '3', '394', '238', '0', '731', '0', '0', '126', '58', '0']\n",
      "['鹿港就業服務台', '1月', '75', '307', '37', '92', '144', '6', '7', '372', '116', '0', '278', '0', '0', '139', '58', '0']\n",
      "['', '2月', '63', '245', '35', '54', '117', '5', '6', '198', '98', '0', '245', '5', '0', '117', '50', '0']\n",
      "['', '3月', '', '', '', '', '', '', '', '', '', '', '', '', '', '', '', '']\n",
      "['小計', '', '138', '552', '72', '146', '261', '11', '13', '570', '214', '0', '523', '5', '0', '256', '108', '0']\n",
      "['田尾就業服務台', '1月', '30', '179', '7', '16', '63', '0', '1', '192', '94', '0', '173', '0', '0', '62', '8', '0']\n",
      "['', '2月', '23', '164', '11', '21', '32', '1', '0', '117', '60', '0', '164', '0', '0', '32', '11', '0']\n",
      "['', '3月', '', '', '', '', '', '', '', '', '', '', '', '', '', '', '', '']\n",
      "['小計', '', '53', '343', '18', '37', '95', '1', '1', '309', '154', '0', '337', '0', '0', '94', '19', '0']\n",
      "['溪湖就業服務台', '1月', '67', '439', '46', '52', '160', '3', '1', '379', '151', '0', '338', '0', '0', '155', '37', '0']\n",
      "['', '2月', '65', '388', '25', '25', '169', '2', '0', '292', '103', '0', '387', '0', '0', '164', '26', '0']\n",
      "['', '3月', '', '', '', '', '', '', '', '', '', '', '', '', '', '', '', '']\n",
      "['小計', '', '132', '827', '71', '77', '329', '5', '1', '671', '254', '0', '725', '0', '0', '319', '63', '0']\n",
      "['二林就業服務台', '1月', '51', '175', '36', '30', '81', '3', '0', '208', '110', '0', '142', '0', '0', '98', '53', '0']\n",
      "['', '2月', '46', '183', '21', '18', '106', '3', '1', '221', '108', '0', '183', '0', '0', '106', '55', '0']\n",
      "['', '3月', '', '', '', '', '', '', '', '', '', '', '', '', '', '', '', '']\n",
      "['小計', '', '97', '358', '57', '48', '187', '6', '1', '429', '218', '0', '325', '0', '0', '204', '108', '0']\n",
      "['田中就業服務台   ', '1月', '90', '258', '53', '80', '133', '0', '1', '385', '148', '0', '248', '0', '0', '132', '56', '0']\n",
      "['', '2月', '69', '268', '50', '51', '91', '0', '0', '305', '125', '0', '268', '0', '0', '91', '50', '0']\n",
      "['', '3月', '', '', '', '', '', '', '', '', '', '', '', '', '', '', '', '']\n",
      "['小計', '', '159', '526', '103', '131', '224', '0', '1', '690', '273', '0', '516', '0', '0', '223', '106', '0']\n",
      "['和美就業服務台', '1月', '68', '305', '36', '32', '112', '3', '2', '232', '149', '0', '286', '0', '0', '107', '42', '0']\n",
      "['', '2月', '67', '292', '32', '30', '108', '3', '0', '206', '162', '0', '292', '0', '0', '92', '38', '0']\n",
      "['', '3月', '', '', '', '', '', '', '', '', '', '', '', '', '', '', '', '']\n",
      "['小計', '', '135', '597', '68', '62', '220', '6', '2', '438', '311', '0', '578', '0', '0', '199', '80', '0']\n",
      "['本季累計', '', '867', '4545', '481', '596', '1569', '37', '24', '3980', '1766', '0', '4296', '5', '0', '1562', '600', '0']\n",
      "['上季累計', '', '', '', '', '', '', '', '', '', '', '', '', '', '', '', '', '']\n",
      "['合計', '', '867', '4545', '481', '596', '1569', '37', '24', '3980', '1766', '0', '4296', '5', '0', '1562', '600', '0']\n",
      "['', '', '', '', '', '', '', '', '', '', '', '', '', '', '', '', '', '']\n",
      "['1.就服諮詢人次:電話諮詢及親自來就服台諮詢。包括臨櫃、來電、各台辦的單一或小型徵才活動參加人數、就業得來速、電聯通知活動或職缺人數，(如僅為單純介紹卡追蹤錄取與否，則不列為就業服務諮詢人數)。', '', '', '', '', '', '', '', '', '', '', '', '', '', '', '', '', '']\n",
      "['2.拜訪廠商分為電訪及實際拜訪廠商．', '', '', '', '', '', '', '', '', '', '', '', '', '', '', '', '', '']\n",
      "['3.績效表之「轉介數」係指就服台開立轉介單將個案轉出（至就服中心或社會處等）', '', '', '', '', '', '', '', '', '', '', '', '', '', '', '', '', '']\n",
      "['4.申訴數:以民眾提出書面申訴或依電話申訴需做申訴紀錄表（案由.基本資料.處理情形)。', '', '', '', '', '', '', '', '', '', '', '', '', '', '', '', '', '']\n",
      "['5.追?人次：指介紹卡追?、徵才媒合後續追?。', '', '', '', '', '', '', '', '', '', '', '', '', '', '', '', '', '']\n",
      "['6.結案人數：推介成功及已自行就業人數。', '', '', '', '', '', '', '', '', '', '', '', '', '', '', '', '', '']\n",
      "105年彰化縣政府各就業服台（第1季）績效表\n"
     ]
    }
   ],
   "source": [
    "import sys\n",
    "import urllib.request\n",
    "import matplotlib.pyplot as plt\n",
    "\n",
    "src_file = 'data1.csv'\n",
    "\n",
    "try:\n",
    "    data = open(src_file, 'r', ) #encoding='utf-8'\n",
    "except IOError:\n",
    "    print('No Such File and Try to Get File Using HTTP Get')\n",
    "    urllib.request.urlretrieve('https://email.chcg.gov.tw/df/rqlhk4hoh92lfl1lz612l42genhoej/105%E5%B9%B4%E5%90%84%E5%8F%B01-12%E6%9C%88%E6%9C%88%E5%A0%B1(%E5%A4%96%E9%83%A8)e%E7%89%88.csv', src_file)\n",
    "    data = open(src_file, 'r', ) #encoding='utf-8'\n",
    "    \n",
    "# data.close()\n",
    "\n",
    "lines = []\n",
    "DataSet = []\n",
    "\n",
    "for line in data:\n",
    "    print(line.strip().split(\",\"))\n",
    "    DataSet.append((line.strip().split(\",\")))\n",
    "\n",
    "# print(DataSet)\n",
    "print(DataSet[0][0])\n"
   ]
  },
  {
   "cell_type": "code",
   "execution_count": 63,
   "metadata": {},
   "outputs": [],
   "source": [
    "# process csv file\n",
    "import csv\n",
    "filename = 'my_validate.csv'\n",
    "text = open(filename, 'w+')\n",
    "s = csv.writer(text, delimiter=',', lineterminator='\\n')\n",
    "s.writerow(['id','value'])\n",
    "ans = [[1,100],[2,200],[3,300],[4,400],[5,500]]\n",
    "for i in range(len(ans)):\n",
    "    s.writerow(ans[i])\n",
    "text.close()"
   ]
  },
  {
   "cell_type": "code",
   "execution_count": 64,
   "metadata": {},
   "outputs": [
    {
     "name": "stdout",
     "output_type": "stream",
     "text": [
      "{\"name\": \"Ace\", \"Shares\": 100, \"price\": 542.23}\n",
      "{'name': 'Ace', 'Shares': 100, 'price': 542.23}\n"
     ]
    }
   ],
   "source": [
    "# process JSON format file\n",
    "import json\n",
    "\n",
    "data = {\n",
    "    'name':\"Ace\",\n",
    "    'Shares':100,\n",
    "    'price':542.23    \n",
    "}\n",
    "\n",
    "json_str = json.dumps(data)\n",
    "print(json_str)\n",
    "\n",
    "# Writing JSON Data\n",
    "with open('data.json', 'w') as f:\n",
    "    json.dump(data, f)\n",
    "    \n",
    "# Reading Data Back\n",
    "with open('data.json', 'r') as f:\n",
    "    data = json.load(f)\n",
    "\n",
    "print(data)"
   ]
  },
  {
   "cell_type": "code",
   "execution_count": 65,
   "metadata": {},
   "outputs": [
    {
     "name": "stdout",
     "output_type": "stream",
     "text": [
      "Showing the Pickle Data: \n",
      "The data 0 is: 0\n",
      "The data 1 is: 1\n",
      "The data 2 is: 2\n",
      "The data 3 is: 3\n",
      "The data 4 is: 4\n"
     ]
    }
   ],
   "source": [
    "import pickle\n",
    "\n",
    "# take user input to take the amount of data\n",
    "number_of_data = 5\n",
    "data = []\n",
    "\n",
    "# take input of the data\n",
    "for i in range(number_of_data):\n",
    "    raw = i\n",
    "    data.append(raw)\n",
    "    \n",
    "# open a file, where you can store the data\n",
    "file = open('pickle', 'wb')\n",
    "\n",
    "# dump information to that file\n",
    "pickle.dump(data, file)\n",
    "\n",
    "# close the file\n",
    "file.close()\n",
    "\n",
    "# Reading Back\n",
    "file = open('pickle', 'rb')\n",
    "data = pickle.load(file)\n",
    "file.close()\n",
    "\n",
    "print('Showing the Pickle Data: ')\n",
    "\n",
    "cnt = 0\n",
    "for item in data:\n",
    "    print('The data {} is: {}'.format(cnt, item))\n",
    "    cnt += 1\n"
   ]
  },
  {
   "cell_type": "code",
   "execution_count": 70,
   "metadata": {},
   "outputs": [
    {
     "name": "stdout",
     "output_type": "stream",
     "text": [
      "Pleas Enter a Number: 9638520741\n",
      "Handling\n",
      "9638520741\n"
     ]
    }
   ],
   "source": [
    "'''\n",
    "If you need to determine whether an exception was raised,\n",
    "but do not intend to hand a simpler form of the raise statement,\n",
    "allows you to re-raise the exception.\n",
    "'''\n",
    "\n",
    "while True:\n",
    "    try:\n",
    "        x = int(input('Pleas Enter a Number: '))\n",
    "        break\n",
    "    except ValueError:\n",
    "        print('ValueError')\n",
    "        print('Oops! This was no valid number. Try again...')\n",
    "    except NameError:\n",
    "        print('NameError')\n",
    "        print('Oops! This was no valid number. Try again...')\n",
    "    except:\n",
    "        print('TryException')\n",
    "        print('Oops! This was no valid number. Try again...')\n",
    "    finally:\n",
    "        print('Handling')\n",
    "\n",
    "print(x)"
   ]
  },
  {
   "cell_type": "code",
   "execution_count": 78,
   "metadata": {},
   "outputs": [
    {
     "name": "stdout",
     "output_type": "stream",
     "text": [
      "An Exception Flew By\n",
      "Finally\n"
     ]
    },
    {
     "ename": "RuntimeError",
     "evalue": "No active exception to reraise",
     "output_type": "error",
     "traceback": [
      "\u001b[1;31m---------------------------------------------------------------------------\u001b[0m",
      "\u001b[1;31mRuntimeError\u001b[0m                              Traceback (most recent call last)",
      "\u001b[1;32m<ipython-input-78-7989cd91ff01>\u001b[0m in \u001b[0;36m<module>\u001b[1;34m\u001b[0m\n\u001b[0;32m     12\u001b[0m \u001b[1;32mfinally\u001b[0m\u001b[1;33m:\u001b[0m\u001b[1;33m\u001b[0m\u001b[1;33m\u001b[0m\u001b[0m\n\u001b[0;32m     13\u001b[0m     \u001b[0mprint\u001b[0m\u001b[1;33m(\u001b[0m\u001b[1;34m'Finally'\u001b[0m\u001b[1;33m)\u001b[0m\u001b[1;33m\u001b[0m\u001b[1;33m\u001b[0m\u001b[0m\n\u001b[1;32m---> 14\u001b[1;33m     \u001b[1;32mraise\u001b[0m\u001b[1;33m\u001b[0m\u001b[1;33m\u001b[0m\u001b[0m\n\u001b[0m",
      "\u001b[1;31mRuntimeError\u001b[0m: No active exception to reraise"
     ]
    }
   ],
   "source": [
    "try:\n",
    "    raise NameError('NameError')\n",
    "except:\n",
    "    try:\n",
    "        raise IOError('ValueError')\n",
    "    except NameError:\n",
    "        print('Except - NameError')\n",
    "    except ValueError:\n",
    "        print('Except - ValueError')\n",
    "    except:\n",
    "        print('An Exception Flew By')\n",
    "finally:\n",
    "    print('Finally')\n",
    "    raise #re-raise the same exception"
   ]
  },
  {
   "cell_type": "code",
   "execution_count": 93,
   "metadata": {},
   "outputs": [
    {
     "name": "stdout",
     "output_type": "stream",
     "text": [
      "a=5\n",
      "\n",
      "500\n",
      "Always Get in Here...Finally\n"
     ]
    }
   ],
   "source": [
    "import sys\n",
    "\n",
    "i = 0\n",
    "\n",
    "try:\n",
    "    f = open('Config.txt', 'r', encoding='utf-8')\n",
    "    s = f.readline()\n",
    "    print(s)\n",
    "    \n",
    "    i = 500\n",
    "    i = int(i)\n",
    "    # i = int(s.strip())\n",
    "    # raise ValueError('manually raise the exception') #manually raise the exception\n",
    "\n",
    "except OSError as ERR:\n",
    "    print('OS Error: {0}'.format(ERR))\n",
    "    \n",
    "except ValueError as ERR:\n",
    "    print('ValueError: {0}'.format(ERR))\n",
    "    print('Could Not Convert Data to an Integer.')\n",
    "\n",
    "except:\n",
    "    print('Unexpected Error',sys.exc_info()[0])\n",
    "    print(sys.exc_info())\n",
    "    \n",
    "else:\n",
    "    print(i)\n",
    "    f.close()\n",
    "\n",
    "finally:\n",
    "    print('Always Get in Here...Finally')"
   ]
  },
  {
   "cell_type": "code",
   "execution_count": null,
   "metadata": {},
   "outputs": [],
   "source": []
  }
 ],
 "metadata": {
  "kernelspec": {
   "display_name": "Python 3",
   "language": "python",
   "name": "python3"
  },
  "language_info": {
   "codemirror_mode": {
    "name": "ipython",
    "version": 3
   },
   "file_extension": ".py",
   "mimetype": "text/x-python",
   "name": "python",
   "nbconvert_exporter": "python",
   "pygments_lexer": "ipython3",
   "version": "3.7.7"
  }
 },
 "nbformat": 4,
 "nbformat_minor": 1
}
