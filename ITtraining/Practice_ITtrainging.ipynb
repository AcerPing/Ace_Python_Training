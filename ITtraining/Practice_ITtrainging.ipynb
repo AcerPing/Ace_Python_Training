{
 "cells": [
  {
   "cell_type": "code",
   "execution_count": null,
   "metadata": {},
   "outputs": [],
   "source": [
    "n = 5\n",
    "i = 0\n",
    "\n",
    "while i < n:\n",
    "    print(i)\n",
    "    if i == 3:\n",
    "        print(\"i=%d, n=%d\"%(i,n))\n",
    "        #break\n",
    "    i += 1\n",
    "else:\n",
    "    print(\"ok\")"
   ]
  },
  {
   "cell_type": "markdown",
   "metadata": {},
   "source": [
    "# List & Range"
   ]
  },
  {
   "cell_type": "code",
   "execution_count": null,
   "metadata": {},
   "outputs": [],
   "source": [
    "mylist = [1,2,4,7,0]\n",
    "for i in mylist:\n",
    "    print(i)"
   ]
  },
  {
   "cell_type": "code",
   "execution_count": null,
   "metadata": {},
   "outputs": [],
   "source": [
    "a = list(range(1,5))\n",
    "a += list(range(5,10))\n",
    "print(a)"
   ]
  },
  {
   "cell_type": "code",
   "execution_count": null,
   "metadata": {},
   "outputs": [],
   "source": [
    "print([0]*3)\n",
    "\n",
    "b = [(1,2)] *3\n",
    "print(b)\n",
    "\n",
    "c = [[]]*3\n",
    "print(c)\n",
    "\n",
    "print(id(c[0]))\n",
    "print(id(c[1]))\n",
    "\n",
    "d = [list() for i in range(3)]\n",
    "print(d) #在不同ID\n",
    "print(id(d[0]))\n",
    "print(id(d[1]))\n"
   ]
  },
  {
   "cell_type": "code",
   "execution_count": null,
   "metadata": {},
   "outputs": [],
   "source": [
    "x = []\n",
    "for i in range(12):\n",
    "    x.append([])\n",
    "    for j in range(3):\n",
    "        x[i].append(j)\n",
    "\n",
    "print(x)\n",
    "print('------------------')\n",
    "x[0] = [100,200,300,400]\n",
    "x[1] = [3,3,3,3]\n",
    "print(x)\n",
    "print(x[1])\n",
    "print(x[0][2])"
   ]
  },
  {
   "cell_type": "code",
   "execution_count": null,
   "metadata": {},
   "outputs": [],
   "source": [
    "# list, dict 內部只是reference某一個元素，而不是copy\n",
    "\n",
    "a = [1,2,3]\n",
    "mylist = []\n",
    "print(id(a))\n",
    "mylist.append(a)\n",
    "a = [4,5,6]\n",
    "print(id(a))\n",
    "mylist.append(a)\n",
    "print('mylist1----->', mylist)\n",
    "\n",
    "mylist2 = []\n",
    "for i in range(2):\n",
    "    a[i] += 1\n",
    "    mylist2.append(a)\n",
    "    #print(id(a))\n",
    "    print('mylist2----->', mylist2)\n",
    "    \n",
    "mylist3 = []\n",
    "for i in range(2):\n",
    "    b = [4,5,6] #reset b\n",
    "    b[i] += 1\n",
    "    #print(id(b))\n",
    "    mylist3.append(b)\n",
    "    print('mylist3----->', mylist3)"
   ]
  },
  {
   "cell_type": "code",
   "execution_count": null,
   "metadata": {},
   "outputs": [],
   "source": [
    "#多維陣列\n",
    "mylist = []\n",
    "w,h = 5,4\n",
    "\n",
    "Matrix = [[0 for x in range(h)] for y in range(w)]\n",
    "print(Matrix)\n",
    "\n",
    "Matrix[0][1] = 4\n",
    "mylist.append(Matrix)\n",
    "print(mylist)\n",
    "print(mylist[0])\n",
    "print(mylist[0][0])\n",
    "print(mylist[0][0][1])\n",
    "\n",
    "for i in mylist:\n",
    "    for j in i:\n",
    "        for k in j:\n",
    "            print(k)"
   ]
  },
  {
   "cell_type": "markdown",
   "metadata": {},
   "source": [
    "# Tuple Example"
   ]
  },
  {
   "cell_type": "code",
   "execution_count": null,
   "metadata": {},
   "outputs": [],
   "source": [
    "# for a,b var in \n",
    "x = [1,2,3,4]\n",
    "y = [5,6,7,8]\n",
    "\n",
    "for a,b,c in [(x,\"Incremental PCA\",100),(y,\"PCA\",200)]:\n",
    "    print(a)\n",
    "    print(b)\n",
    "    print(c)\n",
    "    \n",
    "for a in [(x,\"Incremental PCA\",100),(y,\"PCA\",200)]:\n",
    "    print(a)"
   ]
  },
  {
   "cell_type": "markdown",
   "metadata": {},
   "source": [
    "# More on Data Structure: List Comprehension"
   ]
  },
  {
   "cell_type": "code",
   "execution_count": null,
   "metadata": {},
   "outputs": [],
   "source": [
    "vec = [[1,2,3],[4,5,6],[7,8,9]]\n",
    "y = [num for elem in vec for num in elem ]\n",
    "print(y)\n",
    "\n",
    "combs = []\n",
    "for elem in vec:\n",
    "    for num in elem:\n",
    "        combs.append(num)\n",
    "print(combs)"
   ]
  },
  {
   "cell_type": "code",
   "execution_count": 8,
   "metadata": {},
   "outputs": [
    {
     "name": "stdout",
     "output_type": "stream",
     "text": [
      "[[1, 2, 3, 4], [5, 6, 7, 8], [9, 10, 11, 12]]\n",
      "[[1, 5, 9], [2, 6, 10], [3, 7, 11], [4, 8, 12]]\n",
      "[1, 2, 3, 4] [5, 6, 7, 8] [9, 10, 11, 12]\n",
      "[(1, 5, 9), (2, 6, 10), (3, 7, 11), (4, 8, 12)]\n"
     ]
    }
   ],
   "source": [
    "matrix = [\n",
    "    [1,2,3,4],\n",
    "    [5,6,7,8],\n",
    "    [9,10,11,12]\n",
    "]\n",
    "\n",
    "print(matrix)\n",
    "\n",
    "y = [[row[i] for row in matrix] for i in range(4)]\n",
    "print(y)\n",
    "\n",
    "print(*matrix) #脫離list\n",
    "a = list(zip(*matrix)) #上下併並存在tuple\n",
    "print(a)"
   ]
  },
  {
   "cell_type": "markdown",
   "metadata": {},
   "source": [
    "# Dict Example"
   ]
  },
  {
   "cell_type": "code",
   "execution_count": null,
   "metadata": {},
   "outputs": [],
   "source": [
    "# dict comprehension\n",
    "\n",
    "k = {x: x**2 for x in [1,2,3]}\n",
    "print(k)"
   ]
  },
  {
   "cell_type": "code",
   "execution_count": null,
   "metadata": {},
   "outputs": [],
   "source": [
    "mydict = {'A':100, 'B':1, 'C':1}\n",
    "print(mydict)\n",
    "\n",
    "# keys() values()\n",
    "print(list(mydict.keys()))\n",
    "print(list(mydict.values()))\n",
    "\n",
    "# 'in' operator\n",
    "print('D' in mydict)\n",
    "\n",
    "if 'A' in mydict:\n",
    "    print(\"Yes\", mydict['A'])\n",
    "else:\n",
    "    print(\"No\")\n",
    "    \n",
    "for i,k in enumerate(mydict): #denotes(index,key)\n",
    "    print(i,k)\n",
    "    \n",
    "for k,v in mydict.items(): #denotes(key, value)\n",
    "    print(k,v)"
   ]
  },
  {
   "cell_type": "markdown",
   "metadata": {},
   "source": [
    "# Quiz_1"
   ]
  },
  {
   "cell_type": "markdown",
   "metadata": {},
   "source": [
    "|      | 國文 | 英文 | 數學 |\n",
    "|------|----- |-----|------|\n",
    "| 小英 | 80   | 90  | 35   | \n",
    "| 小P  | 70   | 88  | 80   |\n",
    "| 阿強 | 50   | 40  | 59   |\n",
    "\n",
    "- 國文跟數學都及格的人?有多少人?\n",
    "- 三科都及格的人?有多少人?\n",
    "- 三個人的數學的平均分數?\n",
    "- 三科平均分數大於70分的人有哪些人?"
   ]
  },
  {
   "cell_type": "code",
   "execution_count": null,
   "metadata": {},
   "outputs": [],
   "source": [
    "score = {'小英':[80,90,35],'小P':[70,88,80],'阿強':[50,40,59]}"
   ]
  },
  {
   "cell_type": "code",
   "execution_count": null,
   "metadata": {},
   "outputs": [],
   "source": [
    "# 國文跟數學都及格的人?有多少人?\n",
    "print([name for name,points in score.items() if points[0]>60 and points[2]>60])\n",
    "print(len([name for name,points in score.items() if points[0]>60 and points[2]>60]))        "
   ]
  },
  {
   "cell_type": "code",
   "execution_count": null,
   "metadata": {},
   "outputs": [],
   "source": [
    "# 三科都及格的人?有多少人?\n",
    "print([name for name,points in score.items() if points[0]>60 and points[1]>60 and points[2]>60])\n",
    "print(len([name for name,points in score.items() if points[0]>60 and points[1]>60 and points[2]>60]))"
   ]
  },
  {
   "cell_type": "code",
   "execution_count": null,
   "metadata": {},
   "outputs": [],
   "source": [
    "# 三個人的數學的平均分數\n",
    "import statistics\n",
    "statistics.mean([person_score[2] for person_score in score.values()])"
   ]
  },
  {
   "cell_type": "code",
   "execution_count": null,
   "metadata": {},
   "outputs": [],
   "source": [
    "# 三科平均分數大於70分的人有哪些人?\n",
    "import statistics\n",
    "[name for name,points in score.items() if statistics.mean(points) > 70]"
   ]
  },
  {
   "cell_type": "code",
   "execution_count": null,
   "metadata": {},
   "outputs": [],
   "source": [
    "all_pass = []\n",
    "pass_set = [set() for i in range(3)] #國,英,數\n",
    "pass70 = []\n",
    "math_avg = .0\n",
    "avg = 0\n",
    "math_sum = .0\n",
    "for student in score:\n",
    "    sum = .0\n",
    "    for i in range(3):\n",
    "        s = score[student][i]\n",
    "        sum += s\n",
    "        if s >= 60:\n",
    "            pass_set[i].add(student)\n",
    "        if i == 2: #math\n",
    "            math_sum += s #數學的總成績\n",
    "    avg=round(sum/len(score[student]),2)\n",
    "    print('the avg of',student,' is ',avg)\n",
    "    if avg > 70:\n",
    "        pass70.append(student)"
   ]
  },
  {
   "cell_type": "code",
   "execution_count": null,
   "metadata": {},
   "outputs": [],
   "source": [
    "print(pass_set[0]) #國文及格\n",
    "print(pass_set[1]) #英文及格\n",
    "print(pass_set[2]) #數學及格"
   ]
  },
  {
   "cell_type": "markdown",
   "metadata": {},
   "source": [
    "## 國文跟數學都及格的人?有多少人?"
   ]
  },
  {
   "cell_type": "code",
   "execution_count": null,
   "metadata": {},
   "outputs": [],
   "source": [
    "ans = pass_set[0] & pass_set[2]\n",
    "print(ans)\n",
    "print(len(ans))"
   ]
  },
  {
   "cell_type": "markdown",
   "metadata": {},
   "source": [
    "## 三科都及格的人?有多少人?"
   ]
  },
  {
   "cell_type": "code",
   "execution_count": null,
   "metadata": {},
   "outputs": [],
   "source": [
    "ans = pass_set[0] & pass_set[1] & pass_set[2]\n",
    "print(ans)\n",
    "print(len(ans))"
   ]
  },
  {
   "cell_type": "markdown",
   "metadata": {},
   "source": [
    "## 三個人的數學的平均分數?"
   ]
  },
  {
   "cell_type": "code",
   "execution_count": null,
   "metadata": {},
   "outputs": [],
   "source": [
    "print(round(math_sum / len(score), 2))"
   ]
  },
  {
   "cell_type": "markdown",
   "metadata": {},
   "source": [
    "## 三科平均分數大於70分的人有哪些人?"
   ]
  },
  {
   "cell_type": "code",
   "execution_count": null,
   "metadata": {},
   "outputs": [],
   "source": [
    "print(pass70)"
   ]
  },
  {
   "cell_type": "markdown",
   "metadata": {},
   "source": [
    "# Function Call"
   ]
  },
  {
   "cell_type": "code",
   "execution_count": null,
   "metadata": {},
   "outputs": [],
   "source": [
    "# write Fibonacci series up to n\n",
    "def fib(n):\n",
    "    ''' Print a Fibonacci series up to n. '''\n",
    "    a,b = 0,1\n",
    "    while a < n:\n",
    "        print(a, end=' ')\n",
    "        a,b = b,a+b\n",
    "    print()\n",
    "\n",
    "fib(2000)"
   ]
  },
  {
   "cell_type": "code",
   "execution_count": null,
   "metadata": {},
   "outputs": [],
   "source": [
    "# return Fibonacci series up to n\n",
    "def fib2(n):\n",
    "    result = []\n",
    "    a,b = 0,1\n",
    "    while a < n:\n",
    "        result.append(a)\n",
    "        a, b = b, a+b\n",
    "    return result\n",
    "\n",
    "x = fib2(100)\n",
    "print(x)"
   ]
  },
  {
   "cell_type": "markdown",
   "metadata": {},
   "source": [
    "# Argument Passing"
   ]
  },
  {
   "cell_type": "code",
   "execution_count": null,
   "metadata": {},
   "outputs": [],
   "source": [
    "'''\n",
    "Python的function是屬於call by assignment，由變數型態是mutable或immutable決定是call by value or call by reference\n",
    "mutable belongs to call by reference ; immutable belongs to call by value. \n",
    "'''"
   ]
  },
  {
   "cell_type": "code",
   "execution_count": null,
   "metadata": {},
   "outputs": [],
   "source": [
    "a = 100\n",
    "\n",
    "def fun(a):\n",
    "    a *= 2\n",
    "    print(a)\n",
    "\n",
    "fun(a)\n",
    "print(a)"
   ]
  },
  {
   "cell_type": "code",
   "execution_count": null,
   "metadata": {},
   "outputs": [],
   "source": [
    "b = 'it'\n",
    "def fun_str(s):\n",
    "    s = \"hello!\"+s\n",
    "    print(s)\n",
    "\n",
    "fun_str(b)\n",
    "print(b)"
   ]
  },
  {
   "cell_type": "code",
   "execution_count": null,
   "metadata": {},
   "outputs": [],
   "source": [
    "# function example: List is called by reference\n",
    "#parameter: list\n",
    "\n",
    "def fun(a):\n",
    "    a[0] = 100\n",
    "\n",
    "mylist = [10,20,30]\n",
    "fun(mylist)\n",
    "print(mylist)"
   ]
  },
  {
   "cell_type": "code",
   "execution_count": null,
   "metadata": {},
   "outputs": [],
   "source": [
    "# function example: dict is called by reference\n",
    "# parameter: dict\n",
    "\n",
    "def fun1(a):\n",
    "    a['a'] = a['a']*2\n",
    "    \n",
    "mydict = {'a':5, 'b':10}\n",
    "fun1(mydict)\n",
    "print(mydict)"
   ]
  },
  {
   "cell_type": "code",
   "execution_count": null,
   "metadata": {},
   "outputs": [],
   "source": [
    "def square(a):\n",
    "    return a**2\n",
    "\n",
    "a = 10\n",
    "print(a)\n",
    "a = square(a)\n",
    "print(a)"
   ]
  },
  {
   "cell_type": "code",
   "execution_count": null,
   "metadata": {},
   "outputs": [],
   "source": [
    "# function內宣布的object，也可以用return方式給函式外來使用\n",
    "# 但呼叫function，其內部function宣告的object，每次都會產生新的。\n",
    "\n",
    "def fun(a):\n",
    "    data = [] #create a new list\n",
    "    print(id(data))\n",
    "    data.append(a)\n",
    "    data.append(a+10)\n",
    "    return data,a\n",
    "\n",
    "c = 20\n",
    "x,y = fun(c)\n",
    "print(x)\n",
    "print(y)\n",
    "print(id(x))\n",
    "\n",
    "print(\"---------\")\n",
    "\n",
    "c = 100\n",
    "s,t = fun(c)\n",
    "print(s)\n",
    "print(t)\n",
    "print(id(s))"
   ]
  },
  {
   "cell_type": "markdown",
   "metadata": {},
   "source": [
    "# Default Argument Values"
   ]
  },
  {
   "cell_type": "code",
   "execution_count": null,
   "metadata": {},
   "outputs": [],
   "source": [
    "def ask_ok(prompt, retries=2, remminder=\"Please try again!\"):\n",
    "    while True:\n",
    "        ok = input(prompt)\n",
    "        if ok in ('y','ye','yes'):\n",
    "            return True\n",
    "        if ok in ('n','no','nop','nope'):\n",
    "            return False\n",
    "        retries = retries - 1\n",
    "        if retries < 0 :\n",
    "            raise ValueError('invalid user response')\n",
    "        print(remminder)\n",
    "\n",
    "ask_ok('Do you really want to quit?')"
   ]
  },
  {
   "cell_type": "code",
   "execution_count": null,
   "metadata": {},
   "outputs": [],
   "source": [
    "# The default values are evaluated at the point of function definition in the defining scope\n",
    "\n",
    "i = 5\n",
    "def f(arg=i):\n",
    "    print(arg)\n",
    "\n",
    "i = 6\n",
    "f()"
   ]
  },
  {
   "cell_type": "code",
   "execution_count": null,
   "metadata": {},
   "outputs": [],
   "source": [
    "# The default value is evaluated only once\n",
    "# This makes difference when the default is a mutable object such as list, dictionary, or instances of most classes.\n",
    "\n",
    "def f1(a, L=[]):\n",
    "    '''print(type(L),id(L))'''\n",
    "    L.append(a)\n",
    "    return L\n",
    "\n",
    "list1 = f1(1)\n",
    "print(list1, id(list1))\n",
    "list2 = f1(2)\n",
    "print(list2, id(list2))\n",
    "list3 = f1(3)\n",
    "print(list3, id(list3))"
   ]
  },
  {
   "cell_type": "code",
   "execution_count": null,
   "metadata": {},
   "outputs": [],
   "source": [
    "def f2(a, L=None):\n",
    "    '''print(type(L),id(L))'''\n",
    "    if L == None:\n",
    "        L = []\n",
    "    L.append(a)\n",
    "    return L\n",
    "\n",
    "list1 = f2(1)\n",
    "print(list1, id(list1))\n",
    "list2 = f2(2)\n",
    "print(list2, id(list2))\n",
    "list3 = f2(3)\n",
    "print(list3, id(list3))"
   ]
  },
  {
   "cell_type": "code",
   "execution_count": null,
   "metadata": {},
   "outputs": [],
   "source": [
    "#不定量參數寫法\n",
    "\n",
    "def test(value, *arguments, **keywords):\n",
    "    print(value)\n",
    "    for arg in arguments:\n",
    "        print(arg)\n",
    "    print(\"-\"*40)\n",
    "    for kw in keywords:\n",
    "        print(kw,\":\",keywords[kw])\n",
    "\n",
    "test(10,20,30,a=100,b=200,c=300)"
   ]
  },
  {
   "cell_type": "code",
   "execution_count": null,
   "metadata": {},
   "outputs": [],
   "source": [
    "def concat(*args, sep='/'):\n",
    "    #print(args)\n",
    "    return sep.join(args)\n",
    "\n",
    "str1 = concat('earth','mars','venus','earth/mars/venus')\n",
    "print(str1)\n",
    "str2 = concat('earth','mars','venus','earth/mars/venus', sep=',')\n",
    "print(str2)"
   ]
  },
  {
   "cell_type": "code",
   "execution_count": null,
   "metadata": {},
   "outputs": [],
   "source": [
    "args = [3,6]\n",
    "print(*args)\n",
    "print(list(range(*args)))\n",
    "\n",
    "def test(**keywords):\n",
    "    for kw in keywords:\n",
    "        print(kw,\":\",keywords[kw])\n",
    "        \n",
    "test(a=100, b=200, c=300)\n",
    "\n",
    "dict1 = {'a':100, 'b':200, 'c':300}\n",
    "test(**dict1)"
   ]
  },
  {
   "cell_type": "code",
   "execution_count": null,
   "metadata": {},
   "outputs": [],
   "source": [
    "# global\n",
    "x = 10\n",
    "\n",
    "def myfun():\n",
    "    global x\n",
    "    x = 20\n",
    "    print(x)\n",
    "\n",
    "print(x)\n",
    "myfun()\n",
    "print(x)"
   ]
  },
  {
   "cell_type": "code",
   "execution_count": null,
   "metadata": {},
   "outputs": [],
   "source": [
    "def square():\n",
    "    global a\n",
    "    a = 5\n",
    "    a = a**2\n",
    "    return a\n",
    "\n",
    "a = 10\n",
    "print(a)\n",
    "square()\n",
    "print(a)"
   ]
  },
  {
   "cell_type": "code",
   "execution_count": null,
   "metadata": {},
   "outputs": [],
   "source": [
    "# global, 針對immutable，參數要加global，才能存取到外部variable，否則一律視為local\n",
    "\n",
    "s = 'I love Paris!'\n",
    "\n",
    "def f():\n",
    "    global s\n",
    "    s += \"I love London!\"\n",
    "    \n",
    "print(s)\n",
    "f()\n",
    "print(s)"
   ]
  },
  {
   "cell_type": "code",
   "execution_count": null,
   "metadata": {},
   "outputs": [],
   "source": [
    "# You can \"access\" non-local variable without sepcifically declare it,\n",
    "# but you have to declare it to change it.\n",
    "\n",
    "a = 5\n",
    "b = 300\n",
    "\n",
    "def myfun():\n",
    "    b = 10\n",
    "    print(a)\n",
    "    print(b)\n",
    "\n",
    "print(a)\n",
    "print(b)\n",
    "print('-'*10)\n",
    "myfun()\n",
    "print('-'*10)\n",
    "a = 500\n",
    "myfun()\n",
    "print('-'*10)\n",
    "print(a)\n",
    "print(b)"
   ]
  },
  {
   "cell_type": "code",
   "execution_count": null,
   "metadata": {},
   "outputs": [],
   "source": [
    "# Local Variable V.S. Global Variable\n",
    "# Local 產生新的變數(label)\n",
    "\n",
    "def foo(x,y):\n",
    "    global a #代表外面的label\n",
    "    a = 100\n",
    "    x,y = y,x\n",
    "    b = 200\n",
    "    print(\"---\",a,b,x,y)\n",
    "    \n",
    "a, b, x, y = 1, 2, 3, 4\n",
    "print(a, b, x, y)\n",
    "foo(x,y)\n",
    "print(a, b, x, y)"
   ]
  },
  {
   "cell_type": "code",
   "execution_count": null,
   "metadata": {},
   "outputs": [],
   "source": [
    "h = []\n",
    "a = 10\n",
    "\n",
    "def fun():\n",
    "    h.append(a)\n",
    "    \n",
    "fun()\n",
    "print(h)\n",
    "fun()\n",
    "print(h)"
   ]
  },
  {
   "cell_type": "code",
   "execution_count": 122,
   "metadata": {},
   "outputs": [
    {
     "name": "stdout",
     "output_type": "stream",
     "text": [
      "[2, 4, 6]\n",
      "----------\n",
      "[2, 100, 6]\n",
      "----------\n",
      "[1, 2, 3]\n",
      "----------\n",
      "10\n",
      "----------\n",
      "1000\n",
      "----------\n",
      "[1, 2, 3, 8]\n"
     ]
    }
   ],
   "source": [
    "# 全域變數 V.S. 區域變數\n",
    "\n",
    "x1 = [2,4,6]\n",
    "a = 5\n",
    "\n",
    "def fun1():\n",
    "    x1[1] = 100 #會更改\n",
    "    print('-'*10)\n",
    "    \n",
    "def fun2():\n",
    "    x1 = [1,2,3] #初值設定: x1是local\n",
    "    print('-'*10)\n",
    "    print(x1)\n",
    "    \n",
    "def fun3():\n",
    "    a = 10 #初值設定: a是local\n",
    "    print('-'*10)\n",
    "    print(a)\n",
    "    \n",
    "def fun4():\n",
    "    global a\n",
    "    a = 1000 #初值設定為local，但global明確定義a是global\n",
    "    print('-'*10)\n",
    "    print(a)\n",
    "    \n",
    "def fun5():\n",
    "    global x1 #改變外面的label，必須加入global，否則新的x1代表是該function內所定義\n",
    "    x1 = [1, 2, 3] #初值設定: x1是local\n",
    "    \n",
    "def fun6():\n",
    "    x1.append(8)\n",
    "    print('-'*10)\n",
    "    print(x1)\n",
    "    \n",
    "\n",
    "    \n",
    "    \n",
    "print(x1)\n",
    "fun1()\n",
    "print(x1)\n",
    "fun2()\n",
    "fun3()\n",
    "fun4()\n",
    "fun5()\n",
    "fun6()"
   ]
  },
  {
   "cell_type": "markdown",
   "metadata": {},
   "source": [
    "# Nonlocal: 在函數或其它作用域中使用外層(非全域)變數\n",
    "## nonlocal關鍵字用在函數或其它作用域中使用外層(非全域)變數"
   ]
  },
  {
   "cell_type": "markdown",
   "metadata": {},
   "source": [
    "# Enclosing Functions\n",
    "## Functions inside Functions"
   ]
  },
  {
   "cell_type": "code",
   "execution_count": 2,
   "metadata": {},
   "outputs": [
    {
     "name": "stdout",
     "output_type": "stream",
     "text": [
      "2\n"
     ]
    }
   ],
   "source": [
    "i = 1\n",
    "def l1():\n",
    "    i = 2\n",
    "    def l2():\n",
    "        print(i)\n",
    "    l2()\n",
    "\n",
    "l1()"
   ]
  },
  {
   "cell_type": "code",
   "execution_count": 4,
   "metadata": {},
   "outputs": [
    {
     "name": "stdout",
     "output_type": "stream",
     "text": [
      "global a = 10\n",
      "inner a =  12\n",
      "outer a =  12\n",
      "global a = 10\n"
     ]
    }
   ],
   "source": [
    "def outer(a):\n",
    "    \n",
    "    def inner():\n",
    "        nonlocal a\n",
    "        a += 1\n",
    "        print(\"inner a = \",a)\n",
    "    \n",
    "    a += 1\n",
    "    inner()\n",
    "    print(\"outer a = \",a)\n",
    "    \n",
    "a = 10\n",
    "print('global a =',a)\n",
    "outer(a)\n",
    "print('global a =',a)"
   ]
  },
  {
   "cell_type": "code",
   "execution_count": 2,
   "metadata": {},
   "outputs": [
    {
     "name": "stdout",
     "output_type": "stream",
     "text": [
      "6\n",
      "6\n"
     ]
    }
   ],
   "source": [
    "# lambda function\n",
    "# Python提供了一個簡易的function define: lambda，用完即丟，不著痕跡。\n",
    "\n",
    "def func(x,y,z):\n",
    "    return x+y+z\n",
    "\n",
    "print(func(1,2,3))\n",
    "\n",
    "func2 = lambda x,y,z: x+y+z\n",
    "print(func2(1,2,3))"
   ]
  },
  {
   "cell_type": "markdown",
   "metadata": {},
   "source": [
    "# Lambda & Map Function"
   ]
  },
  {
   "cell_type": "code",
   "execution_count": 7,
   "metadata": {},
   "outputs": [
    {
     "name": "stdout",
     "output_type": "stream",
     "text": [
      "[1, 4, 9]\n",
      "[18, 14, 14, 14]\n",
      "[17, 10, 19, 23]\n"
     ]
    }
   ],
   "source": [
    "# map function \n",
    "# lambda 也可以應用在map上\n",
    "\n",
    "my_list = [1,2,3]\n",
    "ans = list(map(lambda i : i**2, my_list)) #需要轉成list，才能印出\n",
    "print(ans) #[1, 4, 9]\n",
    "\n",
    "a = [1,2,3,4]\n",
    "b = [17,12,11,10]\n",
    "c = [-1,-4,5,9]\n",
    "\n",
    "# lambda 需要2個數兩個參數\n",
    "print(list(map(lambda x,y: x+y, a,b))) #[18, 14, 14, 14]\n",
    "# lambda 需要3個數兩個參數\n",
    "print(list(map(lambda x,y,z: x+y+z, a,b,c))) #[18, 14, 14, 14]"
   ]
  },
  {
   "cell_type": "markdown",
   "metadata": {},
   "source": [
    "# Zip & Enumerate Example"
   ]
  },
  {
   "cell_type": "code",
   "execution_count": 12,
   "metadata": {},
   "outputs": [
    {
     "name": "stdout",
     "output_type": "stream",
     "text": [
      "[(0, 5), (1, 6), (2, 7), (3, 8), (4, 9)]\n",
      "0 5\n",
      "1 6\n",
      "2 7\n",
      "3 8\n",
      "4 9\n"
     ]
    }
   ],
   "source": [
    "# Zip Example 1\n",
    "\n",
    "A = list(range(5))\n",
    "B = list(range(5,10))\n",
    "Z = list(zip(A,B))\n",
    "print(Z)\n",
    "\n",
    "for i,j in Z:\n",
    "    print(i,j)"
   ]
  },
  {
   "cell_type": "code",
   "execution_count": 14,
   "metadata": {},
   "outputs": [
    {
     "name": "stdout",
     "output_type": "stream",
     "text": [
      "0 1 5\n",
      "1 2 6\n",
      "2 3 7\n",
      "3 4 8\n",
      "0 Angry\n",
      "1 Disgust\n",
      "2 Fear\n",
      "3 Happy\n",
      "4 Sad\n",
      "5 Surprise\n",
      "6 Neutral\n"
     ]
    }
   ],
   "source": [
    "# enumerate\n",
    "A = [1,2,3,4]\n",
    "B = [5,6,7,8]\n",
    "\n",
    "for i, v in enumerate(zip(A,B)):\n",
    "    print(i,v[0],v[1])\n",
    "    \n",
    "emotions = ['Angry','Disgust','Fear','Happy','Sad','Surprise','Neutral']\n",
    "for emotion_id, emotion_name in enumerate(emotions):\n",
    "    print(emotion_id, emotion_name)"
   ]
  },
  {
   "cell_type": "code",
   "execution_count": 10,
   "metadata": {},
   "outputs": [
    {
     "name": "stdout",
     "output_type": "stream",
     "text": [
      "                   0                   0                   0\n",
      "                   1                   1                   1\n",
      "                   2                   4                   8\n",
      "                   3                   9                  27\n",
      "                   4                  16                  64\n",
      "                   5                  25                 125\n",
      "                   6                  36                 216\n",
      "                   7                  49                 343\n",
      "                   8                  64                 512\n",
      "                   9                  81                 729\n",
      "                  10                 100                1000\n"
     ]
    }
   ],
   "source": [
    "for x in range(0,11):\n",
    "    print('{0:-20d}{1:-20d}{2:-20d}'.format(x,x**2,x*x*x))"
   ]
  },
  {
   "cell_type": "markdown",
   "metadata": {},
   "source": [
    "# File Processing: CSV, JSON, Pickle"
   ]
  },
  {
   "cell_type": "code",
   "execution_count": 15,
   "metadata": {},
   "outputs": [
    {
     "name": "stdout",
     "output_type": "stream",
     "text": [
      "a=5\n",
      "b=4\n",
      "c=3\n",
      "d=2\n",
      "f=1\n",
      "e=0\n"
     ]
    }
   ],
   "source": [
    "# read text file ==> read()\n",
    "#1. 讀取整個文檔，將文檔內容放到一個字符串變量中\n",
    "#2. 如果文檔大於可用內存，不可能使用這種處理\n",
    "\n",
    "f = open('Config.txt', 'r', encoding='utf-8')\n",
    "print(f.read())\n",
    "f.close()"
   ]
  },
  {
   "cell_type": "code",
   "execution_count": 16,
   "metadata": {},
   "outputs": [
    {
     "name": "stdout",
     "output_type": "stream",
     "text": [
      "D:\\Python_Summarize\\Python_Training\\ITtraining\\a.txt\n",
      "D:\\Python_Summarize\\Python_Training\\ITtraining\\b.csv\n",
      "D:\\Python_Summarize\\Python_Training\\ITtraining\\c.docx\n"
     ]
    }
   ],
   "source": [
    "# 路徑處理\n",
    "import os.path\n",
    "myfile = ['a.txt','b.csv','c.docx']\n",
    "for filename in myfile:\n",
    "    print(os.path.join(r'D:\\Python_Summarize\\Python_Training\\ITtraining', filename))"
   ]
  },
  {
   "cell_type": "code",
   "execution_count": 17,
   "metadata": {},
   "outputs": [
    {
     "name": "stdout",
     "output_type": "stream",
     "text": [
      "a=5\n",
      "\n",
      "b=4\n",
      "\n",
      "c=3\n",
      "\n",
      "d=2\n",
      "\n",
      "f=1\n",
      "\n",
      "e=0\n"
     ]
    }
   ],
   "source": [
    "# read txt file ==> readline()\n",
    "\n",
    "f = open('Config.txt', 'r', encoding='utf-8')\n",
    "\n",
    "for line in f:\n",
    "    print(line)\n",
    "    \n",
    "f.close()"
   ]
  },
  {
   "cell_type": "code",
   "execution_count": 18,
   "metadata": {},
   "outputs": [
    {
     "name": "stdout",
     "output_type": "stream",
     "text": [
      "a=5\n",
      "\n",
      "b=4\n",
      "\n",
      "c=3\n",
      "\n",
      "d=2\n",
      "\n",
      "f=1\n",
      "\n",
      "e=0\n"
     ]
    }
   ],
   "source": [
    "# read txt file ==> readline()\n",
    "# 每次讀取一行，比readlines()慢得多\n",
    "\n",
    "f = open('Config.txt', 'r', encoding='utf-8')\n",
    "while True:\n",
    "    line = f.readline()\n",
    "    if line:\n",
    "        print(line)\n",
    "    else:\n",
    "        break\n",
    "\n",
    "f.close()"
   ]
  },
  {
   "cell_type": "code",
   "execution_count": 23,
   "metadata": {},
   "outputs": [
    {
     "name": "stdout",
     "output_type": "stream",
     "text": [
      "a=5\n",
      "\n",
      "b=4\n",
      "\n",
      "c=3\n",
      "\n",
      "d=2\n",
      "\n",
      "f=1\n",
      "\n",
      "e=0\n",
      "----------------------------------------\n",
      "['a=5', 'b=4', 'c=3', 'd=2', 'f=1', 'e=0']\n"
     ]
    }
   ],
   "source": [
    "# read txt file ==> readlines()\n",
    "#1. 一次性讀取整個文檔\n",
    "#2. 自動將文檔內容分析成list\n",
    "\n",
    "f = open('Config.txt', 'r', encoding='utf-8')\n",
    "lines = f.readlines()\n",
    "result = list()\n",
    "\n",
    "for line in lines:\n",
    "    print(line,end='\\n')\n",
    "    result.append(line.strip())\n",
    "    \n",
    "f.close()\n",
    "\n",
    "print('-'*40)\n",
    "print(result)"
   ]
  },
  {
   "cell_type": "code",
   "execution_count": 30,
   "metadata": {},
   "outputs": [
    {
     "name": "stdout",
     "output_type": "stream",
     "text": [
      "a=5\n",
      "\n",
      "b=4\n",
      "\n",
      "c=3\n",
      "\n",
      "d=2\n",
      "\n",
      "f=1\n",
      "\n",
      "e=0\n"
     ]
    }
   ],
   "source": [
    "# Write txt File\n",
    "#'r+' -> read + write text\n",
    "#'w+' -> read + write text\n",
    "#'a+' -> append + read text\n",
    "\n",
    "\n",
    "result = ['a=5\\n', 'b=4\\n', 'c=3\\n', 'd=2\\n', 'f=1\\n', 'e=0']\n",
    "\n",
    "f = open('result_readlines.txt', 'w', encoding='utf-8')\n",
    "\n",
    "for line in result:\n",
    "    print(line,end='\\n')\n",
    "    f.write(line)\n",
    "f.close()\n"
   ]
  },
  {
   "cell_type": "code",
   "execution_count": 46,
   "metadata": {},
   "outputs": [
    {
     "name": "stdout",
     "output_type": "stream",
     "text": [
      "Error\n"
     ]
    },
    {
     "ename": "ValueError",
     "evalue": "I/O operation on closed file.",
     "output_type": "error",
     "traceback": [
      "\u001b[1;31m---------------------------------------------------------------------------\u001b[0m",
      "\u001b[1;31mValueError\u001b[0m                                Traceback (most recent call last)",
      "\u001b[1;32m<ipython-input-46-614920ed5e70>\u001b[0m in \u001b[0;36m<module>\u001b[1;34m\u001b[0m\n\u001b[0;32m     19\u001b[0m \u001b[1;33m\u001b[0m\u001b[0m\n\u001b[0;32m     20\u001b[0m \u001b[1;31m# f.close()\u001b[0m\u001b[1;33m\u001b[0m\u001b[1;33m\u001b[0m\u001b[1;33m\u001b[0m\u001b[0m\n\u001b[1;32m---> 21\u001b[1;33m \u001b[0mprint\u001b[0m\u001b[1;33m(\u001b[0m\u001b[0mf\u001b[0m\u001b[1;33m.\u001b[0m\u001b[0mread\u001b[0m\u001b[1;33m(\u001b[0m\u001b[1;33m)\u001b[0m\u001b[1;33m)\u001b[0m\u001b[1;33m\u001b[0m\u001b[1;33m\u001b[0m\u001b[0m\n\u001b[0m",
      "\u001b[1;31mValueError\u001b[0m: I/O operation on closed file."
     ]
    }
   ],
   "source": [
    "# file I/O: try...except...\n",
    "# 由於檔讀寫時都有可能產生IOError，一旦出錯，後面的f.close()就不會調用。所以為了保證無論是否出錯都能正確地關檔。\n",
    "# 但 try...finally...每次都這麼寫實在太繁瑣，所以Python引入了with語句來自動幫我們調用close()方法\n",
    "\n",
    "'''\n",
    "try:\n",
    "    f = open('Non-Exist-File.txt', 'r', encoding='utf-8')\n",
    "    print(f.read())\n",
    "finally:\n",
    "    if f:\n",
    "        f.close()\n",
    "'''\n",
    "\n",
    "try:\n",
    "    with open('Non-Exist-File.txt', 'r', encoding='utf-8') as f:\n",
    "        print(f.read())\n",
    "except IOError:\n",
    "    print('Error')\n",
    "    \n",
    "# f.close()\n",
    "# print(f.read())\n"
   ]
  },
  {
   "cell_type": "code",
   "execution_count": 35,
   "metadata": {},
   "outputs": [
    {
     "name": "stdout",
     "output_type": "stream",
     "text": [
      "Ready to Read File\n",
      "OK\n"
     ]
    }
   ],
   "source": [
    "try:\n",
    "    f = open('result_readlines.txt', 'a+', encoding='utf-8')\n",
    "    print('Ready to Read File')\n",
    "    f.write('Hello')\n",
    "except:\n",
    "    print(\"Error\")\n",
    "finally:\n",
    "    print('OK')"
   ]
  },
  {
   "cell_type": "code",
   "execution_count": null,
   "metadata": {},
   "outputs": [],
   "source": []
  },
  {
   "cell_type": "code",
   "execution_count": null,
   "metadata": {},
   "outputs": [],
   "source": []
  }
 ],
 "metadata": {
  "kernelspec": {
   "display_name": "Python 3",
   "language": "python",
   "name": "python3"
  },
  "language_info": {
   "codemirror_mode": {
    "name": "ipython",
    "version": 3
   },
   "file_extension": ".py",
   "mimetype": "text/x-python",
   "name": "python",
   "nbconvert_exporter": "python",
   "pygments_lexer": "ipython3",
   "version": "3.7.7"
  }
 },
 "nbformat": 4,
 "nbformat_minor": 1
}
