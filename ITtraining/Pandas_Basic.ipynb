{
 "cells": [
  {
   "cell_type": "code",
   "execution_count": 4,
   "metadata": {},
   "outputs": [],
   "source": [
    "import pandas as pd\n",
    "import numpy as np\n",
    "import matplotlib.pyplot as plt \n",
    "import datetime"
   ]
  },
  {
   "cell_type": "code",
   "execution_count": 2,
   "metadata": {},
   "outputs": [
    {
     "name": "stdout",
     "output_type": "stream",
     "text": [
      "0    1.0\n",
      "1    3.0\n",
      "2    5.0\n",
      "3    NaN\n",
      "4    7.0\n",
      "5    9.0\n",
      "dtype: float64\n"
     ]
    }
   ],
   "source": [
    "s = pd.Series([1, 3, 5, np.nan, 7, 9])\n",
    "print(s)"
   ]
  },
  {
   "cell_type": "code",
   "execution_count": 6,
   "metadata": {},
   "outputs": [
    {
     "name": "stdout",
     "output_type": "stream",
     "text": [
      "A    1.0\n",
      "B    3.0\n",
      "C    5.0\n",
      "D    NaN\n",
      "E    7.0\n",
      "F    9.0\n",
      "dtype: float64\n",
      "[ 1.  3.  5. nan  7.  9.]\n",
      "3.0\n",
      "3.0\n"
     ]
    }
   ],
   "source": [
    "x = pd.Series([1, 3, 5, np.nan, 7, 9], index=['A', 'B', 'C', 'D', 'E', 'F'])\n",
    "print(x)\n",
    "print(x.values)\n",
    "print(x['B'])\n",
    "print(x[1])"
   ]
  },
  {
   "cell_type": "markdown",
   "metadata": {},
   "source": [
    "## 產生DataFrame"
   ]
  },
  {
   "cell_type": "code",
   "execution_count": 8,
   "metadata": {},
   "outputs": [
    {
     "name": "stdout",
     "output_type": "stream",
     "text": [
      "Empty DataFrame\n",
      "Columns: []\n",
      "Index: []\n"
     ]
    }
   ],
   "source": [
    "#Empty DataFrame\n",
    "df = pd.DataFrame()\n",
    "print(df)"
   ]
  },
  {
   "cell_type": "code",
   "execution_count": 9,
   "metadata": {},
   "outputs": [
    {
     "name": "stdout",
     "output_type": "stream",
     "text": [
      "   A  B  C\n",
      "0  a  d  g\n",
      "1  b  e  h\n",
      "2  c  f  i\n"
     ]
    }
   ],
   "source": [
    "#從Python Dict結構轉換\n",
    "df = pd.DataFrame({\"A\":['a', 'b', 'c'], \"B\":['d', 'e', 'f'], \"C\":['g', 'h', 'i']})\n",
    "print(df)"
   ]
  },
  {
   "cell_type": "code",
   "execution_count": 12,
   "metadata": {},
   "outputs": [
    {
     "name": "stdout",
     "output_type": "stream",
     "text": [
      "   0  1  2\n",
      "0  0  1  2\n",
      "1  3  4  5\n",
      "2  6  7  8\n"
     ]
    }
   ],
   "source": [
    "# 從 numpy ndim Array\n",
    "df = pd.DataFrame(np.arange(9).reshape(3,3))\n",
    "print(df)"
   ]
  },
  {
   "cell_type": "markdown",
   "metadata": {},
   "source": [
    "### 生成二維陣列DataFrame"
   ]
  },
  {
   "cell_type": "code",
   "execution_count": 96,
   "metadata": {},
   "outputs": [
    {
     "name": "stdout",
     "output_type": "stream",
     "text": [
      "DatetimeIndex(['2020-05-30', '2020-05-31', '2020-06-01', '2020-06-02',\n",
      "               '2020-06-03', '2020-06-04', '2020-06-05', '2020-06-06',\n",
      "               '2020-06-07', '2020-06-08',\n",
      "               ...\n",
      "               '2021-05-21', '2021-05-22', '2021-05-23', '2021-05-24',\n",
      "               '2021-05-25', '2021-05-26', '2021-05-27', '2021-05-28',\n",
      "               '2021-05-29', '2021-05-30'],\n",
      "              dtype='datetime64[ns]', length=366, freq='D')\n"
     ]
    },
    {
     "data": {
      "text/plain": [
       "DatetimeIndex(['2020-05-30', '2020-05-31', '2020-06-01', '2020-06-02',\n",
       "               '2020-06-03', '2020-06-04', '2020-06-05', '2020-06-06',\n",
       "               '2020-06-07', '2020-06-08',\n",
       "               ...\n",
       "               '2021-05-21', '2021-05-22', '2021-05-23', '2021-05-24',\n",
       "               '2021-05-25', '2021-05-26', '2021-05-27', '2021-05-28',\n",
       "               '2021-05-29', '2021-05-30'],\n",
       "              dtype='datetime64[ns]', length=366, freq='D')"
      ]
     },
     "execution_count": 96,
     "metadata": {},
     "output_type": "execute_result"
    }
   ],
   "source": [
    "import datetime\n",
    "start_day=datetime.date.today() - datetime.timedelta(days=365)\n",
    "start_day = datetime.datetime.strftime(start_day, '%Y%m%d')\n",
    "# print(datetime.datetime.strftime(start_day, '%Y%m%d'))\n",
    "dates = pd.date_range(start=start_day, end=datetime.datetime.strftime(datetime.datetime.now(), '%Y%m%d'), freq='D') #間隔為天\n",
    "print(dates)\n",
    "# print(dates[4])"
   ]
  },
  {
   "cell_type": "code",
   "execution_count": 18,
   "metadata": {},
   "outputs": [
    {
     "name": "stdout",
     "output_type": "stream",
     "text": [
      "DatetimeIndex(['2021-06-04', '2021-06-05', '2021-06-06', '2021-06-07',\n",
      "               '2021-06-08', '2021-06-09', '2021-06-10', '2021-06-11',\n",
      "               '2021-06-12', '2021-06-13'],\n",
      "              dtype='datetime64[ns]', freq='D')\n"
     ]
    },
    {
     "data": {
      "text/plain": [
       "Timestamp('2021-06-04 00:00:00', freq='D')"
      ]
     },
     "execution_count": 18,
     "metadata": {},
     "output_type": "execute_result"
    }
   ],
   "source": [
    "dates = pd.date_range(datetime.datetime.strftime(datetime.datetime.now(), '%Y%m%d'), periods=10)\n",
    "print(dates)\n",
    "dates[0]"
   ]
  },
  {
   "cell_type": "code",
   "execution_count": 116,
   "metadata": {},
   "outputs": [
    {
     "name": "stdout",
     "output_type": "stream",
     "text": [
      "                   A         B         C         D         E\n",
      "2021-06-04  0.999032 -0.174609  1.037754  0.378771 -0.426432\n",
      "2021-06-05  0.911121  1.089702  1.170580 -0.484064  1.076179\n",
      "2021-06-06  1.230335  0.638778  0.096719  1.229811 -0.197284\n",
      "2021-06-07  0.020209 -1.085716  1.936257 -0.612488  0.701671\n",
      "2021-06-08 -0.354877  1.282248  0.802425 -0.222395  2.206067\n",
      "2021-06-09  0.044229  1.405512  0.526113 -0.162318 -0.925671\n",
      "2021-06-10  0.042522 -0.960252 -0.724151  0.565790  0.846817\n",
      "2021-06-11  1.206577  1.322562  0.114130 -0.017366 -0.159536\n",
      "2021-06-12 -0.226251 -0.623517  0.993696  1.041218  0.167252\n",
      "2021-06-13  0.847308 -0.132514  1.983351 -0.233523  1.898111\n",
      "2021-06-14 -0.768090  0.823988 -0.420355  0.153092 -0.381644\n",
      "2021-06-15 -3.180757  0.697058  0.208633 -1.027143  2.973888\n",
      "2021-06-16  0.164381  1.639129  0.782745  0.785246  0.775079\n",
      "2021-06-17  0.870974  0.183644 -0.403022 -0.585421 -0.735260\n",
      "2021-06-18  1.491561  2.327550  0.883860 -0.205584 -0.314562\n",
      "2021-06-19  1.384471 -0.483907 -0.504569 -2.149038 -0.938794\n",
      "2021-06-20 -1.023107 -0.218345 -2.277130  0.413514  1.134508\n",
      "2021-06-21 -0.165527  0.640252  0.783403 -0.676465  0.269576\n",
      "2021-06-22 -1.306733 -0.166664 -0.768084  0.575867 -0.079615\n",
      "2021-06-23  0.159060 -0.194451 -0.668014 -0.469310 -1.436773\n"
     ]
    },
    {
     "data": {
      "text/html": [
       "<div>\n",
       "<style scoped>\n",
       "    .dataframe tbody tr th:only-of-type {\n",
       "        vertical-align: middle;\n",
       "    }\n",
       "\n",
       "    .dataframe tbody tr th {\n",
       "        vertical-align: top;\n",
       "    }\n",
       "\n",
       "    .dataframe thead th {\n",
       "        text-align: right;\n",
       "    }\n",
       "</style>\n",
       "<table border=\"1\" class=\"dataframe\">\n",
       "  <thead>\n",
       "    <tr style=\"text-align: right;\">\n",
       "      <th></th>\n",
       "      <th>E</th>\n",
       "      <th>F</th>\n",
       "      <th>G</th>\n",
       "      <th>H</th>\n",
       "      <th>I</th>\n",
       "      <th>G-Multiply</th>\n",
       "    </tr>\n",
       "  </thead>\n",
       "  <tbody>\n",
       "    <tr>\n",
       "      <th>2021-06-23</th>\n",
       "      <td>1812.0</td>\n",
       "      <td>NaN</td>\n",
       "      <td>NaN</td>\n",
       "      <td>NaN</td>\n",
       "      <td>NaN</td>\n",
       "      <td>-0.074648</td>\n",
       "    </tr>\n",
       "    <tr>\n",
       "      <th>2021-06-24</th>\n",
       "      <td>NaN</td>\n",
       "      <td>NaN</td>\n",
       "      <td>NaN</td>\n",
       "      <td>NaN</td>\n",
       "      <td>NaN</td>\n",
       "      <td>NaN</td>\n",
       "    </tr>\n",
       "    <tr>\n",
       "      <th>2021-06-25</th>\n",
       "      <td>NaN</td>\n",
       "      <td>NaN</td>\n",
       "      <td>NaN</td>\n",
       "      <td>NaN</td>\n",
       "      <td>NaN</td>\n",
       "      <td>NaN</td>\n",
       "    </tr>\n",
       "    <tr>\n",
       "      <th>2021-06-26</th>\n",
       "      <td>NaN</td>\n",
       "      <td>NaN</td>\n",
       "      <td>NaN</td>\n",
       "      <td>NaN</td>\n",
       "      <td>NaN</td>\n",
       "      <td>NaN</td>\n",
       "    </tr>\n",
       "    <tr>\n",
       "      <th>2021-06-27</th>\n",
       "      <td>NaN</td>\n",
       "      <td>NaN</td>\n",
       "      <td>NaN</td>\n",
       "      <td>NaN</td>\n",
       "      <td>NaN</td>\n",
       "      <td>NaN</td>\n",
       "    </tr>\n",
       "    <tr>\n",
       "      <th>2021-06-28</th>\n",
       "      <td>NaN</td>\n",
       "      <td>NaN</td>\n",
       "      <td>NaN</td>\n",
       "      <td>NaN</td>\n",
       "      <td>NaN</td>\n",
       "      <td>NaN</td>\n",
       "    </tr>\n",
       "    <tr>\n",
       "      <th>2021-06-29</th>\n",
       "      <td>NaN</td>\n",
       "      <td>NaN</td>\n",
       "      <td>NaN</td>\n",
       "      <td>NaN</td>\n",
       "      <td>NaN</td>\n",
       "      <td>NaN</td>\n",
       "    </tr>\n",
       "    <tr>\n",
       "      <th>2021-06-30</th>\n",
       "      <td>NaN</td>\n",
       "      <td>NaN</td>\n",
       "      <td>NaN</td>\n",
       "      <td>NaN</td>\n",
       "      <td>NaN</td>\n",
       "      <td>NaN</td>\n",
       "    </tr>\n",
       "    <tr>\n",
       "      <th>2021-07-01</th>\n",
       "      <td>NaN</td>\n",
       "      <td>NaN</td>\n",
       "      <td>NaN</td>\n",
       "      <td>NaN</td>\n",
       "      <td>NaN</td>\n",
       "      <td>NaN</td>\n",
       "    </tr>\n",
       "    <tr>\n",
       "      <th>2021-07-02</th>\n",
       "      <td>NaN</td>\n",
       "      <td>NaN</td>\n",
       "      <td>NaN</td>\n",
       "      <td>NaN</td>\n",
       "      <td>NaN</td>\n",
       "      <td>NaN</td>\n",
       "    </tr>\n",
       "    <tr>\n",
       "      <th>2021-07-03</th>\n",
       "      <td>NaN</td>\n",
       "      <td>NaN</td>\n",
       "      <td>NaN</td>\n",
       "      <td>NaN</td>\n",
       "      <td>NaN</td>\n",
       "      <td>NaN</td>\n",
       "    </tr>\n",
       "    <tr>\n",
       "      <th>2021-07-04</th>\n",
       "      <td>NaN</td>\n",
       "      <td>NaN</td>\n",
       "      <td>NaN</td>\n",
       "      <td>NaN</td>\n",
       "      <td>NaN</td>\n",
       "      <td>NaN</td>\n",
       "    </tr>\n",
       "    <tr>\n",
       "      <th>2021-07-05</th>\n",
       "      <td>NaN</td>\n",
       "      <td>NaN</td>\n",
       "      <td>NaN</td>\n",
       "      <td>NaN</td>\n",
       "      <td>NaN</td>\n",
       "      <td>NaN</td>\n",
       "    </tr>\n",
       "    <tr>\n",
       "      <th>2021-07-06</th>\n",
       "      <td>NaN</td>\n",
       "      <td>NaN</td>\n",
       "      <td>NaN</td>\n",
       "      <td>NaN</td>\n",
       "      <td>NaN</td>\n",
       "      <td>NaN</td>\n",
       "    </tr>\n",
       "    <tr>\n",
       "      <th>2021-07-07</th>\n",
       "      <td>NaN</td>\n",
       "      <td>NaN</td>\n",
       "      <td>NaN</td>\n",
       "      <td>NaN</td>\n",
       "      <td>NaN</td>\n",
       "      <td>NaN</td>\n",
       "    </tr>\n",
       "    <tr>\n",
       "      <th>2021-07-08</th>\n",
       "      <td>NaN</td>\n",
       "      <td>NaN</td>\n",
       "      <td>NaN</td>\n",
       "      <td>NaN</td>\n",
       "      <td>NaN</td>\n",
       "      <td>NaN</td>\n",
       "    </tr>\n",
       "    <tr>\n",
       "      <th>2021-07-09</th>\n",
       "      <td>NaN</td>\n",
       "      <td>NaN</td>\n",
       "      <td>NaN</td>\n",
       "      <td>NaN</td>\n",
       "      <td>NaN</td>\n",
       "      <td>NaN</td>\n",
       "    </tr>\n",
       "    <tr>\n",
       "      <th>2021-07-10</th>\n",
       "      <td>NaN</td>\n",
       "      <td>NaN</td>\n",
       "      <td>NaN</td>\n",
       "      <td>NaN</td>\n",
       "      <td>NaN</td>\n",
       "      <td>NaN</td>\n",
       "    </tr>\n",
       "    <tr>\n",
       "      <th>2021-07-11</th>\n",
       "      <td>NaN</td>\n",
       "      <td>NaN</td>\n",
       "      <td>NaN</td>\n",
       "      <td>NaN</td>\n",
       "      <td>NaN</td>\n",
       "      <td>NaN</td>\n",
       "    </tr>\n",
       "    <tr>\n",
       "      <th>2021-07-12</th>\n",
       "      <td>NaN</td>\n",
       "      <td>NaN</td>\n",
       "      <td>NaN</td>\n",
       "      <td>NaN</td>\n",
       "      <td>NaN</td>\n",
       "      <td>NaN</td>\n",
       "    </tr>\n",
       "  </tbody>\n",
       "</table>\n",
       "</div>"
      ],
      "text/plain": [
       "                 E   F   G   H   I  G-Multiply\n",
       "2021-06-23  1812.0 NaN NaN NaN NaN   -0.074648\n",
       "2021-06-24     NaN NaN NaN NaN NaN         NaN\n",
       "2021-06-25     NaN NaN NaN NaN NaN         NaN\n",
       "2021-06-26     NaN NaN NaN NaN NaN         NaN\n",
       "2021-06-27     NaN NaN NaN NaN NaN         NaN\n",
       "2021-06-28     NaN NaN NaN NaN NaN         NaN\n",
       "2021-06-29     NaN NaN NaN NaN NaN         NaN\n",
       "2021-06-30     NaN NaN NaN NaN NaN         NaN\n",
       "2021-07-01     NaN NaN NaN NaN NaN         NaN\n",
       "2021-07-02     NaN NaN NaN NaN NaN         NaN\n",
       "2021-07-03     NaN NaN NaN NaN NaN         NaN\n",
       "2021-07-04     NaN NaN NaN NaN NaN         NaN\n",
       "2021-07-05     NaN NaN NaN NaN NaN         NaN\n",
       "2021-07-06     NaN NaN NaN NaN NaN         NaN\n",
       "2021-07-07     NaN NaN NaN NaN NaN         NaN\n",
       "2021-07-08     NaN NaN NaN NaN NaN         NaN\n",
       "2021-07-09     NaN NaN NaN NaN NaN         NaN\n",
       "2021-07-10     NaN NaN NaN NaN NaN         NaN\n",
       "2021-07-11     NaN NaN NaN NaN NaN         NaN\n",
       "2021-07-12     NaN NaN NaN NaN NaN         NaN"
      ]
     },
     "execution_count": 116,
     "metadata": {},
     "output_type": "execute_result"
    }
   ],
   "source": [
    "dates = pd.date_range(datetime.datetime.strftime(datetime.datetime.now(), '%Y%m%d'), periods=20)\n",
    "df = pd.DataFrame(np.random.randn(20,5), index=dates, columns=list('ABCDE'))\n",
    "print(df)\n",
    "df['B']\n",
    "df.B\n",
    "df[['A','B','C']]\n",
    "\n",
    "columns = ['A','B','C']\n",
    "df[columns]\n",
    "\n",
    "df.values[1]\n",
    "# df\n",
    "\n",
    "df.head() #預設顯示前五行\n",
    "df.head(3) #查看前三行\n",
    "df.tail(3) #查看最後三行\n",
    "\n",
    "#查看二維資料的索引、列名和資料\n",
    "df.index #索引\n",
    "df.columns #列名\n",
    "df.values #內容\n",
    "df.describe() #平均值、標準差、最小值、最大值、四分位數\n",
    "df.T #轉置\n",
    "df.sort_index(axis=1, ascending=False) #排序，遞減\n",
    "df.sort_index(axis=0, ascending=False) #排序，遞減\n",
    "df.sort_values(by='A', ascending=False) #排序，依據'A'欄位的值\n",
    "\n",
    "df['G-Multiply'] = df['A'] * df['D']\n",
    "B_C = df['B'] * df['C']\n",
    "B_C = pd.Series(B_C) \n",
    "df['G-Multiply2'] = B_C \n",
    "df[0:5] #切片\n",
    "df['2021-06-09':'2021-06-19'] #切片，包含'2021-06-19'\n",
    "df.loc['2021-06-15']\n",
    "df[df.index=='2021-06-15']\n",
    "df.loc['2021-06-15',['C']]\n",
    "df.loc['2021-06-15','C']\n",
    "df.at['2021-06-15','C']\n",
    "df.loc['2021-06-15',['A','C','E']]\n",
    "df.loc[:,['A','C','E']]\n",
    "df.loc['2021-06-09':'2021-06-19',['A','C','E']]\n",
    "\n",
    "# 切片-使用iloc (使用index去locate)\n",
    "df.iloc[6]\n",
    "df.iloc[6,4]\n",
    "df.iloc[6:10]\n",
    "df.iloc[6:10, 1:4]\n",
    "\n",
    "filter = df[df.C>1]\n",
    "filter.index\n",
    "\n",
    "x = df.C>1\n",
    "y = df.B<=1\n",
    "df[(x&y)] #交集\n",
    "\n",
    "df.iat[2,4] = 55688 #修改指定位置元素值\n",
    "\n",
    "df.iloc[3,5] = np.NAN\n",
    "df.iloc[4,6] = np.NAN\n",
    "# print(df)\n",
    "\n",
    "df.A.isnull()\n",
    "df['A'].isnull()\n",
    "pd.isnull(df['A'])\n",
    "pd.isnull(df)\n",
    "\n",
    "df['G-Multiply'].isnull()\n",
    "pd.isnull(df['G-Multiply2'])\n",
    "\n",
    "df.dropna()\n",
    "\n",
    "df.fillna(800, inplace=True)\n",
    "df['G-Multiply'].fillna(800, inplace=True)\n",
    "\n",
    "df.drop(['B','D'], axis=1)\n",
    "\n",
    "\n",
    "df['Minus-Multiply2'] = -df['G-Multiply'] #對指定列數據加負號\n",
    "df['abs-Multiply2'] = abs(df['G-Multiply']) #對指定列數據加絕對值\n",
    "df.loc[:,'E'] = [np.random.randint(0,5000) for i in range(20)] #修改某列的值\n",
    "df.loc[:,'A'] = [i for i in range(20)] #修改某列的值\n",
    "\n",
    "dates = pd.date_range('2021-06-23', periods=20)\n",
    "\n",
    "df1 = df.reindex(index=dates, columns=list('EFGHI')+['G-Multiply'])\n",
    "df1"
   ]
  },
  {
   "cell_type": "code",
   "execution_count": 60,
   "metadata": {},
   "outputs": [
    {
     "name": "stdout",
     "output_type": "stream",
     "text": [
      "     A          B  C  D          E                      F\n",
      "0  1.0 2021-05-30  1  5   Elephant  Pandas Basic Practice\n",
      "1  1.0 2021-05-30  1  5        Ant  Pandas Basic Practice\n",
      "2  1.0 2021-05-30  1  5     Rabbit  Pandas Basic Practice\n",
      "3  1.0 2021-05-30  1  5      Tiger  Pandas Basic Practice\n",
      "4  1.0 2021-05-30  1  5       Lion  Pandas Basic Practice\n",
      "5  1.0 2021-05-30  1  5  Cockroach  Pandas Basic Practice\n",
      "6  1.0 2021-05-30  1  5      Human  Pandas Basic Practice\n",
      "7  1.0 2021-05-30  1  5        Bee  Pandas Basic Practice\n",
      "8  1.0 2021-05-30  1  5  Butterfly  Pandas Basic Practice\n",
      "9  1.0 2021-05-30  1  5       Bird  Pandas Basic Practice\n"
     ]
    },
    {
     "data": {
      "text/plain": [
       "A           float64\n",
       "B    datetime64[ns]\n",
       "C             int64\n",
       "D             int64\n",
       "E          category\n",
       "F            object\n",
       "dtype: object"
      ]
     },
     "execution_count": 60,
     "metadata": {},
     "output_type": "execute_result"
    }
   ],
   "source": [
    "#dict. keys → 欄位\n",
    "df = pd.DataFrame({'A':1.,\n",
    "                   'B':pd.Timestamp(datetime.datetime.strftime(datetime.datetime.now(), '%Y%m%d')),\n",
    "                   'C':pd.Series(1, index=list(range(10)), dtype='int64'),\n",
    "                   'D':np.array([5]*10, dtype='int64'),\n",
    "                   'E':pd.Categorical(['Elephant', 'Ant', 'Rabbit', 'Tiger', 'Lion', 'Cockroach', 'Human', 'Bee', 'Butterfly', 'Bird']),\n",
    "                   'F':'Pandas Basic Practice'})\n",
    "print(df)\n",
    "df.dtypes"
   ]
  },
  {
   "cell_type": "code",
   "execution_count": 67,
   "metadata": {},
   "outputs": [
    {
     "name": "stdout",
     "output_type": "stream",
     "text": [
      "     A          B  C  D          E                        F\n",
      "0  1.0 2021-05-30  1  5   Elephant    Pandas Basic Practice\n",
      "1  1.0 2021-05-30  1  5        Ant    Pandas Basic Practice\n",
      "2  1.0 2021-05-30  1  5     Rabbit    Pandas Basic Practice\n",
      "3  1.0 2021-05-30  1  5      Tiger    Pandas Basic Practice\n",
      "4  1.0 2021-05-30  1  5       Lion    Pandas Basic Practice\n",
      "5  2.0 2021-05-30  2  8  Cockroach  Pandas Example Practice\n",
      "6  2.0 2021-05-30  2  8      Human  Pandas Example Practice\n",
      "7  2.0 2021-05-30  2  8        Bee  Pandas Example Practice\n",
      "8  2.0 2021-05-30  2  8  Butterfly  Pandas Example Practice\n",
      "9  2.0 2021-05-30  2  8       Bird  Pandas Example Practice\n",
      "(10, 6)\n"
     ]
    }
   ],
   "source": [
    "# merge two dataframe using append\n",
    "df1 = pd.DataFrame({'A':1.,\n",
    "                   'B':pd.Timestamp(datetime.datetime.strftime(datetime.datetime.now(), '%Y%m%d')),\n",
    "                   'C':pd.Series(1, index=list(range(5)), dtype='int64'),\n",
    "                   'D':np.array([5]*5, dtype='int64'),\n",
    "                   'E':pd.Categorical(['Elephant', 'Ant', 'Rabbit', 'Tiger', 'Lion',]),\n",
    "                   'F':'Pandas Basic Practice'})\n",
    "\n",
    "df2 = pd.DataFrame({'A':2.,\n",
    "                   'B':pd.Timestamp(datetime.datetime.strftime(datetime.datetime.now(), '%Y-%m-%d')),\n",
    "                   'C':pd.Series(2, index=list(range(5)), dtype='int64'),\n",
    "                   'D':np.array([8]*5, dtype='int64'),\n",
    "                   'E':pd.Categorical(['Cockroach', 'Human', 'Bee', 'Butterfly', 'Bird']),\n",
    "                   'F':'Pandas Example Practice'})\n",
    "\n",
    "df3 = df1.append(df2, ignore_index=True)\n",
    "print(df3)\n",
    "\n",
    "print(df3.shape)\n"
   ]
  },
  {
   "cell_type": "code",
   "execution_count": 70,
   "metadata": {},
   "outputs": [
    {
     "name": "stdout",
     "output_type": "stream",
     "text": [
      "   A  B\n",
      "0  1  2\n",
      "1  3  4\n",
      "2  5  6\n",
      "3  7  8\n",
      "(4, 2)\n"
     ]
    }
   ],
   "source": [
    "df1 = pd.DataFrame([[1, 2], [3, 4]], columns=list('AB'))\n",
    "\n",
    "df2 = pd.DataFrame([[5, 6], [7, 8]], columns=list('AB'))\n",
    "df3 = df1.append(df2, ignore_index=True)\n",
    "print(df3)\n",
    "print(df3.shape)"
   ]
  },
  {
   "cell_type": "code",
   "execution_count": 85,
   "metadata": {},
   "outputs": [
    {
     "data": {
      "text/html": [
       "<div>\n",
       "<style scoped>\n",
       "    .dataframe tbody tr th:only-of-type {\n",
       "        vertical-align: middle;\n",
       "    }\n",
       "\n",
       "    .dataframe tbody tr th {\n",
       "        vertical-align: top;\n",
       "    }\n",
       "\n",
       "    .dataframe thead th {\n",
       "        text-align: right;\n",
       "    }\n",
       "</style>\n",
       "<table border=\"1\" class=\"dataframe\">\n",
       "  <thead>\n",
       "    <tr style=\"text-align: right;\">\n",
       "      <th></th>\n",
       "      <th>A</th>\n",
       "      <th>B</th>\n",
       "      <th>C</th>\n",
       "      <th>D</th>\n",
       "      <th>E</th>\n",
       "      <th>F</th>\n",
       "      <th>t0</th>\n",
       "      <th>t1</th>\n",
       "      <th>t2</th>\n",
       "    </tr>\n",
       "  </thead>\n",
       "  <tbody>\n",
       "    <tr>\n",
       "      <th>0</th>\n",
       "      <td>1.0</td>\n",
       "      <td>2021-05-30</td>\n",
       "      <td>1</td>\n",
       "      <td>[5, 5, 5, 5, 5]</td>\n",
       "      <td>[Elephant, Ant, Rabbit, Tiger, Lion]\n",
       "Categorie...</td>\n",
       "      <td>Pandas Basic Practice</td>\n",
       "      <td>0</td>\n",
       "      <td>NaN</td>\n",
       "      <td>100</td>\n",
       "    </tr>\n",
       "    <tr>\n",
       "      <th>1</th>\n",
       "      <td>2.0</td>\n",
       "      <td>2021-05-30</td>\n",
       "      <td>2</td>\n",
       "      <td>NaN</td>\n",
       "      <td>[Cockroach, Human, Bee, Butterfly, Bird]\n",
       "Categ...</td>\n",
       "      <td>NaN</td>\n",
       "      <td>0</td>\n",
       "      <td>NaN</td>\n",
       "      <td>100</td>\n",
       "    </tr>\n",
       "  </tbody>\n",
       "</table>\n",
       "</div>"
      ],
      "text/plain": [
       "     A          B  C                D  \\\n",
       "0  1.0 2021-05-30  1  [5, 5, 5, 5, 5]   \n",
       "1  2.0 2021-05-30  2              NaN   \n",
       "\n",
       "                                                   E                      F  \\\n",
       "0  [Elephant, Ant, Rabbit, Tiger, Lion]\n",
       "Categorie...  Pandas Basic Practice   \n",
       "1  [Cockroach, Human, Bee, Butterfly, Bird]\n",
       "Categ...                    NaN   \n",
       "\n",
       "   t0  t1   t2  \n",
       "0   0 NaN  100  \n",
       "1   0 NaN  100  "
      ]
     },
     "execution_count": 85,
     "metadata": {},
     "output_type": "execute_result"
    }
   ],
   "source": [
    "# pandas dataframe format\n",
    "x = ({'A':1.,\n",
    "   'B':pd.Timestamp(datetime.datetime.strftime(datetime.datetime.now(), '%Y%m%d')),\n",
    "   'C':1,\n",
    "   'D':np.array([5]*5, dtype='int64'),\n",
    "   'E':pd.Categorical(['Elephant', 'Ant', 'Rabbit', 'Tiger', 'Lion',]),\n",
    "   'F':'Pandas Basic Practice'},\n",
    "    {'A':2.,\n",
    "   'B':pd.Timestamp(datetime.datetime.strftime(datetime.datetime.now(), '%Y-%m-%d')),\n",
    "   'C':2,\n",
    "   'E':pd.Categorical(['Cockroach', 'Human', 'Bee', 'Butterfly', 'Bird']),\n",
    "   }) #'D':np.array([8]*5, dtype='int64'),'F':'Pandas Example Practice'\n",
    "\n",
    "df = pd.DataFrame(x)\n",
    "# print(df)\n",
    "df\n",
    "df['t0']=0 #新增欄位\n",
    "df['t1']=np.NaN #新增欄位\n",
    "df['t2']=100 #新增欄位\n",
    "df"
   ]
  },
  {
   "cell_type": "code",
   "execution_count": 95,
   "metadata": {},
   "outputs": [
    {
     "name": "stdout",
     "output_type": "stream",
     "text": [
      "    Chinese  English  France  Total\n",
      "平       100      100     100    300\n",
      "京翰        0        0       0      0\n",
      "享俊       60       60      60    180\n"
     ]
    },
    {
     "data": {
      "text/plain": [
       "平     300\n",
       "京翰      0\n",
       "享俊    180\n",
       "Name: Total, dtype: int64"
      ]
     },
     "execution_count": 95,
     "metadata": {},
     "output_type": "execute_result"
    }
   ],
   "source": [
    "# pandas create a dataframe from dict\n",
    "x = ({'Chinese':100, 'English':100, 'France': 100, 'Total':300},\n",
    "     {'Chinese':0, 'English':0, 'France': 0, 'Total':0},\n",
    "     {'Chinese':60, 'English':60, 'France': 60, 'Total':180},)\n",
    "df = pd.DataFrame(x, index=['平', '京翰', '享俊'], columns=x[0].keys())\n",
    "print(df)\n",
    "df['Total']"
   ]
  }
 ],
 "metadata": {
  "kernelspec": {
   "display_name": "Python 3",
   "language": "python",
   "name": "python3"
  },
  "language_info": {
   "codemirror_mode": {
    "name": "ipython",
    "version": 3
   },
   "file_extension": ".py",
   "mimetype": "text/x-python",
   "name": "python",
   "nbconvert_exporter": "python",
   "pygments_lexer": "ipython3",
   "version": "3.7.7"
  }
 },
 "nbformat": 4,
 "nbformat_minor": 4
}
